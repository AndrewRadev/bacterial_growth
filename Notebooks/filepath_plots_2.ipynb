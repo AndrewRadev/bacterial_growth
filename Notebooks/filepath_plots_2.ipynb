{
 "cells": [
  {
   "cell_type": "code",
   "execution_count": 1,
   "id": "83b3d49b",
   "metadata": {},
   "outputs": [],
   "source": [
    "import os\n",
    "import mysql.connector\n",
    "import pandas as pd\n",
    "import numpy as np\n",
    "import matplotlib.pyplot as plt\n",
    "import seaborn as sns\n",
    "import re\n",
    "%matplotlib inline"
   ]
  },
  {
   "cell_type": "code",
   "execution_count": 2,
   "id": "98064137",
   "metadata": {},
   "outputs": [],
   "source": [
    "user_name = os.environ.get('DB_USER')\n",
    "password = os.environ.get('DB_PASSWORD')"
   ]
  },
  {
   "cell_type": "code",
   "execution_count": 3,
   "id": "f06439c7",
   "metadata": {},
   "outputs": [],
   "source": [
    "cnx = mysql.connector.connect(user=user_name, password=password,host='localhost',database='FilePaths')"
   ]
  },
  {
   "cell_type": "code",
   "execution_count": 4,
   "id": "db84638f",
   "metadata": {},
   "outputs": [],
   "source": [
    "# create cursor to read or write\n",
    "cursor = cnx.cursor()"
   ]
  },
  {
   "cell_type": "markdown",
   "id": "8e9fe85c",
   "metadata": {},
   "source": [
    "# Abundance plot of bacteria in a single replicate"
   ]
  },
  {
   "cell_type": "code",
   "execution_count": 7,
   "id": "de923262",
   "metadata": {},
   "outputs": [
    {
     "data": {
      "text/plain": [
       "'/Users/julia/bacterialGrowth_thesis/Data/BT_batch_mucin1/1/abundance_file.txt'"
      ]
     },
     "execution_count": 7,
     "metadata": {},
     "output_type": "execute_result"
    }
   ],
   "source": [
    "get_one_path = \"\"\"\n",
    "                SELECT *\n",
    "                FROM FilePath\n",
    "                WHERE filePath = '/Users/julia/bacterialGrowth_thesis/Data/BT_batch_mucin1/1/abundance_file.txt'\n",
    "                \"\"\"\n",
    "cursor.execute(get_one_path)\n",
    "record = cursor.fetchone()[0]\n",
    "record"
   ]
  },
  {
   "cell_type": "code",
   "execution_count": 8,
   "id": "bbc452de",
   "metadata": {},
   "outputs": [
    {
     "data": {
      "text/html": [
       "<div>\n",
       "<style scoped>\n",
       "    .dataframe tbody tr th:only-of-type {\n",
       "        vertical-align: middle;\n",
       "    }\n",
       "\n",
       "    .dataframe tbody tr th {\n",
       "        vertical-align: top;\n",
       "    }\n",
       "\n",
       "    .dataframe thead th {\n",
       "        text-align: right;\n",
       "    }\n",
       "</style>\n",
       "<table border=\"1\" class=\"dataframe\">\n",
       "  <thead>\n",
       "    <tr style=\"text-align: right;\">\n",
       "      <th></th>\n",
       "      <th>time</th>\n",
       "      <th>OD</th>\n",
       "      <th>liquidtotalcount</th>\n",
       "      <th>liquidactivecount</th>\n",
       "    </tr>\n",
       "  </thead>\n",
       "  <tbody>\n",
       "    <tr>\n",
       "      <th>0</th>\n",
       "      <td>0</td>\n",
       "      <td>0.014</td>\n",
       "      <td>4753</td>\n",
       "      <td>4109</td>\n",
       "    </tr>\n",
       "    <tr>\n",
       "      <th>1</th>\n",
       "      <td>4</td>\n",
       "      <td>0.024</td>\n",
       "      <td>17257</td>\n",
       "      <td>16616</td>\n",
       "    </tr>\n",
       "    <tr>\n",
       "      <th>2</th>\n",
       "      <td>8</td>\n",
       "      <td>0.211</td>\n",
       "      <td>228160</td>\n",
       "      <td>227030</td>\n",
       "    </tr>\n",
       "    <tr>\n",
       "      <th>3</th>\n",
       "      <td>12</td>\n",
       "      <td>0.657</td>\n",
       "      <td>763902</td>\n",
       "      <td>762292</td>\n",
       "    </tr>\n",
       "    <tr>\n",
       "      <th>4</th>\n",
       "      <td>16</td>\n",
       "      <td>0.868</td>\n",
       "      <td>1728989</td>\n",
       "      <td>1726829</td>\n",
       "    </tr>\n",
       "  </tbody>\n",
       "</table>\n",
       "</div>"
      ],
      "text/plain": [
       "   time     OD  liquidtotalcount  liquidactivecount\n",
       "0     0  0.014              4753               4109\n",
       "1     4  0.024             17257              16616\n",
       "2     8  0.211            228160             227030\n",
       "3    12  0.657            763902             762292\n",
       "4    16  0.868           1728989            1726829"
      ]
     },
     "execution_count": 8,
     "metadata": {},
     "output_type": "execute_result"
    }
   ],
   "source": [
    "growth_df = pd.read_csv(record, sep=\" \")\n",
    "growth_df.head()"
   ]
  },
  {
   "cell_type": "code",
   "execution_count": 9,
   "id": "27be7783",
   "metadata": {},
   "outputs": [
    {
     "data": {
      "image/png": "[encoded data removed]",
      "text/plain": [
       "<Figure size 432x288 with 1 Axes>"
      ]
     },
     "metadata": {
      "needs_background": "light"
     },
     "output_type": "display_data"
    },
    {
     "data": {
      "image/png": "[encoded data removed]",
      "text/plain": [
       "<Figure size 432x288 with 1 Axes>"
      ]
     },
     "metadata": {
      "needs_background": "light"
     },
     "output_type": "display_data"
    }
   ],
   "source": [
    "plt.plot('time', 'OD', data=growth_df, linestyle='-')\n",
    "plt.legend()\n",
    "plt.show()\n",
    "\n",
    "plt.plot('time', 'liquidtotalcount', data=growth_df, linestyle='-')\n",
    "plt.plot('time', 'liquidactivecount', data=growth_df, linestyle='-')\n",
    "plt.legend()\n",
    "plt.show()"
   ]
  },
  {
   "cell_type": "markdown",
   "id": "e5b9650f",
   "metadata": {},
   "source": [
    "# Abundance plot of bacteria in a single experiment/perturbation (mean and standard deviation os a set of replicates)\n",
    "\n",
    "For the moment, as I am working with a tmp database containing only the complete paths, I cannot run a query specifying an experiment name. I will use the LIKE flag to obtain the paths that I want.\n",
    "\n",
    "The aim is to obtain a df and from there a plot with the mean and average for a single experiment. \n",
    "\n",
    "In the future, when I work with the true db, the aim will be to get a df with the info from all the replicates and from there I will already have the code done."
   ]
  },
  {
   "cell_type": "code",
   "execution_count": 10,
   "id": "4552a598",
   "metadata": {},
   "outputs": [],
   "source": [
    "# This will go a function in the db script\n",
    "\n",
    "get_several_paths = \"\"\"\n",
    "                SELECT *\n",
    "                FROM FilePath\n",
    "                WHERE filePath like \"/Users/julia/bacterialGrowth_thesis/Data/BT_batch_mucin1%\"\n",
    "                \"\"\"\n",
    "cursor.execute(get_several_paths)\n",
    "records = cursor.fetchall()"
   ]
  },
  {
   "cell_type": "markdown",
   "id": "1851b961",
   "metadata": {},
   "source": [
    "## Be careful!!!!\n",
    "\n",
    "cursor.fetchall() --> returns a list of tuples!!!!\n",
    "\n",
    "getMatchingList --> returns a list of str!!!"
   ]
  },
  {
   "cell_type": "code",
   "execution_count": 11,
   "id": "d420f9b7",
   "metadata": {},
   "outputs": [
    {
     "data": {
      "text/plain": [
       "[('/Users/julia/bacterialGrowth_thesis/Data/BT_batch_mucin1/1/abundance_file.txt',),\n",
       " ('/Users/julia/bacterialGrowth_thesis/Data/BT_batch_mucin1/1/growth_file.txt',),\n",
       " ('/Users/julia/bacterialGrowth_thesis/Data/BT_batch_mucin1/1/metabolites_file.txt',),\n",
       " ('/Users/julia/bacterialGrowth_thesis/Data/BT_batch_mucin1/1/pH_file.txt',),\n",
       " ('/Users/julia/bacterialGrowth_thesis/Data/BT_batch_mucin1/2/abundance_file.txt',),\n",
       " ('/Users/julia/bacterialGrowth_thesis/Data/BT_batch_mucin1/2/growth_file.txt',),\n",
       " ('/Users/julia/bacterialGrowth_thesis/Data/BT_batch_mucin1/2/metabolites_file.txt',),\n",
       " ('/Users/julia/bacterialGrowth_thesis/Data/BT_batch_mucin1/2/pH_file.txt',),\n",
       " ('/Users/julia/bacterialGrowth_thesis/Data/BT_batch_mucin1/3/abundance_file.txt',),\n",
       " ('/Users/julia/bacterialGrowth_thesis/Data/BT_batch_mucin1/3/growth_file.txt',),\n",
       " ('/Users/julia/bacterialGrowth_thesis/Data/BT_batch_mucin1/3/metabolites_file.txt',),\n",
       " ('/Users/julia/bacterialGrowth_thesis/Data/BT_batch_mucin1/3/pH_file.txt',),\n",
       " ('/Users/julia/bacterialGrowth_thesis/Data/BT_batch_mucin1/4/abundance_file.txt',),\n",
       " ('/Users/julia/bacterialGrowth_thesis/Data/BT_batch_mucin1/4/growth_file.txt',),\n",
       " ('/Users/julia/bacterialGrowth_thesis/Data/BT_batch_mucin1/4/metabolites_file.txt',),\n",
       " ('/Users/julia/bacterialGrowth_thesis/Data/BT_batch_mucin1/4/pH_file.txt',),\n",
       " ('/Users/julia/bacterialGrowth_thesis/Data/BT_batch_mucin1/5/abundance_file.txt',),\n",
       " ('/Users/julia/bacterialGrowth_thesis/Data/BT_batch_mucin1/5/growth_file.txt',),\n",
       " ('/Users/julia/bacterialGrowth_thesis/Data/BT_batch_mucin1/5/metabolites_file.txt',),\n",
       " ('/Users/julia/bacterialGrowth_thesis/Data/BT_batch_mucin1/5/pH_file.txt',),\n",
       " ('/Users/julia/bacterialGrowth_thesis/Data/BT_batch_mucin1/6/abundance_file.txt',),\n",
       " ('/Users/julia/bacterialGrowth_thesis/Data/BT_batch_mucin1/6/growth_file.txt',),\n",
       " ('/Users/julia/bacterialGrowth_thesis/Data/BT_batch_mucin1/6/metabolites_file.txt',),\n",
       " ('/Users/julia/bacterialGrowth_thesis/Data/BT_batch_mucin1/6/pH_file.txt',),\n",
       " ('/Users/julia/bacterialGrowth_thesis/Data/BT_batch_mucin1/7/abundance_file.txt',),\n",
       " ('/Users/julia/bacterialGrowth_thesis/Data/BT_batch_mucin1/7/growth_file.txt',),\n",
       " ('/Users/julia/bacterialGrowth_thesis/Data/BT_batch_mucin1/7/metabolites_file.txt',),\n",
       " ('/Users/julia/bacterialGrowth_thesis/Data/BT_batch_mucin1/7/pH_file.txt',),\n",
       " ('/Users/julia/bacterialGrowth_thesis/Data/BT_batch_mucin1/8/abundance_file.txt',),\n",
       " ('/Users/julia/bacterialGrowth_thesis/Data/BT_batch_mucin1/8/growth_file.txt',),\n",
       " ('/Users/julia/bacterialGrowth_thesis/Data/BT_batch_mucin1/8/metabolites_file.txt',),\n",
       " ('/Users/julia/bacterialGrowth_thesis/Data/BT_batch_mucin1/8/pH_file.txt',),\n",
       " ('/Users/julia/bacterialGrowth_thesis/Data/BT_batch_mucin1/9/abundance_file.txt',),\n",
       " ('/Users/julia/bacterialGrowth_thesis/Data/BT_batch_mucin1/9/growth_file.txt',),\n",
       " ('/Users/julia/bacterialGrowth_thesis/Data/BT_batch_mucin1/9/metabolites_file.txt',),\n",
       " ('/Users/julia/bacterialGrowth_thesis/Data/BT_batch_mucin1/9/pH_file.txt',)]"
      ]
     },
     "execution_count": 11,
     "metadata": {},
     "output_type": "execute_result"
    }
   ],
   "source": [
    "records"
   ]
  },
  {
   "cell_type": "code",
   "execution_count": 12,
   "id": "11321cf8",
   "metadata": {},
   "outputs": [],
   "source": [
    "# Using regex so it is case insensitive and look for patterns inside words (not only complete words)\n",
    "\n",
    "def getMatchingList(regex, lst):\n",
    "    list = []\n",
    "    for word in lst:\n",
    "        if regex.findall(word[0]):\n",
    "            tup = (word[0],)\n",
    "            list.append(tup)\n",
    "    return list"
   ]
  },
  {
   "cell_type": "code",
   "execution_count": 13,
   "id": "e3d363d6",
   "metadata": {},
   "outputs": [
    {
     "data": {
      "text/plain": [
       "[('/Users/julia/bacterialGrowth_thesis/Data/BT_batch_mucin1/1/abundance_file.txt',),\n",
       " ('/Users/julia/bacterialGrowth_thesis/Data/BT_batch_mucin1/2/abundance_file.txt',),\n",
       " ('/Users/julia/bacterialGrowth_thesis/Data/BT_batch_mucin1/3/abundance_file.txt',),\n",
       " ('/Users/julia/bacterialGrowth_thesis/Data/BT_batch_mucin1/4/abundance_file.txt',),\n",
       " ('/Users/julia/bacterialGrowth_thesis/Data/BT_batch_mucin1/5/abundance_file.txt',),\n",
       " ('/Users/julia/bacterialGrowth_thesis/Data/BT_batch_mucin1/6/abundance_file.txt',),\n",
       " ('/Users/julia/bacterialGrowth_thesis/Data/BT_batch_mucin1/7/abundance_file.txt',),\n",
       " ('/Users/julia/bacterialGrowth_thesis/Data/BT_batch_mucin1/8/abundance_file.txt',),\n",
       " ('/Users/julia/bacterialGrowth_thesis/Data/BT_batch_mucin1/9/abundance_file.txt',)]"
      ]
     },
     "execution_count": 13,
     "metadata": {},
     "output_type": "execute_result"
    }
   ],
   "source": [
    "regex = re.compile(r'.*abundance*', flags=re.I | re.X)\n",
    "getMatchingList(regex, records)"
   ]
  },
  {
   "cell_type": "code",
   "execution_count": 14,
   "id": "0aab985f",
   "metadata": {},
   "outputs": [],
   "source": [
    "def choosePlot(records, tp):\n",
    "    regex = re.compile(r'.*{}*'.format(tp), flags=re.I | re.X)\n",
    "    lst = getMatchingList(regex, records)\n",
    "    return lst"
   ]
  },
  {
   "cell_type": "code",
   "execution_count": 17,
   "id": "6488a676",
   "metadata": {},
   "outputs": [
    {
     "data": {
      "text/plain": [
       "[('/Users/julia/bacterialGrowth_thesis/Data/BT_batch_mucin1/1/abundance_file.txt',),\n",
       " ('/Users/julia/bacterialGrowth_thesis/Data/BT_batch_mucin1/2/abundance_file.txt',),\n",
       " ('/Users/julia/bacterialGrowth_thesis/Data/BT_batch_mucin1/3/abundance_file.txt',),\n",
       " ('/Users/julia/bacterialGrowth_thesis/Data/BT_batch_mucin1/4/abundance_file.txt',),\n",
       " ('/Users/julia/bacterialGrowth_thesis/Data/BT_batch_mucin1/5/abundance_file.txt',),\n",
       " ('/Users/julia/bacterialGrowth_thesis/Data/BT_batch_mucin1/6/abundance_file.txt',),\n",
       " ('/Users/julia/bacterialGrowth_thesis/Data/BT_batch_mucin1/7/abundance_file.txt',),\n",
       " ('/Users/julia/bacterialGrowth_thesis/Data/BT_batch_mucin1/8/abundance_file.txt',),\n",
       " ('/Users/julia/bacterialGrowth_thesis/Data/BT_batch_mucin1/9/abundance_file.txt',)]"
      ]
     },
     "execution_count": 17,
     "metadata": {},
     "output_type": "execute_result"
    }
   ],
   "source": [
    "new_lst = choosePlot(records, 'abundance')\n",
    "new_lst"
   ]
  },
  {
   "cell_type": "code",
   "execution_count": 18,
   "id": "e863d8c8",
   "metadata": {},
   "outputs": [],
   "source": [
    "def getMeanStd(records, header):\n",
    "    df = pd.DataFrame(columns=range(len(records)+1)) #Each column will be the value of each record\n",
    "    \n",
    "    # Fill the df parsing all the records' files\n",
    "    for i, record in enumerate(records, 1):\n",
    "        record_df = pd.read_csv(record[0], sep=\" \")\n",
    "        df.iloc[:,i] = record_df[header]\n",
    "\n",
    "    # Calculate and keep mean and std\n",
    "    df_res = pd.DataFrame(columns=range(3))\n",
    "    df_res.set_axis(['time', 'mean', 'std'], axis='columns', inplace=True)\n",
    "    df_res['time'] = record_df['time']\n",
    "    df_res['mean'] = df.iloc[:,1:].mean(axis=1, numeric_only=True)\n",
    "    df_res['std'] = df.iloc[:,1:].std(axis=1, numeric_only=True)\n",
    "    \n",
    "    return df_res"
   ]
  },
  {
   "cell_type": "code",
   "execution_count": 19,
   "id": "f855465e",
   "metadata": {},
   "outputs": [],
   "source": [
    "OD_msd = getMeanStd(new_lst, 'OD')\n",
    "#OD_msd\n",
    "\n",
    "lqdactive_msd = getMeanStd(new_lst, 'liquidactivecount')\n",
    "#active_msd\n",
    "\n",
    "lqdtotal_msd = getMeanStd(new_lst, 'liquidtotalcount')\n",
    "#lqdtotal_msd"
   ]
  },
  {
   "cell_type": "code",
   "execution_count": 36,
   "id": "77d6ee06",
   "metadata": {},
   "outputs": [],
   "source": [
    "def plotOneExperiment(dfs):\n",
    "    fig = plt.figure()\n",
    "    ax = fig.add_subplot(111)\n",
    "    ax.set_xlabel('time', fontsize = 16)\n",
    "    ax.set_ylabel('abundance', fontsize = 16)\n",
    "    \n",
    "    cmap = plt.get_cmap(name='tab10')\n",
    "\n",
    "    for i, df in enumerate(dfs, 1):\n",
    "        ax.errorbar(df.iloc[:,0], df['mean'], yerr = df['std'], color = cmap(i-1))\n",
    "        \n",
    "    plt.show()"
   ]
  },
  {
   "cell_type": "code",
   "execution_count": 21,
   "id": "994bb8cd",
   "metadata": {},
   "outputs": [
    {
     "data": {
      "image/png": "[encoded data removed]",
      "text/plain": [
       "<Figure size 432x288 with 1 Axes>"
      ]
     },
     "metadata": {
      "needs_background": "light"
     },
     "output_type": "display_data"
    }
   ],
   "source": [
    "plotOneExperiment([OD_msd])"
   ]
  },
  {
   "cell_type": "code",
   "execution_count": 22,
   "id": "b77ab8a8",
   "metadata": {},
   "outputs": [
    {
     "data": {
      "image/png": "[encoded data removed]",
      "text/plain": [
       "<Figure size 432x288 with 1 Axes>"
      ]
     },
     "metadata": {
      "needs_background": "light"
     },
     "output_type": "display_data"
    }
   ],
   "source": [
    "plotOneExperiment([lqdactive_msd,lqdtotal_msd])"
   ]
  },
  {
   "cell_type": "code",
   "execution_count": null,
   "id": "27bcb990",
   "metadata": {},
   "outputs": [],
   "source": []
  },
  {
   "cell_type": "markdown",
   "id": "343f564a",
   "metadata": {},
   "source": [
    "# Metabolites plot of a single experiment/perturbation (mean and standard deviation os a set of replicates)"
   ]
  },
  {
   "cell_type": "code",
   "execution_count": 23,
   "id": "6a96c9cf",
   "metadata": {},
   "outputs": [
    {
     "data": {
      "text/plain": [
       "[('/Users/julia/bacterialGrowth_thesis/Data/BT_batch_mucin1/1/metabolites_file.txt',),\n",
       " ('/Users/julia/bacterialGrowth_thesis/Data/BT_batch_mucin1/2/metabolites_file.txt',),\n",
       " ('/Users/julia/bacterialGrowth_thesis/Data/BT_batch_mucin1/3/metabolites_file.txt',),\n",
       " ('/Users/julia/bacterialGrowth_thesis/Data/BT_batch_mucin1/4/metabolites_file.txt',),\n",
       " ('/Users/julia/bacterialGrowth_thesis/Data/BT_batch_mucin1/5/metabolites_file.txt',),\n",
       " ('/Users/julia/bacterialGrowth_thesis/Data/BT_batch_mucin1/6/metabolites_file.txt',),\n",
       " ('/Users/julia/bacterialGrowth_thesis/Data/BT_batch_mucin1/7/metabolites_file.txt',),\n",
       " ('/Users/julia/bacterialGrowth_thesis/Data/BT_batch_mucin1/8/metabolites_file.txt',),\n",
       " ('/Users/julia/bacterialGrowth_thesis/Data/BT_batch_mucin1/9/metabolites_file.txt',)]"
      ]
     },
     "execution_count": 23,
     "metadata": {},
     "output_type": "execute_result"
    }
   ],
   "source": [
    "new_lst = choosePlot(records, 'metabolites')\n",
    "new_lst"
   ]
  },
  {
   "cell_type": "code",
   "execution_count": 25,
   "id": "292189cb",
   "metadata": {},
   "outputs": [
    {
     "data": {
      "text/plain": [
       "'/Users/julia/bacterialGrowth_thesis/Data/BT_batch_mucin1/1/metabolites_file.txt'"
      ]
     },
     "execution_count": 25,
     "metadata": {},
     "output_type": "execute_result"
    }
   ],
   "source": [
    "new_lst[0][0]"
   ]
  },
  {
   "cell_type": "code",
   "execution_count": 26,
   "id": "124187e5",
   "metadata": {},
   "outputs": [
    {
     "data": {
      "text/html": [
       "<div>\n",
       "<style scoped>\n",
       "    .dataframe tbody tr th:only-of-type {\n",
       "        vertical-align: middle;\n",
       "    }\n",
       "\n",
       "    .dataframe tbody tr th {\n",
       "        vertical-align: top;\n",
       "    }\n",
       "\n",
       "    .dataframe thead th {\n",
       "        text-align: right;\n",
       "    }\n",
       "</style>\n",
       "<table border=\"1\" class=\"dataframe\">\n",
       "  <thead>\n",
       "    <tr style=\"text-align: right;\">\n",
       "      <th></th>\n",
       "      <th>time</th>\n",
       "      <th>Glucose</th>\n",
       "      <th>Pyruvate</th>\n",
       "      <th>Succinate</th>\n",
       "      <th>Lactate</th>\n",
       "      <th>Formate</th>\n",
       "      <th>Acetate</th>\n",
       "      <th>Neu5Ac</th>\n",
       "    </tr>\n",
       "  </thead>\n",
       "  <tbody>\n",
       "    <tr>\n",
       "      <th>0</th>\n",
       "      <td>0</td>\n",
       "      <td>7.60</td>\n",
       "      <td>7.94</td>\n",
       "      <td>0.61</td>\n",
       "      <td>0.58</td>\n",
       "      <td>1.57</td>\n",
       "      <td>2.17</td>\n",
       "      <td>1.29</td>\n",
       "    </tr>\n",
       "    <tr>\n",
       "      <th>1</th>\n",
       "      <td>4</td>\n",
       "      <td>7.53</td>\n",
       "      <td>7.96</td>\n",
       "      <td>0.66</td>\n",
       "      <td>0.58</td>\n",
       "      <td>1.78</td>\n",
       "      <td>2.23</td>\n",
       "      <td>1.27</td>\n",
       "    </tr>\n",
       "    <tr>\n",
       "      <th>2</th>\n",
       "      <td>8</td>\n",
       "      <td>6.89</td>\n",
       "      <td>8.21</td>\n",
       "      <td>1.22</td>\n",
       "      <td>0.62</td>\n",
       "      <td>2.32</td>\n",
       "      <td>3.12</td>\n",
       "      <td>1.26</td>\n",
       "    </tr>\n",
       "    <tr>\n",
       "      <th>3</th>\n",
       "      <td>12</td>\n",
       "      <td>4.42</td>\n",
       "      <td>7.14</td>\n",
       "      <td>3.78</td>\n",
       "      <td>1.32</td>\n",
       "      <td>3.80</td>\n",
       "      <td>6.07</td>\n",
       "      <td>1.28</td>\n",
       "    </tr>\n",
       "    <tr>\n",
       "      <th>4</th>\n",
       "      <td>16</td>\n",
       "      <td>1.44</td>\n",
       "      <td>3.55</td>\n",
       "      <td>6.17</td>\n",
       "      <td>2.98</td>\n",
       "      <td>2.92</td>\n",
       "      <td>9.52</td>\n",
       "      <td>1.27</td>\n",
       "    </tr>\n",
       "  </tbody>\n",
       "</table>\n",
       "</div>"
      ],
      "text/plain": [
       "   time  Glucose  Pyruvate  Succinate  Lactate  Formate  Acetate  Neu5Ac\n",
       "0     0     7.60      7.94       0.61     0.58     1.57     2.17    1.29\n",
       "1     4     7.53      7.96       0.66     0.58     1.78     2.23    1.27\n",
       "2     8     6.89      8.21       1.22     0.62     2.32     3.12    1.26\n",
       "3    12     4.42      7.14       3.78     1.32     3.80     6.07    1.28\n",
       "4    16     1.44      3.55       6.17     2.98     2.92     9.52    1.27"
      ]
     },
     "execution_count": 26,
     "metadata": {},
     "output_type": "execute_result"
    }
   ],
   "source": [
    "metabolites_df = pd.read_csv(new_lst[0][0], sep=\" \")\n",
    "metabolites_df.head()"
   ]
  },
  {
   "cell_type": "code",
   "execution_count": 32,
   "id": "0947b5aa",
   "metadata": {},
   "outputs": [],
   "source": [
    "glucose_msd = getMeanStd(new_lst, 'Glucose')\n",
    "pyruvate_msd = getMeanStd(new_lst, 'Pyruvate')\n",
    "succinate_msd = getMeanStd(new_lst, 'Succinate')\n",
    "lactate_msd = getMeanStd(new_lst, 'Lactate')\n",
    "formate_msd = getMeanStd(new_lst, 'Formate')\n",
    "acetate_msd = getMeanStd(new_lst, 'Acetate')\n",
    "neu5Ac_msd = getMeanStd(new_lst, 'Neu5Ac')"
   ]
  },
  {
   "cell_type": "code",
   "execution_count": 37,
   "id": "c4af2f40",
   "metadata": {},
   "outputs": [
    {
     "data": {
      "image/png": "[encoded data removed]",
      "text/plain": [
       "<Figure size 432x288 with 1 Axes>"
      ]
     },
     "metadata": {
      "needs_background": "light"
     },
     "output_type": "display_data"
    }
   ],
   "source": [
    "plotOneExperiment([glucose_msd,pyruvate_msd,succinate_msd,lactate_msd,formate_msd,acetate_msd,neu5Ac_msd])"
   ]
  },
  {
   "cell_type": "code",
   "execution_count": null,
   "id": "309dc26f",
   "metadata": {},
   "outputs": [],
   "source": []
  }
 ],
 "metadata": {
  "kernelspec": {
   "display_name": "Python 3",
   "language": "python",
   "name": "python3"
  },
  "language_info": {
   "codemirror_mode": {
    "name": "ipython",
    "version": 3
   },
   "file_extension": ".py",
   "mimetype": "text/x-python",
   "name": "python",
   "nbconvert_exporter": "python",
   "pygments_lexer": "ipython3",
   "version": "3.6.10"
  }
 },
 "nbformat": 4,
 "nbformat_minor": 5
}
