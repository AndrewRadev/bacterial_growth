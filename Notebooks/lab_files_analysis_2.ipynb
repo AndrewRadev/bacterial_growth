{
 "cells": [
  {
   "cell_type": "code",
   "execution_count": 1,
   "id": "d4c11965",
   "metadata": {},
   "outputs": [],
   "source": [
    "PROJECT_PATH='/Users/julia/bacterialGrowth_thesis/'\n",
    "FILES_PATH='/Users/julia/bacterialGrowth_thesis/MyExperiment/'"
   ]
  },
  {
   "cell_type": "code",
   "execution_count": 60,
   "id": "d58d33c9",
   "metadata": {},
   "outputs": [],
   "source": [
    "cd $PROJECT_PATH"
   ]
  },
  {
   "cell_type": "code",
   "execution_count": 54,
   "id": "cad98452",
   "metadata": {},
   "outputs": [
    {
     "name": "stdout",
     "output_type": "stream",
     "text": [
      "ls: /Users/julia/bacterialGrowth_thesis/Data: No such file or directory\n",
      "\n",
      "total 72\n",
      "-rw-r--r--@ 1 julia  staff  921 17 sep  2022 BT_batch_mucin1_1.txt\n",
      "-rw-r--r--@ 1 julia  staff  923 17 sep  2022 BT_batch_mucin1_2.txt\n",
      "-rw-r--r--@ 1 julia  staff  919 17 sep  2022 BT_batch_mucin1_3.txt\n",
      "-rw-r--r--@ 1 julia  staff  922 17 sep  2022 BT_batch_mucin1_4.txt\n",
      "-rw-r--r--@ 1 julia  staff  926 17 sep  2022 BT_batch_mucin1_5.txt\n",
      "-rw-r--r--@ 1 julia  staff  903 17 sep  2022 BT_batch_mucin1_6.txt\n",
      "-rw-r--r--@ 1 julia  staff  908 17 sep  2022 BT_batch_mucin1_7.txt\n",
      "-rw-r--r--@ 1 julia  staff  922 17 sep  2022 BT_batch_mucin1_8.txt\n",
      "-rw-r--r--@ 1 julia  staff  914 17 sep  2022 BT_batch_mucin1_9.txt\n",
      "\n",
      "ls: /Users/julia/bacterialGrowth_thesis/IntermediateFiles: No such file or directory\n"
     ]
    },
    {
     "ename": "",
     "evalue": "1",
     "output_type": "error",
     "traceback": []
    }
   ],
   "source": [
    "ls -lt $PROJECT_PATH'Data'\n",
    "echo ''\n",
    "ls -lt $FILES_PATH\n",
    "echo ''\n",
    "ls -lt $ls -lt $PROJECT_PATH'IntermediateFiles'"
   ]
  },
  {
   "cell_type": "code",
   "execution_count": 52,
   "id": "1f12ab80",
   "metadata": {},
   "outputs": [
    {
     "name": "stdout",
     "output_type": "stream",
     "text": [
      "total 8\n",
      "-rw-r--r--@ 1 julia  staff  914  1 abr 21:08 BT_batch_mucin1_9.txt\n"
     ]
    }
   ],
   "source": [
    "ls -lt $PROJECT_PATH'Data/BT_batch_mucin1/9'"
   ]
  },
  {
   "cell_type": "code",
   "execution_count": 61,
   "id": "30e65647",
   "metadata": {},
   "outputs": [
    {
     "name": "stdout",
     "output_type": "stream",
     "text": [
      "total 1280\n",
      "drwxr-xr-x  12 julia  staff     384  1 abr 21:12 Notebooks\n",
      "drwxr-xr-x@ 12 julia  staff     384  1 abr 20:39 MyExperiment\n",
      "drwxr-xr-x  19 julia  staff     608  1 abr 17:15 src\n",
      "drwxr-xr-x   8 julia  staff     256 30 mar 13:47 DB_scripts\n",
      "drwxr-xr-x   2 julia  staff      64 28 mar 13:30 files\n",
      "drwxr-xr-x  12 julia  staff     384 21 mar 18:00 Python_scripts\n",
      "drwxr-xr-x   9 julia  staff     288 15 mar 17:40 00_old\n",
      "-rw-r--r--   1 julia  staff     991  9 mar 16:33 commands.md\n",
      "-rwxr-xr-x   1 julia  staff      19 16 nov 20:48 README.md\n",
      "-rwxr-xr-x@  1 julia  staff  645442 20 oct 09:36 DataParsed.zip\n"
     ]
    }
   ],
   "source": [
    "rm -r IntermediateFiles/\n",
    "rm -r Data/\n",
    "ls -lt"
   ]
  },
  {
   "cell_type": "code",
   "execution_count": 62,
   "id": "b2faadfe",
   "metadata": {},
   "outputs": [],
   "source": [
    "# Create the directory in which all the intermediate files will be placed\n",
    "mkdir -p IntermediateFiles/"
   ]
  },
  {
   "cell_type": "code",
   "execution_count": 63,
   "id": "003bce13",
   "metadata": {},
   "outputs": [
    {
     "name": "stdout",
     "output_type": "stream",
     "text": [
      "total 72\n",
      "-rw-r--r--@ 1 julia  staff  921 17 sep  2022 BT_batch_mucin1_1.txt\n",
      "-rw-r--r--@ 1 julia  staff  923 17 sep  2022 BT_batch_mucin1_2.txt\n",
      "-rw-r--r--@ 1 julia  staff  919 17 sep  2022 BT_batch_mucin1_3.txt\n",
      "-rw-r--r--@ 1 julia  staff  922 17 sep  2022 BT_batch_mucin1_4.txt\n",
      "-rw-r--r--@ 1 julia  staff  926 17 sep  2022 BT_batch_mucin1_5.txt\n",
      "-rw-r--r--@ 1 julia  staff  903 17 sep  2022 BT_batch_mucin1_6.txt\n",
      "-rw-r--r--@ 1 julia  staff  908 17 sep  2022 BT_batch_mucin1_7.txt\n",
      "-rw-r--r--@ 1 julia  staff  922 17 sep  2022 BT_batch_mucin1_8.txt\n",
      "-rw-r--r--@ 1 julia  staff  914 17 sep  2022 BT_batch_mucin1_9.txt\n"
     ]
    }
   ],
   "source": [
    "ls -lt $FILES_PATH"
   ]
  },
  {
   "cell_type": "code",
   "execution_count": 64,
   "id": "3c775db3",
   "metadata": {},
   "outputs": [
    {
     "name": "stdout",
     "output_type": "stream",
     "text": [
      "/Users/julia/bacterialGrowth_thesis/MyExperiment/.DS_Store\n",
      "/Users/julia/bacterialGrowth_thesis/MyExperiment/BT_batch_mucin1_1.txt\n",
      "/Users/julia/bacterialGrowth_thesis/MyExperiment/BT_batch_mucin1_2.txt\n",
      "/Users/julia/bacterialGrowth_thesis/MyExperiment/BT_batch_mucin1_3.txt\n",
      "/Users/julia/bacterialGrowth_thesis/MyExperiment/BT_batch_mucin1_4.txt\n",
      "/Users/julia/bacterialGrowth_thesis/MyExperiment/BT_batch_mucin1_5.txt\n",
      "/Users/julia/bacterialGrowth_thesis/MyExperiment/BT_batch_mucin1_6.txt\n",
      "/Users/julia/bacterialGrowth_thesis/MyExperiment/BT_batch_mucin1_7.txt\n",
      "/Users/julia/bacterialGrowth_thesis/MyExperiment/BT_batch_mucin1_8.txt\n",
      "/Users/julia/bacterialGrowth_thesis/MyExperiment/BT_batch_mucin1_9.txt\n"
     ]
    }
   ],
   "source": [
    "FILES_PATH_MOD=${FILES_PATH:0:${#FILES_PATH}-1}\n",
    "find $FILES_PATH_MOD -type f | sort"
   ]
  },
  {
   "cell_type": "code",
   "execution_count": 65,
   "id": "71196acb",
   "metadata": {},
   "outputs": [
    {
     "name": "stdout",
     "output_type": "stream",
     "text": [
      "BT_batch_mucin1_1.txt\n",
      "BT_batch_mucin1_2.txt\n",
      "BT_batch_mucin1_3.txt\n",
      "BT_batch_mucin1_4.txt\n",
      "BT_batch_mucin1_5.txt\n",
      "BT_batch_mucin1_6.txt\n",
      "BT_batch_mucin1_7.txt\n",
      "BT_batch_mucin1_8.txt\n",
      "BT_batch_mucin1_9.txt\n"
     ]
    }
   ],
   "source": [
    "ls -lt  $FILES_PATH | grep -i .txt | awk '{print $9}' > IntermediateFiles/lab_files_names.txt\n",
    "ls -lt $FILES_PATH | grep -i .txt | awk '{print $9}'"
   ]
  },
  {
   "cell_type": "code",
   "execution_count": 66,
   "id": "96a61726",
   "metadata": {},
   "outputs": [
    {
     "name": "stdout",
     "output_type": "stream",
     "text": [
      "/Users/julia/bacterialGrowth_thesis/IntermediateFiles\n"
     ]
    }
   ],
   "source": [
    "cd $PROJECT_PATH'IntermediateFiles'\n",
    "pwd"
   ]
  },
  {
   "cell_type": "code",
   "execution_count": 67,
   "id": "807324e8",
   "metadata": {},
   "outputs": [
    {
     "name": "stdout",
     "output_type": "stream",
     "text": [
      "BT_batch_mucin1\n"
     ]
    }
   ],
   "source": [
    "awk '{print substr($1,1,length($1)-6)}' lab_files_names.txt | sort | uniq"
   ]
  },
  {
   "cell_type": "code",
   "execution_count": 68,
   "id": "5210e308",
   "metadata": {},
   "outputs": [
    {
     "name": "stdout",
     "output_type": "stream",
     "text": [
      "BT_batch_mucin1\n"
     ]
    }
   ],
   "source": [
    "awk '{print substr($1,1,length($1)-6)}' lab_files_names.txt | sort | uniq > lab_experiment_names.txt\n",
    "head lab_experiment_names.txt"
   ]
  },
  {
   "cell_type": "code",
   "execution_count": 69,
   "id": "bf98a65b",
   "metadata": {},
   "outputs": [],
   "source": [
    "cd $PROJECT_PATH'IntermediateFiles'\n",
    "rm -f lab_files_headers.txt"
   ]
  },
  {
   "cell_type": "code",
   "execution_count": 70,
   "id": "fd7809af",
   "metadata": {},
   "outputs": [
    {
     "name": "stdout",
     "output_type": "stream",
     "text": [
      "time OD pH Glucose Pyruvate Succinate Lactate Formate Acetate liquidtotalcount liquidactivecount Neu5Ac\n",
      "time OD pH Glucose Pyruvate Succinate Lactate Formate Acetate liquidtotalcount liquidactivecount Neu5Ac\n",
      "time OD pH Glucose Pyruvate Succinate Lactate Formate Acetate liquidtotalcount liquidactivecount Neu5Ac\n",
      "time OD pH Glucose Pyruvate Succinate Lactate Formate Acetate liquidtotalcount liquidactivecount Neu5Ac\n",
      "time OD pH Glucose Pyruvate Succinate Lactate Formate Acetate liquidtotalcount liquidactivecount Neu5Ac\n",
      "time OD pH Glucose Pyruvate Succinate Lactate Formate Acetate liquidtotalcount liquidactivecount Neu5Ac\n",
      "time OD pH Glucose Pyruvate Succinate Lactate Formate Acetate liquidtotalcount liquidactivecount Neu5Ac\n",
      "time OD pH Glucose Pyruvate Succinate Lactate Formate Acetate liquidtotalcount liquidactivecount Neu5Ac\n",
      "time OD pH Glucose Pyruvate Succinate Lactate Formate Acetate liquidtotalcount liquidactivecount Neu5Ac\n"
     ]
    }
   ],
   "source": [
    "while read -r file;\n",
    "    do\n",
    "        head -n 1 $FILES_PATH$file >> lab_files_headers.txt\n",
    "done < lab_files_names.txt\n",
    "\n",
    "head lab_files_headers.txt"
   ]
  },
  {
   "cell_type": "code",
   "execution_count": 71,
   "id": "6cc94bf4",
   "metadata": {},
   "outputs": [
    {
     "name": "stdout",
     "output_type": "stream",
     "text": [
      "Acetate\n",
      "Formate\n",
      "Glucose\n",
      "Lactate\n",
      "Neu5Ac\n",
      "OD\n",
      "Pyruvate\n",
      "Succinate\n",
      "liquidactivecount\n",
      "liquidtotalcount\n"
     ]
    }
   ],
   "source": [
    "cat lab_files_headers.txt | tr \" \" \"\\n\" | sort | uniq > lab_headers.txt\n",
    "head lab_headers.txt"
   ]
  },
  {
   "cell_type": "code",
   "execution_count": 72,
   "id": "d6742242",
   "metadata": {},
   "outputs": [],
   "source": [
    "rm -f experiments_info.txt"
   ]
  },
  {
   "cell_type": "code",
   "execution_count": 73,
   "id": "1f160e9a",
   "metadata": {},
   "outputs": [
    {
     "name": "stdout",
     "output_type": "stream",
     "text": [
      "file_name  experiment_name  replicate_number\n"
     ]
    }
   ],
   "source": [
    "echo 'file_name,experiment_name,replicate_number' | column -t -s \",\" > experiments_info.txt\n",
    "head experiments_info.txt"
   ]
  },
  {
   "cell_type": "code",
   "execution_count": 74,
   "id": "689b56b2",
   "metadata": {},
   "outputs": [],
   "source": [
    "while read -r file; do\n",
    "\n",
    "    file_name=$file\n",
    "    experiment_name=${file_name:0:${#file_name}-6}\n",
    "    replicate_number=${file_name:${#file_name}-5:1}\n",
    "    echo $file_name $experiment_name $replicate_number >> experiments_info.txt\n",
    "    \n",
    "done < lab_files_names.txt"
   ]
  },
  {
   "cell_type": "code",
   "execution_count": 75,
   "id": "2157802f",
   "metadata": {},
   "outputs": [
    {
     "name": "stdout",
     "output_type": "stream",
     "text": [
      "file_name  experiment_name  replicate_number\n",
      "BT_batch_mucin1_1.txt BT_batch_mucin1 1\n",
      "BT_batch_mucin1_2.txt BT_batch_mucin1 2\n",
      "BT_batch_mucin1_3.txt BT_batch_mucin1 3\n",
      "BT_batch_mucin1_4.txt BT_batch_mucin1 4\n",
      "BT_batch_mucin1_5.txt BT_batch_mucin1 5\n",
      "BT_batch_mucin1_6.txt BT_batch_mucin1 6\n",
      "BT_batch_mucin1_7.txt BT_batch_mucin1 7\n",
      "BT_batch_mucin1_8.txt BT_batch_mucin1 8\n",
      "BT_batch_mucin1_9.txt BT_batch_mucin1 9\n"
     ]
    }
   ],
   "source": [
    "head experiments_info.txt"
   ]
  },
  {
   "cell_type": "code",
   "execution_count": 76,
   "id": "5f1137a6",
   "metadata": {},
   "outputs": [],
   "source": [
    "tail -n +2 experiments_info.txt > experiments_info_mod.txt"
   ]
  },
  {
   "cell_type": "code",
   "execution_count": 84,
   "id": "e3ad75cf",
   "metadata": {},
   "outputs": [
    {
     "name": "stdout",
     "output_type": "stream",
     "text": [
      "BT_batch_mucin1_1.txt BT_batch_mucin1 1\n",
      "BT_batch_mucin1_2.txt BT_batch_mucin1 2\n",
      "BT_batch_mucin1_3.txt BT_batch_mucin1 3\n",
      "BT_batch_mucin1_4.txt BT_batch_mucin1 4\n",
      "BT_batch_mucin1_5.txt BT_batch_mucin1 5\n",
      "BT_batch_mucin1_6.txt BT_batch_mucin1 6\n",
      "BT_batch_mucin1_7.txt BT_batch_mucin1 7\n",
      "BT_batch_mucin1_8.txt BT_batch_mucin1 8\n",
      "BT_batch_mucin1_9.txt BT_batch_mucin1 9\n"
     ]
    }
   ],
   "source": [
    "head $PROJECT_PATH'IntermediateFiles/experiments_info_mod.txt'"
   ]
  },
  {
   "cell_type": "code",
   "execution_count": 86,
   "id": "a8893a8f",
   "metadata": {},
   "outputs": [
    {
     "name": "stdout",
     "output_type": "stream",
     "text": [
      "BT_batch_mucin1_1.txt BT_batch_mucin1 1\n",
      "BT_batch_mucin1\n",
      "1\n",
      "BT_batch_mucin1_1.txt\n",
      "/Users/julia/bacterialGrowth_thesis/MyExperiment/BT_batch_mucin1_1.txt\n",
      "/Users/julia/bacterialGrowth_thesis/Data/BT_batch_mucin1/1/\n",
      "/Users/julia/bacterialGrowth_thesis/Data/BT_batch_mucin1/1/BT_batch_mucin1_1.txt\n",
      "==========================================\n",
      "BT_batch_mucin1_2.txt BT_batch_mucin1 2\n",
      "BT_batch_mucin1\n",
      "2\n",
      "BT_batch_mucin1_2.txt\n",
      "/Users/julia/bacterialGrowth_thesis/MyExperiment/BT_batch_mucin1_2.txt\n",
      "/Users/julia/bacterialGrowth_thesis/Data/BT_batch_mucin1/2/\n",
      "/Users/julia/bacterialGrowth_thesis/Data/BT_batch_mucin1/2/BT_batch_mucin1_2.txt\n",
      "==========================================\n",
      "BT_batch_mucin1_3.txt BT_batch_mucin1 3\n",
      "BT_batch_mucin1\n",
      "3\n",
      "BT_batch_mucin1_3.txt\n",
      "/Users/julia/bacterialGrowth_thesis/MyExperiment/BT_batch_mucin1_3.txt\n",
      "/Users/julia/bacterialGrowth_thesis/Data/BT_batch_mucin1/3/\n",
      "/Users/julia/bacterialGrowth_thesis/Data/BT_batch_mucin1/3/BT_batch_mucin1_3.txt\n",
      "==========================================\n",
      "BT_batch_mucin1_4.txt BT_batch_mucin1 4\n",
      "BT_batch_mucin1\n",
      "4\n",
      "BT_batch_mucin1_4.txt\n",
      "/Users/julia/bacterialGrowth_thesis/MyExperiment/BT_batch_mucin1_4.txt\n",
      "/Users/julia/bacterialGrowth_thesis/Data/BT_batch_mucin1/4/\n",
      "/Users/julia/bacterialGrowth_thesis/Data/BT_batch_mucin1/4/BT_batch_mucin1_4.txt\n",
      "==========================================\n",
      "BT_batch_mucin1_5.txt BT_batch_mucin1 5\n",
      "BT_batch_mucin1\n",
      "5\n",
      "BT_batch_mucin1_5.txt\n",
      "/Users/julia/bacterialGrowth_thesis/MyExperiment/BT_batch_mucin1_5.txt\n",
      "/Users/julia/bacterialGrowth_thesis/Data/BT_batch_mucin1/5/\n",
      "/Users/julia/bacterialGrowth_thesis/Data/BT_batch_mucin1/5/BT_batch_mucin1_5.txt\n",
      "==========================================\n",
      "BT_batch_mucin1_6.txt BT_batch_mucin1 6\n",
      "BT_batch_mucin1\n",
      "6\n",
      "BT_batch_mucin1_6.txt\n",
      "/Users/julia/bacterialGrowth_thesis/MyExperiment/BT_batch_mucin1_6.txt\n",
      "/Users/julia/bacterialGrowth_thesis/Data/BT_batch_mucin1/6/\n",
      "/Users/julia/bacterialGrowth_thesis/Data/BT_batch_mucin1/6/BT_batch_mucin1_6.txt\n",
      "==========================================\n",
      "BT_batch_mucin1_7.txt BT_batch_mucin1 7\n",
      "BT_batch_mucin1\n",
      "7\n",
      "BT_batch_mucin1_7.txt\n",
      "/Users/julia/bacterialGrowth_thesis/MyExperiment/BT_batch_mucin1_7.txt\n",
      "/Users/julia/bacterialGrowth_thesis/Data/BT_batch_mucin1/7/\n",
      "/Users/julia/bacterialGrowth_thesis/Data/BT_batch_mucin1/7/BT_batch_mucin1_7.txt\n",
      "==========================================\n",
      "BT_batch_mucin1_8.txt BT_batch_mucin1 8\n",
      "BT_batch_mucin1\n",
      "8\n",
      "BT_batch_mucin1_8.txt\n",
      "/Users/julia/bacterialGrowth_thesis/MyExperiment/BT_batch_mucin1_8.txt\n",
      "/Users/julia/bacterialGrowth_thesis/Data/BT_batch_mucin1/8/\n",
      "/Users/julia/bacterialGrowth_thesis/Data/BT_batch_mucin1/8/BT_batch_mucin1_8.txt\n",
      "==========================================\n",
      "BT_batch_mucin1_9.txt BT_batch_mucin1 9\n",
      "BT_batch_mucin1\n",
      "9\n",
      "BT_batch_mucin1_9.txt\n",
      "/Users/julia/bacterialGrowth_thesis/MyExperiment/BT_batch_mucin1_9.txt\n",
      "/Users/julia/bacterialGrowth_thesis/Data/BT_batch_mucin1/9/\n",
      "/Users/julia/bacterialGrowth_thesis/Data/BT_batch_mucin1/9/BT_batch_mucin1_9.txt\n",
      "==========================================\n"
     ]
    }
   ],
   "source": [
    "cd $PROJECT_PATH\n",
    "mkdir -p Data/\n",
    "rm -f $PROJECT_PATH'IntermediateFiles/listOfFiles.list'\n",
    "while read -r line; do\n",
    "\n",
    "    echo $line\n",
    "\n",
    "    cd $PROJECT_PATH\n",
    "    experiment=$(echo $line | awk '{print $2}')\n",
    "    replicate=$(echo $line | awk '{print $3}')\n",
    "    file=$(echo $line | awk '{print $1}')\n",
    "    \n",
    "    echo $experiment\n",
    "    echo $replicate\n",
    "    echo $file\n",
    "    \n",
    "    cd $PROJECT_PATH'Data'\n",
    "    mkdir -p $experiment\n",
    "    mkdir -p $experiment/$replicate\n",
    "\n",
    "    path_origin=$FILES_PATH$file\n",
    "    path_destination=$PROJECT_PATH'Data/'$experiment/$replicate/\n",
    "    final_file=$path_destination$file\n",
    "    \n",
    "    echo $path_origin\n",
    "    echo $path_destination\n",
    "    echo $final_file\n",
    "    echo $final_file >> $PROJECT_PATH'IntermediateFiles/listOfFiles.list'\n",
    "    echo '=========================================='\n",
    "    cp $path_origin $path_destination\n",
    "\n",
    "done < IntermediateFiles/experiments_info_mod.txt"
   ]
  },
  {
   "cell_type": "raw",
   "id": "44f75602",
   "metadata": {},
   "source": [
    "echo $FILES_PATH\n",
    "FILES_PATH_MOD=${FILES_PATH:0:${#FILES_PATH}-1}\n",
    "echo $FILES_PATH_MOD"
   ]
  },
  {
   "cell_type": "raw",
   "id": "3caba117",
   "metadata": {},
   "source": [
    "find $PROJECT_PATH'MyData' -type f | sort\n",
    "#find $FILES_PATH -type f | sort\n"
   ]
  },
  {
   "cell_type": "raw",
   "id": "bdd3dba7",
   "metadata": {},
   "source": [
    "find $PROJECT_PATH'Data' -type f | sort > $PROJECT_PATH'IntermediateFiles/listOfFiles.list'"
   ]
  },
  {
   "cell_type": "code",
   "execution_count": null,
   "id": "40478664",
   "metadata": {},
   "outputs": [],
   "source": []
  },
  {
   "cell_type": "code",
   "execution_count": 79,
   "id": "5c32da1d",
   "metadata": {},
   "outputs": [
    {
     "name": "stdout",
     "output_type": "stream",
     "text": [
      "/Users/julia/bacterialGrowth_thesis/Data/BT_batch_mucin1/1/BT_batch_mucin1_1.txt\n",
      "/Users/julia/bacterialGrowth_thesis/Data/BT_batch_mucin1/2/BT_batch_mucin1_2.txt\n",
      "/Users/julia/bacterialGrowth_thesis/Data/BT_batch_mucin1/3/BT_batch_mucin1_3.txt\n",
      "/Users/julia/bacterialGrowth_thesis/Data/BT_batch_mucin1/4/BT_batch_mucin1_4.txt\n",
      "/Users/julia/bacterialGrowth_thesis/Data/BT_batch_mucin1/5/BT_batch_mucin1_5.txt\n",
      "/Users/julia/bacterialGrowth_thesis/Data/BT_batch_mucin1/6/BT_batch_mucin1_6.txt\n",
      "/Users/julia/bacterialGrowth_thesis/Data/BT_batch_mucin1/7/BT_batch_mucin1_7.txt\n",
      "/Users/julia/bacterialGrowth_thesis/Data/BT_batch_mucin1/8/BT_batch_mucin1_8.txt\n",
      "/Users/julia/bacterialGrowth_thesis/Data/BT_batch_mucin1/9/BT_batch_mucin1_9.txt\n"
     ]
    }
   ],
   "source": [
    "head $PROJECT_PATH'IntermediateFiles/listOfFiles.list'"
   ]
  },
  {
   "cell_type": "code",
   "execution_count": null,
   "id": "1d40f9a7",
   "metadata": {},
   "outputs": [],
   "source": []
  }
 ],
 "metadata": {
  "kernelspec": {
   "display_name": "Bash",
   "language": "bash",
   "name": "bash"
  },
  "language_info": {
   "codemirror_mode": "shell",
   "file_extension": ".sh",
   "mimetype": "text/x-sh",
   "name": "bash"
  }
 },
 "nbformat": 4,
 "nbformat_minor": 5
}
