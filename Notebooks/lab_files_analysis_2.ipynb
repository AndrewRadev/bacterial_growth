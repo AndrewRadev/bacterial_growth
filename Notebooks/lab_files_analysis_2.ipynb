{
 "cells": [
  {
   "cell_type": "code",
   "execution_count": 1,
   "id": "d4c11965",
   "metadata": {},
   "outputs": [],
   "source": [
    "PROJECT_PATH='/Users/julia/bacterialGrowth_thesis/'\n",
    "FILES_PATH='/Users/julia/bacterialGrowth_thesis/MyExperiment/'"
   ]
  },
  {
   "cell_type": "code",
   "execution_count": 2,
   "id": "d58d33c9",
   "metadata": {},
   "outputs": [],
   "source": [
    "cd $PROJECT_PATH"
   ]
  },
  {
   "cell_type": "code",
   "execution_count": 3,
   "id": "30e65647",
   "metadata": {},
   "outputs": [
    {
     "name": "stdout",
     "output_type": "stream",
     "text": [
      "total 1280\n",
      "drwxr-xr-x  11 julia  staff     352 17 mar 11:53 Notebooks\n",
      "drwxr-xr-x   9 julia  staff     288 15 mar 17:40 00_old\n",
      "drwxr-xr-x@ 12 julia  staff     384 15 mar 17:16 MyExperiment\n",
      "drwxr-xr-x   8 julia  staff     256 15 mar 15:31 Scripts\n",
      "drwxr-xr-x   7 julia  staff     224 12 mar 17:03 DB_scripts\n",
      "-rw-r--r--   1 julia  staff     991  9 mar 16:33 commands.md\n",
      "drwxr-xr-x  12 julia  staff     384  8 mar 19:35 Python_scripts\n",
      "-rwxr-xr-x   1 julia  staff      19 16 nov 20:48 README.md\n",
      "-rwxr-xr-x@  1 julia  staff  645442 20 oct 09:36 DataParsed.zip\n"
     ]
    }
   ],
   "source": [
    "rm -r IntermediateFiles/\n",
    "rm -r Data/\n",
    "ls -lt"
   ]
  },
  {
   "cell_type": "code",
   "execution_count": 4,
   "id": "b2faadfe",
   "metadata": {},
   "outputs": [],
   "source": [
    "# Create the directory in which all the intermediate files will be placed\n",
    "mkdir -p IntermediateFiles/"
   ]
  },
  {
   "cell_type": "code",
   "execution_count": 5,
   "id": "003bce13",
   "metadata": {},
   "outputs": [
    {
     "name": "stdout",
     "output_type": "stream",
     "text": [
      "total 72\n",
      "-rw-r--r--@ 1 julia  staff  921 17 sep 21:44 BT_batch_mucin1_1.txt\n",
      "-rw-r--r--@ 1 julia  staff  923 17 sep 21:44 BT_batch_mucin1_2.txt\n",
      "-rw-r--r--@ 1 julia  staff  919 17 sep 21:44 BT_batch_mucin1_3.txt\n",
      "-rw-r--r--@ 1 julia  staff  922 17 sep 21:44 BT_batch_mucin1_4.txt\n",
      "-rw-r--r--@ 1 julia  staff  926 17 sep 21:44 BT_batch_mucin1_5.txt\n",
      "-rw-r--r--@ 1 julia  staff  903 17 sep 21:44 BT_batch_mucin1_6.txt\n",
      "-rw-r--r--@ 1 julia  staff  908 17 sep 21:44 BT_batch_mucin1_7.txt\n",
      "-rw-r--r--@ 1 julia  staff  922 17 sep 21:44 BT_batch_mucin1_8.txt\n",
      "-rw-r--r--@ 1 julia  staff  914 17 sep 21:44 BT_batch_mucin1_9.txt\n"
     ]
    }
   ],
   "source": [
    "ls -lt $FILES_PATH"
   ]
  },
  {
   "cell_type": "code",
   "execution_count": 6,
   "id": "71196acb",
   "metadata": {},
   "outputs": [
    {
     "name": "stdout",
     "output_type": "stream",
     "text": [
      "BT_batch_mucin1_1.txt\n",
      "BT_batch_mucin1_2.txt\n",
      "BT_batch_mucin1_3.txt\n",
      "BT_batch_mucin1_4.txt\n",
      "BT_batch_mucin1_5.txt\n",
      "BT_batch_mucin1_6.txt\n",
      "BT_batch_mucin1_7.txt\n",
      "BT_batch_mucin1_8.txt\n",
      "BT_batch_mucin1_9.txt\n"
     ]
    }
   ],
   "source": [
    "ls -lt  $FILES_PATH | grep -i .txt | awk '{print $9}' > IntermediateFiles/lab_files_names.txt\n",
    "ls -lt $FILES_PATH | grep -i .txt | awk '{print $9}'"
   ]
  },
  {
   "cell_type": "code",
   "execution_count": 7,
   "id": "96a61726",
   "metadata": {},
   "outputs": [
    {
     "name": "stdout",
     "output_type": "stream",
     "text": [
      "/Users/julia/bacterialGrowth_thesis/IntermediateFiles\n"
     ]
    }
   ],
   "source": [
    "cd $PROJECT_PATH'IntermediateFiles'\n",
    "pwd"
   ]
  },
  {
   "cell_type": "code",
   "execution_count": 8,
   "id": "807324e8",
   "metadata": {},
   "outputs": [
    {
     "name": "stdout",
     "output_type": "stream",
     "text": [
      "BT_batch_mucin1\n"
     ]
    }
   ],
   "source": [
    "awk '{print substr($1,1,length($1)-6)}' lab_files_names.txt | sort | uniq"
   ]
  },
  {
   "cell_type": "code",
   "execution_count": 9,
   "id": "5210e308",
   "metadata": {},
   "outputs": [
    {
     "name": "stdout",
     "output_type": "stream",
     "text": [
      "BT_batch_mucin1\n"
     ]
    }
   ],
   "source": [
    "awk '{print substr($1,1,length($1)-6)}' lab_files_names.txt | sort | uniq > lab_experiment_names.txt\n",
    "head lab_experiment_names.txt"
   ]
  },
  {
   "cell_type": "code",
   "execution_count": 10,
   "id": "bf98a65b",
   "metadata": {},
   "outputs": [],
   "source": [
    "cd $PROJECT_PATH'IntermediateFiles'\n",
    "rm -f lab_files_headers.txt"
   ]
  },
  {
   "cell_type": "code",
   "execution_count": 11,
   "id": "fd7809af",
   "metadata": {},
   "outputs": [
    {
     "name": "stdout",
     "output_type": "stream",
     "text": [
      "time OD pH Glucose Pyruvate Succinate Lactate Formate Acetate liquidtotalcount liquidactivecount Neu5Ac\n",
      "time OD pH Glucose Pyruvate Succinate Lactate Formate Acetate liquidtotalcount liquidactivecount Neu5Ac\n",
      "time OD pH Glucose Pyruvate Succinate Lactate Formate Acetate liquidtotalcount liquidactivecount Neu5Ac\n",
      "time OD pH Glucose Pyruvate Succinate Lactate Formate Acetate liquidtotalcount liquidactivecount Neu5Ac\n",
      "time OD pH Glucose Pyruvate Succinate Lactate Formate Acetate liquidtotalcount liquidactivecount Neu5Ac\n",
      "time OD pH Glucose Pyruvate Succinate Lactate Formate Acetate liquidtotalcount liquidactivecount Neu5Ac\n",
      "time OD pH Glucose Pyruvate Succinate Lactate Formate Acetate liquidtotalcount liquidactivecount Neu5Ac\n",
      "time OD pH Glucose Pyruvate Succinate Lactate Formate Acetate liquidtotalcount liquidactivecount Neu5Ac\n",
      "time OD pH Glucose Pyruvate Succinate Lactate Formate Acetate liquidtotalcount liquidactivecount Neu5Ac\n"
     ]
    }
   ],
   "source": [
    "while read -r file;\n",
    "    do\n",
    "        head -n 1 $FILES_PATH$file >> lab_files_headers.txt\n",
    "done < lab_files_names.txt\n",
    "\n",
    "head lab_files_headers.txt"
   ]
  },
  {
   "cell_type": "code",
   "execution_count": 12,
   "id": "6cc94bf4",
   "metadata": {},
   "outputs": [
    {
     "name": "stdout",
     "output_type": "stream",
     "text": [
      "Acetate\n",
      "Formate\n",
      "Glucose\n",
      "Lactate\n",
      "Neu5Ac\n",
      "OD\n",
      "Pyruvate\n",
      "Succinate\n",
      "liquidactivecount\n",
      "liquidtotalcount\n"
     ]
    }
   ],
   "source": [
    "cat lab_files_headers.txt | tr \" \" \"\\n\" | sort | uniq > lab_headers.txt\n",
    "head lab_headers.txt"
   ]
  },
  {
   "cell_type": "code",
   "execution_count": 13,
   "id": "d6742242",
   "metadata": {},
   "outputs": [],
   "source": [
    "rm -f experiments_info.txt"
   ]
  },
  {
   "cell_type": "code",
   "execution_count": 14,
   "id": "1f160e9a",
   "metadata": {},
   "outputs": [
    {
     "name": "stdout",
     "output_type": "stream",
     "text": [
      "file_name  experiment_name  replicate_number\n"
     ]
    }
   ],
   "source": [
    "echo 'file_name,experiment_name,replicate_number' | column -t -s \",\" > experiments_info.txt\n",
    "head experiments_info.txt"
   ]
  },
  {
   "cell_type": "code",
   "execution_count": 15,
   "id": "689b56b2",
   "metadata": {},
   "outputs": [],
   "source": [
    "while read -r file; do\n",
    "\n",
    "    file_name=$file\n",
    "    experiment_name=${file_name:0:${#file_name}-6}\n",
    "    replicate_number=${file_name:${#file_name}-5:1}\n",
    "    echo $file_name $experiment_name $replicate_number >> experiments_info.txt\n",
    "    \n",
    "done < lab_files_names.txt"
   ]
  },
  {
   "cell_type": "code",
   "execution_count": 16,
   "id": "2157802f",
   "metadata": {},
   "outputs": [
    {
     "name": "stdout",
     "output_type": "stream",
     "text": [
      "file_name  experiment_name  replicate_number\n",
      "BT_batch_mucin1_1.txt BT_batch_mucin1 1\n",
      "BT_batch_mucin1_2.txt BT_batch_mucin1 2\n",
      "BT_batch_mucin1_3.txt BT_batch_mucin1 3\n",
      "BT_batch_mucin1_4.txt BT_batch_mucin1 4\n",
      "BT_batch_mucin1_5.txt BT_batch_mucin1 5\n",
      "BT_batch_mucin1_6.txt BT_batch_mucin1 6\n",
      "BT_batch_mucin1_7.txt BT_batch_mucin1 7\n",
      "BT_batch_mucin1_8.txt BT_batch_mucin1 8\n",
      "BT_batch_mucin1_9.txt BT_batch_mucin1 9\n"
     ]
    }
   ],
   "source": [
    "head experiments_info.txt"
   ]
  },
  {
   "cell_type": "code",
   "execution_count": 17,
   "id": "5f1137a6",
   "metadata": {},
   "outputs": [],
   "source": [
    "tail -n +2 experiments_info.txt > experiments_info_mod.txt"
   ]
  },
  {
   "cell_type": "code",
   "execution_count": 18,
   "id": "a8893a8f",
   "metadata": {},
   "outputs": [
    {
     "name": "stdout",
     "output_type": "stream",
     "text": [
      "/Users/julia/bacterialGrowth_thesis/MyExperiment/BT_batch_mucin1_1.txt\n",
      "/Users/julia/bacterialGrowth_thesis/Data/BT_batch_mucin1/1/\n",
      "==========================================\n",
      "/Users/julia/bacterialGrowth_thesis/MyExperiment/BT_batch_mucin1_2.txt\n",
      "/Users/julia/bacterialGrowth_thesis/Data/BT_batch_mucin1/2/\n",
      "==========================================\n",
      "/Users/julia/bacterialGrowth_thesis/MyExperiment/BT_batch_mucin1_3.txt\n",
      "/Users/julia/bacterialGrowth_thesis/Data/BT_batch_mucin1/3/\n",
      "==========================================\n",
      "/Users/julia/bacterialGrowth_thesis/MyExperiment/BT_batch_mucin1_4.txt\n",
      "/Users/julia/bacterialGrowth_thesis/Data/BT_batch_mucin1/4/\n",
      "==========================================\n",
      "/Users/julia/bacterialGrowth_thesis/MyExperiment/BT_batch_mucin1_5.txt\n",
      "/Users/julia/bacterialGrowth_thesis/Data/BT_batch_mucin1/5/\n",
      "==========================================\n",
      "/Users/julia/bacterialGrowth_thesis/MyExperiment/BT_batch_mucin1_6.txt\n",
      "/Users/julia/bacterialGrowth_thesis/Data/BT_batch_mucin1/6/\n",
      "==========================================\n",
      "/Users/julia/bacterialGrowth_thesis/MyExperiment/BT_batch_mucin1_7.txt\n",
      "/Users/julia/bacterialGrowth_thesis/Data/BT_batch_mucin1/7/\n",
      "==========================================\n",
      "/Users/julia/bacterialGrowth_thesis/MyExperiment/BT_batch_mucin1_8.txt\n",
      "/Users/julia/bacterialGrowth_thesis/Data/BT_batch_mucin1/8/\n",
      "==========================================\n",
      "/Users/julia/bacterialGrowth_thesis/MyExperiment/BT_batch_mucin1_9.txt\n",
      "/Users/julia/bacterialGrowth_thesis/Data/BT_batch_mucin1/9/\n",
      "==========================================\n"
     ]
    }
   ],
   "source": [
    "cd $PROJECT_PATH\n",
    "mkdir -p Data/\n",
    "while read -r line; do\n",
    "\n",
    "    experiment=$(echo $line | awk '{print $2}')\n",
    "    replicate=$(echo $line | awk '{print $3}')\n",
    "    \n",
    "    file=$(echo $line | awk '{print $1}')\n",
    "    \n",
    "    cd $PROJECT_PATH'Data'\n",
    "    mkdir -p $experiment\n",
    "    mkdir -p $experiment/$replicate\n",
    "\n",
    "    path_origin=$FILES_PATH$file\n",
    "    path_destination=$PROJECT_PATH'Data/'$experiment/$replicate/\n",
    "    \n",
    "    echo $path_origin\n",
    "    echo $path_destination\n",
    "    echo '=========================================='\n",
    "    cp $path_origin $path_destination\n",
    "\n",
    "done < IntermediateFiles/experiments_info_mod.txt"
   ]
  },
  {
   "cell_type": "code",
   "execution_count": 20,
   "id": "e1769989",
   "metadata": {},
   "outputs": [
    {
     "name": "stdout",
     "output_type": "stream",
     "text": [
      "/Users/julia/bacterialGrowth_thesis/Data/BT_batch_mucin1/1/BT_batch_mucin1_1.txt\n",
      "/Users/julia/bacterialGrowth_thesis/Data/BT_batch_mucin1/2/BT_batch_mucin1_2.txt\n",
      "/Users/julia/bacterialGrowth_thesis/Data/BT_batch_mucin1/3/BT_batch_mucin1_3.txt\n",
      "/Users/julia/bacterialGrowth_thesis/Data/BT_batch_mucin1/4/BT_batch_mucin1_4.txt\n",
      "/Users/julia/bacterialGrowth_thesis/Data/BT_batch_mucin1/5/BT_batch_mucin1_5.txt\n",
      "/Users/julia/bacterialGrowth_thesis/Data/BT_batch_mucin1/6/BT_batch_mucin1_6.txt\n",
      "/Users/julia/bacterialGrowth_thesis/Data/BT_batch_mucin1/7/BT_batch_mucin1_7.txt\n",
      "/Users/julia/bacterialGrowth_thesis/Data/BT_batch_mucin1/8/BT_batch_mucin1_8.txt\n",
      "/Users/julia/bacterialGrowth_thesis/Data/BT_batch_mucin1/9/BT_batch_mucin1_9.txt\n"
     ]
    }
   ],
   "source": [
    "find $PROJECT_PATH'Data' -type f | sort"
   ]
  },
  {
   "cell_type": "code",
   "execution_count": 22,
   "id": "2004a535",
   "metadata": {},
   "outputs": [],
   "source": [
    "find $PROJECT_PATH'Data' -type f | sort > $PROJECT_PATH'IntermediateFiles/listOfFiles.list'"
   ]
  },
  {
   "cell_type": "code",
   "execution_count": null,
   "id": "5c32da1d",
   "metadata": {},
   "outputs": [],
   "source": []
  }
 ],
 "metadata": {
  "kernelspec": {
   "display_name": "Bash",
   "language": "bash",
   "name": "bash"
  },
  "language_info": {
   "codemirror_mode": "shell",
   "file_extension": ".sh",
   "mimetype": "text/x-sh",
   "name": "bash"
  }
 },
 "nbformat": 4,
 "nbformat_minor": 5
}
