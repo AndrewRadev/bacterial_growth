{
 "cells": [
  {
   "cell_type": "code",
   "execution_count": 2,
   "id": "83b3d49b",
   "metadata": {},
   "outputs": [],
   "source": [
    "import os\n",
    "import mysql.connector\n",
    "import pandas as pd\n",
    "import numpy as np\n",
    "import matplotlib.pyplot as plt\n",
    "import seaborn as sns\n",
    "import re\n",
    "%matplotlib inline"
   ]
  },
  {
   "cell_type": "code",
   "execution_count": 10,
   "id": "98064137",
   "metadata": {},
   "outputs": [],
   "source": [
    "user_name = os.environ.get('DB_USER')\n",
    "password = os.environ.get('DB_PASSWORD')"
   ]
  },
  {
   "cell_type": "code",
   "execution_count": 225,
   "id": "f06439c7",
   "metadata": {},
   "outputs": [],
   "source": [
    "cnx = mysql.connector.connect(user=user_name, password=password,host='localhost',database='FilePaths')"
   ]
  },
  {
   "cell_type": "code",
   "execution_count": 226,
   "id": "db84638f",
   "metadata": {},
   "outputs": [],
   "source": [
    "# create cursor to read or write\n",
    "cursor = cnx.cursor()"
   ]
  },
  {
   "cell_type": "markdown",
   "id": "8e9fe85c",
   "metadata": {},
   "source": [
    "# Abundance plot of bacteria in a single replicate"
   ]
  },
  {
   "cell_type": "code",
   "execution_count": 60,
   "id": "de923262",
   "metadata": {},
   "outputs": [
    {
     "data": {
      "text/plain": [
       "'/Users/julia/bacterialGrowth_thesis/Data/BT_batch_mucin1/6/growth_file.txt'"
      ]
     },
     "execution_count": 60,
     "metadata": {},
     "output_type": "execute_result"
    }
   ],
   "source": [
    "get_one_path = \"\"\"\n",
    "                SELECT *\n",
    "                FROM FilePath\n",
    "                WHERE filePath = '/Users/julia/bacterialGrowth_thesis/Data/BT_batch_mucin1/6/growth_file.txt'\n",
    "                \"\"\"\n",
    "cursor.execute(get_one_path)\n",
    "record = cursor.fetchone()[0]\n",
    "record"
   ]
  },
  {
   "cell_type": "code",
   "execution_count": 73,
   "id": "bbc452de",
   "metadata": {},
   "outputs": [
    {
     "data": {
      "text/html": [
       "<div>\n",
       "<style scoped>\n",
       "    .dataframe tbody tr th:only-of-type {\n",
       "        vertical-align: middle;\n",
       "    }\n",
       "\n",
       "    .dataframe tbody tr th {\n",
       "        vertical-align: top;\n",
       "    }\n",
       "\n",
       "    .dataframe thead th {\n",
       "        text-align: right;\n",
       "    }\n",
       "</style>\n",
       "<table border=\"1\" class=\"dataframe\">\n",
       "  <thead>\n",
       "    <tr style=\"text-align: right;\">\n",
       "      <th></th>\n",
       "      <th>time</th>\n",
       "      <th>OD</th>\n",
       "      <th>liquidtotalcount</th>\n",
       "      <th>liquidactivecount</th>\n",
       "    </tr>\n",
       "  </thead>\n",
       "  <tbody>\n",
       "    <tr>\n",
       "      <th>0</th>\n",
       "      <td>0</td>\n",
       "      <td>0.006</td>\n",
       "      <td>3842</td>\n",
       "      <td>3347</td>\n",
       "    </tr>\n",
       "    <tr>\n",
       "      <th>1</th>\n",
       "      <td>4</td>\n",
       "      <td>0.020</td>\n",
       "      <td>21384</td>\n",
       "      <td>20822</td>\n",
       "    </tr>\n",
       "    <tr>\n",
       "      <th>2</th>\n",
       "      <td>8</td>\n",
       "      <td>0.235</td>\n",
       "      <td>274151</td>\n",
       "      <td>273211</td>\n",
       "    </tr>\n",
       "    <tr>\n",
       "      <th>3</th>\n",
       "      <td>12</td>\n",
       "      <td>0.657</td>\n",
       "      <td>687792</td>\n",
       "      <td>686372</td>\n",
       "    </tr>\n",
       "    <tr>\n",
       "      <th>4</th>\n",
       "      <td>16</td>\n",
       "      <td>0.845</td>\n",
       "      <td>866130</td>\n",
       "      <td>864670</td>\n",
       "    </tr>\n",
       "  </tbody>\n",
       "</table>\n",
       "</div>"
      ],
      "text/plain": [
       "   time     OD  liquidtotalcount  liquidactivecount\n",
       "0     0  0.006              3842               3347\n",
       "1     4  0.020             21384              20822\n",
       "2     8  0.235            274151             273211\n",
       "3    12  0.657            687792             686372\n",
       "4    16  0.845            866130             864670"
      ]
     },
     "execution_count": 73,
     "metadata": {},
     "output_type": "execute_result"
    }
   ],
   "source": [
    "growth_df = pd.read_csv(record, sep=\" \")\n",
    "growth_df.head()"
   ]
  },
  {
   "cell_type": "code",
   "execution_count": 213,
   "id": "27be7783",
   "metadata": {},
   "outputs": [
    {
     "data": {
      "image/png": "[encoded data removed]",
      "text/plain": [
       "<Figure size 432x288 with 1 Axes>"
      ]
     },
     "metadata": {
      "needs_background": "light"
     },
     "output_type": "display_data"
    },
    {
     "data": {
      "image/png": "[encoded data removed]",
      "text/plain": [
       "<Figure size 432x288 with 1 Axes>"
      ]
     },
     "metadata": {
      "needs_background": "light"
     },
     "output_type": "display_data"
    }
   ],
   "source": [
    "plt.plot('time', 'OD', data=growth_df, linestyle='-')\n",
    "plt.legend()\n",
    "plt.show()\n",
    "\n",
    "plt.plot('time', 'liquidtotalcount', data=growth_df, linestyle='-')\n",
    "plt.plot('time', 'liquidactivecount', data=growth_df, linestyle='-')\n",
    "plt.legend()\n",
    "plt.show()"
   ]
  },
  {
   "cell_type": "markdown",
   "id": "e5b9650f",
   "metadata": {},
   "source": [
    "# Abundance plot of bacteria in a single experiment/perturbation (mean and standard deviation os a set of replicates)\n",
    "\n",
    "For the moment, as I am working with a tmp database containing only the complete paths, I cannot run a query specifying an experiment name. I will use the LIKE flag to obtain the paths that I want.\n",
    "\n",
    "The aim is to obtain a df and from there a plot with the mean and average for a single experiment. \n",
    "\n",
    "In the future, when I work with the true db, the aim will be to get a df with the info from all the replicates and from there I will already have the code done."
   ]
  },
  {
   "cell_type": "code",
   "execution_count": 262,
   "id": "4552a598",
   "metadata": {},
   "outputs": [],
   "source": [
    "# This will go a function in the db script\n",
    "\n",
    "get_several_paths = \"\"\"\n",
    "                SELECT *\n",
    "                FROM FilePath\n",
    "                WHERE filePath like \"/Users/julia/bacterialGrowth_thesis/Data/BT_batch_mucin1%\"\n",
    "                \"\"\"\n",
    "cursor.execute(get_several_paths)\n",
    "records = cursor.fetchall()"
   ]
  },
  {
   "cell_type": "markdown",
   "id": "1851b961",
   "metadata": {},
   "source": [
    "## Be careful!!!!\n",
    "\n",
    "cursor.fetchall() --> returns a list of tuples!!!!\n",
    "\n",
    "getMatchingList --> returns a list of str!!!"
   ]
  },
  {
   "cell_type": "code",
   "execution_count": 263,
   "id": "d420f9b7",
   "metadata": {},
   "outputs": [
    {
     "data": {
      "text/plain": [
       "[('/Users/julia/bacterialGrowth_thesis/Data/BT_batch_mucin1/1/abundance_file.txt',),\n",
       " ('/Users/julia/bacterialGrowth_thesis/Data/BT_batch_mucin1/1/growth_file.txt',),\n",
       " ('/Users/julia/bacterialGrowth_thesis/Data/BT_batch_mucin1/1/metabolites_file.txt',),\n",
       " ('/Users/julia/bacterialGrowth_thesis/Data/BT_batch_mucin1/1/pH_file.txt',),\n",
       " ('/Users/julia/bacterialGrowth_thesis/Data/BT_batch_mucin1/2/abundance_file.txt',),\n",
       " ('/Users/julia/bacterialGrowth_thesis/Data/BT_batch_mucin1/2/growth_file.txt',),\n",
       " ('/Users/julia/bacterialGrowth_thesis/Data/BT_batch_mucin1/2/metabolites_file.txt',),\n",
       " ('/Users/julia/bacterialGrowth_thesis/Data/BT_batch_mucin1/2/pH_file.txt',),\n",
       " ('/Users/julia/bacterialGrowth_thesis/Data/BT_batch_mucin1/3/abundance_file.txt',),\n",
       " ('/Users/julia/bacterialGrowth_thesis/Data/BT_batch_mucin1/3/growth_file.txt',),\n",
       " ('/Users/julia/bacterialGrowth_thesis/Data/BT_batch_mucin1/3/metabolites_file.txt',),\n",
       " ('/Users/julia/bacterialGrowth_thesis/Data/BT_batch_mucin1/3/pH_file.txt',),\n",
       " ('/Users/julia/bacterialGrowth_thesis/Data/BT_batch_mucin1/4/abundance_file.txt',),\n",
       " ('/Users/julia/bacterialGrowth_thesis/Data/BT_batch_mucin1/4/growth_file.txt',),\n",
       " ('/Users/julia/bacterialGrowth_thesis/Data/BT_batch_mucin1/4/metabolites_file.txt',),\n",
       " ('/Users/julia/bacterialGrowth_thesis/Data/BT_batch_mucin1/4/pH_file.txt',),\n",
       " ('/Users/julia/bacterialGrowth_thesis/Data/BT_batch_mucin1/5/abundance_file.txt',),\n",
       " ('/Users/julia/bacterialGrowth_thesis/Data/BT_batch_mucin1/5/growth_file.txt',),\n",
       " ('/Users/julia/bacterialGrowth_thesis/Data/BT_batch_mucin1/5/metabolites_file.txt',),\n",
       " ('/Users/julia/bacterialGrowth_thesis/Data/BT_batch_mucin1/5/pH_file.txt',),\n",
       " ('/Users/julia/bacterialGrowth_thesis/Data/BT_batch_mucin1/6/abundance_file.txt',),\n",
       " ('/Users/julia/bacterialGrowth_thesis/Data/BT_batch_mucin1/6/growth_file.txt',),\n",
       " ('/Users/julia/bacterialGrowth_thesis/Data/BT_batch_mucin1/6/metabolites_file.txt',),\n",
       " ('/Users/julia/bacterialGrowth_thesis/Data/BT_batch_mucin1/6/pH_file.txt',),\n",
       " ('/Users/julia/bacterialGrowth_thesis/Data/BT_batch_mucin1/7/abundance_file.txt',),\n",
       " ('/Users/julia/bacterialGrowth_thesis/Data/BT_batch_mucin1/7/growth_file.txt',),\n",
       " ('/Users/julia/bacterialGrowth_thesis/Data/BT_batch_mucin1/7/metabolites_file.txt',),\n",
       " ('/Users/julia/bacterialGrowth_thesis/Data/BT_batch_mucin1/7/pH_file.txt',),\n",
       " ('/Users/julia/bacterialGrowth_thesis/Data/BT_batch_mucin1/8/abundance_file.txt',),\n",
       " ('/Users/julia/bacterialGrowth_thesis/Data/BT_batch_mucin1/8/growth_file.txt',),\n",
       " ('/Users/julia/bacterialGrowth_thesis/Data/BT_batch_mucin1/8/metabolites_file.txt',),\n",
       " ('/Users/julia/bacterialGrowth_thesis/Data/BT_batch_mucin1/8/pH_file.txt',),\n",
       " ('/Users/julia/bacterialGrowth_thesis/Data/BT_batch_mucin1/9/abundance_file.txt',),\n",
       " ('/Users/julia/bacterialGrowth_thesis/Data/BT_batch_mucin1/9/growth_file.txt',),\n",
       " ('/Users/julia/bacterialGrowth_thesis/Data/BT_batch_mucin1/9/metabolites_file.txt',),\n",
       " ('/Users/julia/bacterialGrowth_thesis/Data/BT_batch_mucin1/9/pH_file.txt',)]"
      ]
     },
     "execution_count": 263,
     "metadata": {},
     "output_type": "execute_result"
    }
   ],
   "source": [
    "records"
   ]
  },
  {
   "cell_type": "code",
   "execution_count": 252,
   "id": "11321cf8",
   "metadata": {},
   "outputs": [],
   "source": [
    "# Using regex so it is case insensitive and look for patterns inside words (not only complete words)\n",
    "\n",
    "def getMatchingList(regex, lst):\n",
    "    list = []\n",
    "    for word in lst:\n",
    "        if regex.findall(word[0]):\n",
    "            tup = (word[0],)\n",
    "            list.append(tup)\n",
    "    return list"
   ]
  },
  {
   "cell_type": "code",
   "execution_count": 253,
   "id": "e3d363d6",
   "metadata": {},
   "outputs": [
    {
     "data": {
      "text/plain": [
       "[('/Users/julia/bacterialGrowth_thesis/Data/BT_batch_mucin1/1/abundance_file.txt',),\n",
       " ('/Users/julia/bacterialGrowth_thesis/Data/BT_batch_mucin1/2/abundance_file.txt',),\n",
       " ('/Users/julia/bacterialGrowth_thesis/Data/BT_batch_mucin1/3/abundance_file.txt',),\n",
       " ('/Users/julia/bacterialGrowth_thesis/Data/BT_batch_mucin1/4/abundance_file.txt',),\n",
       " ('/Users/julia/bacterialGrowth_thesis/Data/BT_batch_mucin1/5/abundance_file.txt',),\n",
       " ('/Users/julia/bacterialGrowth_thesis/Data/BT_batch_mucin1/6/abundance_file.txt',),\n",
       " ('/Users/julia/bacterialGrowth_thesis/Data/BT_batch_mucin1/7/abundance_file.txt',),\n",
       " ('/Users/julia/bacterialGrowth_thesis/Data/BT_batch_mucin1/8/abundance_file.txt',),\n",
       " ('/Users/julia/bacterialGrowth_thesis/Data/BT_batch_mucin1/9/abundance_file.txt',)]"
      ]
     },
     "execution_count": 253,
     "metadata": {},
     "output_type": "execute_result"
    }
   ],
   "source": [
    "regex = re.compile(r'.*abundance*', flags=re.I | re.X)\n",
    "getMatchingList(regex, records)"
   ]
  },
  {
   "cell_type": "code",
   "execution_count": 254,
   "id": "0aab985f",
   "metadata": {},
   "outputs": [],
   "source": [
    "def choosePlot(records, tp):\n",
    "    regex = re.compile(r'.*{}*'.format(tp), flags=re.I | re.X)\n",
    "    lst = getMatchingList(regex, records)\n",
    "    return lst"
   ]
  },
  {
   "cell_type": "code",
   "execution_count": 268,
   "id": "6488a676",
   "metadata": {},
   "outputs": [
    {
     "data": {
      "text/plain": [
       "[('/Users/julia/bacterialGrowth_thesis/Data/BT_batch_mucin1/1/abundance_file.txt',),\n",
       " ('/Users/julia/bacterialGrowth_thesis/Data/BT_batch_mucin1/2/abundance_file.txt',),\n",
       " ('/Users/julia/bacterialGrowth_thesis/Data/BT_batch_mucin1/3/abundance_file.txt',),\n",
       " ('/Users/julia/bacterialGrowth_thesis/Data/BT_batch_mucin1/4/abundance_file.txt',),\n",
       " ('/Users/julia/bacterialGrowth_thesis/Data/BT_batch_mucin1/5/abundance_file.txt',),\n",
       " ('/Users/julia/bacterialGrowth_thesis/Data/BT_batch_mucin1/6/abundance_file.txt',),\n",
       " ('/Users/julia/bacterialGrowth_thesis/Data/BT_batch_mucin1/7/abundance_file.txt',),\n",
       " ('/Users/julia/bacterialGrowth_thesis/Data/BT_batch_mucin1/8/abundance_file.txt',),\n",
       " ('/Users/julia/bacterialGrowth_thesis/Data/BT_batch_mucin1/9/abundance_file.txt',)]"
      ]
     },
     "execution_count": 268,
     "metadata": {},
     "output_type": "execute_result"
    }
   ],
   "source": [
    "new_lst = choosePlot(records, 'abundance')\n",
    "new_lst"
   ]
  },
  {
   "cell_type": "raw",
   "id": "78a60fb4",
   "metadata": {},
   "source": [
    "first_df = pd.read_csv((records[0])[0], sep=\" \")\n",
    "max_values = pd.DataFrame().reindex_like(first_df)\n",
    "min_values = pd.DataFrame().reindex_like(first_df)\n",
    "sum_values = pd.DataFrame().reindex_like(first_df)\n",
    "\n",
    "for i, record in enumerate(records, 1):\n",
    "    #print(i)\n",
    "    record_df = pd.read_csv(record[0], sep=\" \")\n",
    "    #print(list(record_df.columns))\n",
    "    #print(record_df.shape)\n",
    "    \n",
    "    max_values = pd.concat([record_df, max_values]).max(level=0)\n",
    "    min_values = pd.concat([record_df, min_values]).min(level=0)\n",
    "    sum_values = sum_values.add(record_df, fill_value=0)"
   ]
  },
  {
   "cell_type": "raw",
   "id": "2d27ecbe",
   "metadata": {},
   "source": [
    "avg_values = sum_values/len(records)\n",
    "avg_values['time'] = max_values['time']\n",
    "avg_values"
   ]
  },
  {
   "cell_type": "raw",
   "id": "cfd1fbb4",
   "metadata": {},
   "source": [
    "avg_values.plot(x='time', y=['liquidtotalcount', 'liquidactivecount'])\n",
    "max_values.plot(x='time', y=['liquidtotalcount', 'liquidactivecount'])\n",
    "min_values.plot(x='time', y=['liquidtotalcount', 'liquidactivecount'])\n",
    "#plt.plot('time', ['liquidtotalcount', 'liquidactivecount'], data=max_values, linestyle='-', marker='o')\n",
    "#plt.plot('time', ['liquidtotalcount', 'liquidactivecount'], data=min_values, linestyle='-', marker='o')\n",
    "plt.legend()\n",
    "plt.show()"
   ]
  },
  {
   "cell_type": "raw",
   "id": "17caf684",
   "metadata": {},
   "source": [
    "plt.figure(figsize=(16, 8), dpi=150)\n",
    "  \n",
    "# using plot method to plot open prices.\n",
    "# in plot method we set the label and color of the curve.\n",
    "max_values['liquidactivecount'].plot(label='max_values',linestyle='--',alpha=0.5)\n",
    "min_values['liquidactivecount'].plot(label='min_values',linestyle='--',alpha=0.5)\n",
    "avg_values['liquidactivecount'].plot(label='avg_values',linewidth=3)\n",
    "  \n",
    "# adding title to the plot\n",
    "plt.title('BT_batch_mucin1')\n",
    "# adding Label to the x-axis\n",
    "plt.xlabel('time')\n",
    "# adding legend to the curve\n",
    "plt.legend()"
   ]
  },
  {
   "cell_type": "raw",
   "id": "41d7daee",
   "metadata": {},
   "source": [
    "len(records)\n",
    "\n",
    "all_OD = pd.DataFrame(columns=range(len(records)+1))\n",
    "\n",
    "\n",
    "for i, record in enumerate(records, 1):\n",
    "    record_df = pd.read_csv(record[0], sep=\" \")\n",
    "    all_OD.iloc[:,i] = record_df['liquidactivecount']\n",
    "    \n",
    "all_OD.iloc[:,0] = record_df['time']\n",
    "\n",
    "all_OD['mean'] = all_OD.iloc[:,1:10].mean(axis=1, numeric_only=True)\n",
    "all_OD['std'] = all_OD.iloc[:,1:10].std(axis=1, numeric_only=True)"
   ]
  },
  {
   "cell_type": "raw",
   "id": "62882b4f",
   "metadata": {},
   "source": [
    "plt.plot(all_OD.iloc[:,0], all_OD['mean'], linestyle='-')\n",
    "plt.errorbar(all_OD.iloc[:,0], all_OD['mean'], yerr=all_OD['std'])\n",
    "plt.show()"
   ]
  },
  {
   "cell_type": "code",
   "execution_count": 269,
   "id": "e863d8c8",
   "metadata": {},
   "outputs": [],
   "source": [
    "def getMeanStd(records, header):\n",
    "    df = pd.DataFrame(columns=range(len(records)+1)) #Each column will be the value of each record\n",
    "    \n",
    "    # Fill the df parsing all the records' files\n",
    "    for i, record in enumerate(records, 1):\n",
    "        record_df = pd.read_csv(record[0], sep=\" \")\n",
    "        df.iloc[:,i] = record_df[header]\n",
    "\n",
    "    # Calculate and keep mean and std\n",
    "    df_res = pd.DataFrame(columns=range(3))\n",
    "    df_res.set_axis(['time', 'mean', 'std'], axis='columns', inplace=True)\n",
    "    df_res['time'] = record_df['time']\n",
    "    df_res['mean'] = df.iloc[:,1:].mean(axis=1, numeric_only=True)\n",
    "    df_res['std'] = df.iloc[:,1:].std(axis=1, numeric_only=True)\n",
    "    \n",
    "    return df_res"
   ]
  },
  {
   "cell_type": "code",
   "execution_count": 270,
   "id": "f855465e",
   "metadata": {},
   "outputs": [],
   "source": [
    "OD_msd = getMeanStd(new_lst, 'OD')\n",
    "#OD_msd\n",
    "\n",
    "lqdactive_msd = getMeanStd(new_lst, 'liquidactivecount')\n",
    "#active_msd\n",
    "\n",
    "lqdtotal_msd = getMeanStd(new_lst, 'liquidtotalcount')\n",
    "#lqdtotal_msd"
   ]
  },
  {
   "cell_type": "code",
   "execution_count": 271,
   "id": "77d6ee06",
   "metadata": {},
   "outputs": [],
   "source": [
    "def plotOneExperiment(dfs):\n",
    "    fig = plt.figure()\n",
    "    ax = fig.add_subplot(111)\n",
    "    ax.set_xlabel('time', fontsize = 16)\n",
    "    ax.set_ylabel('abundance', fontsize = 16)\n",
    "    \n",
    "    cmap = plt.get_cmap(name='tab10')\n",
    "\n",
    "    for i, df in enumerate(dfs, 1):\n",
    "        ax.errorbar(df.iloc[:,0], df['mean'], yerr = df['std'], color = cmap(i-1))\n",
    "        \n",
    "    plt.show()"
   ]
  },
  {
   "cell_type": "code",
   "execution_count": 272,
   "id": "994bb8cd",
   "metadata": {},
   "outputs": [
    {
     "data": {
      "image/png": "[encoded data removed]",
      "text/plain": [
       "<Figure size 432x288 with 1 Axes>"
      ]
     },
     "metadata": {
      "needs_background": "light"
     },
     "output_type": "display_data"
    }
   ],
   "source": [
    "plotOneExperiment([OD_msd])"
   ]
  },
  {
   "cell_type": "code",
   "execution_count": 273,
   "id": "b77ab8a8",
   "metadata": {},
   "outputs": [
    {
     "data": {
      "image/png": "[encoded data removed]",
      "text/plain": [
       "<Figure size 432x288 with 1 Axes>"
      ]
     },
     "metadata": {
      "needs_background": "light"
     },
     "output_type": "display_data"
    }
   ],
   "source": [
    "plotOneExperiment([lqdactive_msd,lqdtotal_msd])"
   ]
  },
  {
   "cell_type": "code",
   "execution_count": null,
   "id": "27bcb990",
   "metadata": {},
   "outputs": [],
   "source": []
  },
  {
   "cell_type": "code",
   "execution_count": null,
   "id": "6a96c9cf",
   "metadata": {},
   "outputs": [],
   "source": []
  }
 ],
 "metadata": {
  "kernelspec": {
   "display_name": "Python 3",
   "language": "python",
   "name": "python3"
  },
  "language_info": {
   "codemirror_mode": {
    "name": "ipython",
    "version": 3
   },
   "file_extension": ".py",
   "mimetype": "text/x-python",
   "name": "python",
   "nbconvert_exporter": "python",
   "pygments_lexer": "ipython3",
   "version": "3.6.10"
  }
 },
 "nbformat": 4,
 "nbformat_minor": 5
}
