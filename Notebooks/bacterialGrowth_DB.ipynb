{
 "cells": [
  {
   "cell_type": "code",
   "execution_count": 1,
   "id": "ae4b55f8",
   "metadata": {},
   "outputs": [],
   "source": [
    "import os\n",
    "import mysql.connector\n",
    "import pandas as pd\n",
    "import numpy as np\n",
    "import matplotlib.pyplot as plt\n",
    "import seaborn as sns\n",
    "import re\n",
    "%matplotlib inline"
   ]
  },
  {
   "cell_type": "markdown",
   "id": "6deb5445",
   "metadata": {},
   "source": [
    "## Variables"
   ]
  },
  {
   "cell_type": "code",
   "execution_count": 2,
   "id": "2114c267",
   "metadata": {},
   "outputs": [],
   "source": [
    "user_name = os.environ.get('DB_USER')\n",
    "password = os.environ.get('DB_PASSWORD')"
   ]
  },
  {
   "cell_type": "code",
   "execution_count": 3,
   "id": "7dc4e1d9",
   "metadata": {},
   "outputs": [],
   "source": [
    "DB_NAME = 'BacterialGrowth'"
   ]
  },
  {
   "cell_type": "markdown",
   "id": "0ff0e70e",
   "metadata": {},
   "source": [
    "## Connexion to the database"
   ]
  },
  {
   "cell_type": "code",
   "execution_count": 5,
   "id": "925cffc9",
   "metadata": {},
   "outputs": [],
   "source": [
    "cnx = mysql.connector.connect(user=user_name, password=password,host='localhost',database=DB_NAME)"
   ]
  },
  {
   "cell_type": "markdown",
   "id": "33eacb23",
   "metadata": {},
   "source": [
    "[Cursor documentation](https://www.psycopg.org/docs/cursor.html)\n",
    "\n",
    "[I think, better documentation for cursor](https://dev.mysql.com/doc/connector-python/en/connector-python-api-mysqlcursor.html)"
   ]
  },
  {
   "cell_type": "code",
   "execution_count": 6,
   "id": "f453df46",
   "metadata": {},
   "outputs": [],
   "source": [
    "# create cursor to read or write\n",
    "cursor = cnx.cursor()"
   ]
  },
  {
   "cell_type": "markdown",
   "id": "41926873",
   "metadata": {},
   "source": [
    "## Existing tables"
   ]
  },
  {
   "cell_type": "code",
   "execution_count": 7,
   "id": "89cf775a",
   "metadata": {},
   "outputs": [
    {
     "data": {
      "text/html": [
       "<div>\n",
       "<style scoped>\n",
       "    .dataframe tbody tr th:only-of-type {\n",
       "        vertical-align: middle;\n",
       "    }\n",
       "\n",
       "    .dataframe tbody tr th {\n",
       "        vertical-align: top;\n",
       "    }\n",
       "\n",
       "    .dataframe thead th {\n",
       "        text-align: right;\n",
       "    }\n",
       "</style>\n",
       "<table border=\"1\" class=\"dataframe\">\n",
       "  <thead>\n",
       "    <tr style=\"text-align: right;\">\n",
       "      <th></th>\n",
       "      <th>Tables_in_bacterialgrowth</th>\n",
       "    </tr>\n",
       "  </thead>\n",
       "  <tbody>\n",
       "    <tr>\n",
       "      <th>0</th>\n",
       "      <td>Bacteria</td>\n",
       "    </tr>\n",
       "    <tr>\n",
       "      <th>1</th>\n",
       "      <td>BacteriaCommunity</td>\n",
       "    </tr>\n",
       "    <tr>\n",
       "      <th>2</th>\n",
       "      <td>CultivationConditions</td>\n",
       "    </tr>\n",
       "    <tr>\n",
       "      <th>3</th>\n",
       "      <td>Experiment</td>\n",
       "    </tr>\n",
       "    <tr>\n",
       "      <th>4</th>\n",
       "      <td>Precultivation</td>\n",
       "    </tr>\n",
       "    <tr>\n",
       "      <th>5</th>\n",
       "      <td>Reactor</td>\n",
       "    </tr>\n",
       "    <tr>\n",
       "      <th>6</th>\n",
       "      <td>TechnicalReplicates</td>\n",
       "    </tr>\n",
       "  </tbody>\n",
       "</table>\n",
       "</div>"
      ],
      "text/plain": [
       "  Tables_in_bacterialgrowth\n",
       "0                  Bacteria\n",
       "1         BacteriaCommunity\n",
       "2     CultivationConditions\n",
       "3                Experiment\n",
       "4            Precultivation\n",
       "5                   Reactor\n",
       "6       TechnicalReplicates"
      ]
     },
     "execution_count": 7,
     "metadata": {},
     "output_type": "execute_result"
    }
   ],
   "source": [
    "pd.read_sql_query('show tables from {}'.format(DB_NAME),cnx)"
   ]
  },
  {
   "cell_type": "markdown",
   "id": "9ac21aed",
   "metadata": {},
   "source": [
    "## Insert into tables\n",
    "\n",
    "### Read file and transform into pandas --> separate by abundance, pH and metabolites --> create files --> save in the DB"
   ]
  },
  {
   "cell_type": "markdown",
   "id": "b343a2a6",
   "metadata": {},
   "source": [
    "#### Form the lists that contain the abundance, pH or metabolites respective columns names\n",
    "\n",
    "In order to do this we need:\n",
    "* A file contaning all the unique possible headers that have been found parsing all the provided files.\n",
    "* The regex expression, which is set manually. For bacterial abundances, fields that contain **time, active, liquid, OD**, but if I find others, like **qPCR, 16S rRNA seq, ...** they must be added in the regex. For pH measurements, only **ph and time**. For metabolites, it considers that everything that was not count on abundances and tme, belongs to metabolites + time."
   ]
  },
  {
   "cell_type": "code",
   "execution_count": 8,
   "id": "7b3ebfc1",
   "metadata": {},
   "outputs": [
    {
     "name": "stdout",
     "output_type": "stream",
     "text": [
      "\n"
     ]
    }
   ],
   "source": [
    "headersFile = '/Users/julia/bacterialGrowth_thesis/IntermediateFiles/lab_headers.txt'\n",
    "\n",
    "with open(headersFile) as file:\n",
    "    headers_list_split = file.read().splitlines()\n",
    "    headers_list = file.read()\n",
    "    print(headers_list)"
   ]
  },
  {
   "cell_type": "code",
   "execution_count": 9,
   "id": "4296f55f",
   "metadata": {},
   "outputs": [
    {
     "data": {
      "text/plain": [
       "['Acetate',\n",
       " 'Formate',\n",
       " 'Glucose',\n",
       " 'Lactate',\n",
       " 'Neu5Ac',\n",
       " 'OD',\n",
       " 'Pyruvate',\n",
       " 'Succinate',\n",
       " 'liquidactivecount',\n",
       " 'liquidtotalcount',\n",
       " 'pH',\n",
       " 'time']"
      ]
     },
     "execution_count": 9,
     "metadata": {},
     "output_type": "execute_result"
    }
   ],
   "source": [
    "headers_list_split"
   ]
  },
  {
   "cell_type": "code",
   "execution_count": 10,
   "id": "04382478",
   "metadata": {},
   "outputs": [],
   "source": [
    "# Using regex so it is case insensitive and look for patterns inside words (not only complete words)\n",
    "\n",
    "def getMatchingList (regex, lst):\n",
    "    list = []\n",
    "    for word in lst:\n",
    "        if regex.findall(word):\n",
    "            list.append(word)\n",
    "    return list"
   ]
  },
  {
   "cell_type": "code",
   "execution_count": 11,
   "id": "4b0c75db",
   "metadata": {},
   "outputs": [
    {
     "data": {
      "text/plain": [
       "['OD', 'liquidactivecount', 'liquidtotalcount', 'time']"
      ]
     },
     "execution_count": 11,
     "metadata": {},
     "output_type": "execute_result"
    }
   ],
   "source": [
    "growth_regex = re.compile(r'.*time.* | .*liquid.* | .*active.* | .*OD.*', flags=re.I | re.X)\n",
    "growth_regex = re.compile(r'time | liquid | active | OD', flags=re.I | re.X)\n",
    "ph_regex = re.compile(r'.*time.* | .*ph.*', flags=re.I | re.X)\n",
    "\n",
    "growth_fields = getMatchingList(growth_regex, headers_list_split)\n",
    "ph_fields = getMatchingList(ph_regex, headers_list_split)\n",
    "\n",
    "growth_fields"
   ]
  },
  {
   "cell_type": "code",
   "execution_count": 12,
   "id": "4bd6585c",
   "metadata": {},
   "outputs": [
    {
     "data": {
      "text/plain": [
       "['Succinate',\n",
       " 'Formate',\n",
       " 'Acetate',\n",
       " 'Lactate',\n",
       " 'Neu5Ac',\n",
       " 'Glucose',\n",
       " 'Pyruvate',\n",
       " 'time']"
      ]
     },
     "execution_count": 12,
     "metadata": {},
     "output_type": "execute_result"
    }
   ],
   "source": [
    "not_metabolites_list = list(set(growth_fields) | set(ph_fields))\n",
    "metabolites_fields = set(headers_list_split) - set(not_metabolites_list)\n",
    "metabolites_fields = list(metabolites_fields)\n",
    "metabolites_fields.append('time')\n",
    "metabolites_fields"
   ]
  },
  {
   "cell_type": "code",
   "execution_count": 13,
   "id": "620adc80",
   "metadata": {},
   "outputs": [],
   "source": [
    "headers = {'growth_fields': growth_fields,\n",
    "          'metabolites_fields': metabolites_fields,\n",
    "          'ph_fields': ph_fields}"
   ]
  },
  {
   "cell_type": "code",
   "execution_count": 14,
   "id": "048f3a02",
   "metadata": {},
   "outputs": [
    {
     "data": {
      "text/plain": [
       "['pH', 'time']"
      ]
     },
     "execution_count": 14,
     "metadata": {},
     "output_type": "execute_result"
    }
   ],
   "source": [
    "headers['ph_fields']"
   ]
  },
  {
   "cell_type": "markdown",
   "id": "9670c8f9",
   "metadata": {},
   "source": [
    "### Several paths\n",
    "\n",
    "THINK:\n",
    "- One options is to call the .py file containing this code with a file containing all the new paths. \n",
    "- Make the file with all the paths in the IntermediateFiles directory\n",
    "\n",
    "Or\n",
    "\n",
    "- The user will use a first (and hopw, unique) python script in which all the experiment information will be provided. Then it should give the directory with all the files. These files need to be parsed and is needed, for this python code, to get the headers inside all of the files and the paths for saving the separate files for the abundances, metabolites and ph."
   ]
  },
  {
   "cell_type": "code",
   "execution_count": 15,
   "id": "2e84f46f",
   "metadata": {},
   "outputs": [],
   "source": [
    "# These paths will come from the user!!\n",
    "\n",
    "files = open(\"/Users/julia/bacterialGrowth_thesis/IntermediateFiles/listOfFiles.list\", \"r\").readlines()\n",
    "files = list(map(lambda s: s.strip(), files))"
   ]
  },
  {
   "cell_type": "code",
   "execution_count": 16,
   "id": "41650b5c",
   "metadata": {},
   "outputs": [
    {
     "data": {
      "text/plain": [
       "['/Users/julia/bacterialGrowth_thesis/Data/BT_batch_mucin1/9/BT_batch_mucin1_9.txt',\n",
       " '/Users/julia/bacterialGrowth_thesis/Data/BT_batch_mucin1/7/BT_batch_mucin1_7.txt',\n",
       " '/Users/julia/bacterialGrowth_thesis/Data/BT_batch_mucin1/6/BT_batch_mucin1_6.txt',\n",
       " '/Users/julia/bacterialGrowth_thesis/Data/BT_batch_mucin1/1/BT_batch_mucin1_1.txt',\n",
       " '/Users/julia/bacterialGrowth_thesis/Data/BT_batch_mucin1/8/BT_batch_mucin1_8.txt',\n",
       " '/Users/julia/bacterialGrowth_thesis/Data/BT_batch_mucin1/4/BT_batch_mucin1_4.txt',\n",
       " '/Users/julia/bacterialGrowth_thesis/Data/BT_batch_mucin1/3/BT_batch_mucin1_3.txt',\n",
       " '/Users/julia/bacterialGrowth_thesis/Data/BT_batch_mucin1/2/BT_batch_mucin1_2.txt',\n",
       " '/Users/julia/bacterialGrowth_thesis/Data/BT_batch_mucin1/5/BT_batch_mucin1_5.txt']"
      ]
     },
     "execution_count": 16,
     "metadata": {},
     "output_type": "execute_result"
    }
   ],
   "source": [
    "files"
   ]
  },
  {
   "cell_type": "code",
   "execution_count": 17,
   "id": "7df92fa2",
   "metadata": {},
   "outputs": [],
   "source": [
    "def findOccurrences(s, ch):\n",
    "    return [i for i, letter in enumerate(s) if letter == ch]"
   ]
  },
  {
   "cell_type": "code",
   "execution_count": 18,
   "id": "433a5ee9",
   "metadata": {},
   "outputs": [
    {
     "name": "stdout",
     "output_type": "stream",
     "text": [
      "DONE!\n"
     ]
    }
   ],
   "source": [
    "for f in files:\n",
    "    #Get directory of the provided paths\n",
    "    path_end = max(findOccurrences(f, \"/\"))\n",
    "    path = f[:path_end+1]\n",
    "    \n",
    "    #Read file with all the data\n",
    "    df = pd.read_table(f, sep=\" \")\n",
    "\n",
    "    growth_data = df[df.columns.intersection(growth_fields)]\n",
    "    growth_data = growth_data.round({'OD': 3})\n",
    "    \n",
    "    ph_data = df[df.columns.intersection(ph_fields)]\n",
    "    ph_data = ph_data.round({'pH': 3})\n",
    "\n",
    "    metabolites_data = df[df.columns.intersection(metabolites_fields)]\n",
    "    \n",
    "    # If len(df.columns) <= 1 (only time column), we do not save it\n",
    "    if len(growth_data.columns) > 1:\n",
    "        growth_data.to_csv(path+'abundance_file.txt', sep=\" \", index=False)\n",
    "    \n",
    "    if len(ph_data.columns) > 1:        \n",
    "        ph_data.to_csv(path+'pH_file.txt', sep=\" \", index=False)\n",
    "    \n",
    "    if len(metabolites_data.columns) > 1:\n",
    "        metabolites_data.to_csv(path+'metabolites_file.txt', sep=\" \", index=False)\n",
    "\n",
    "    q = f\"\"\" INSERT IGNORE INTO TechnicalReplicates (bacterialAbundanceFile)\n",
    "        VALUES ('{path+'abundance_file.txt'}')\n",
    "        \"\"\"\n",
    "\n",
    "    cursor.execute(q)\n",
    "    cnx.commit()\n",
    "    \n",
    "    q = f\"\"\" INSERT IGNORE INTO TechnicalReplicates (metabolitesFile)\n",
    "        VALUES ('{path+'metabolites_file.txt'}')\n",
    "        \"\"\"\n",
    "\n",
    "    cursor.execute(q)\n",
    "    cnx.commit()\n",
    "    \n",
    "    #q = f\"\"\" INSERT IGNORE INTO FilePath (filePath)\n",
    "    #    VALUES ('{path+'pH_file.txt'}')\n",
    "    #    \"\"\"\n",
    "\n",
    "    #cursor.execute(q)\n",
    "\n",
    "cnx.commit()\n",
    "print('DONE!')"
   ]
  },
  {
   "cell_type": "code",
   "execution_count": 19,
   "id": "7e6dfa39",
   "metadata": {},
   "outputs": [],
   "source": [
    "path = '/Users/julia/bacterialGrowth_thesis/Data/RI_mucin_RNAseq/1/'\n",
    "\n",
    "q = f\"\"\" INSERT IGNORE INTO TechnicalReplicates (bacterialAbundanceFile)\n",
    "        VALUES ('/Users/julia/bacterialGrowth_thesis/Data/RI_mucin_RNAseq/1/abundance_file.txt')\n",
    "        \"\"\"\n",
    "cursor.execute(q)\n",
    "cnx.commit()"
   ]
  },
  {
   "cell_type": "code",
   "execution_count": 20,
   "id": "cd4bc736",
   "metadata": {},
   "outputs": [
    {
     "name": "stdout",
     "output_type": "stream",
     "text": [
      "bacterialAbundanceFile\n"
     ]
    }
   ],
   "source": [
    "for i in pd.read_sql('SELECT bacterialAbundanceFile FROM TechnicalReplicates', cnx):\n",
    "    print(i)"
   ]
  },
  {
   "cell_type": "code",
   "execution_count": 21,
   "id": "230f2ad0",
   "metadata": {},
   "outputs": [
    {
     "data": {
      "text/html": [
       "<div>\n",
       "<style scoped>\n",
       "    .dataframe tbody tr th:only-of-type {\n",
       "        vertical-align: middle;\n",
       "    }\n",
       "\n",
       "    .dataframe tbody tr th {\n",
       "        vertical-align: top;\n",
       "    }\n",
       "\n",
       "    .dataframe thead th {\n",
       "        text-align: right;\n",
       "    }\n",
       "</style>\n",
       "<table border=\"1\" class=\"dataframe\">\n",
       "  <thead>\n",
       "    <tr style=\"text-align: right;\">\n",
       "      <th></th>\n",
       "      <th>bacterialAbundanceFile</th>\n",
       "    </tr>\n",
       "  </thead>\n",
       "  <tbody>\n",
       "    <tr>\n",
       "      <th>0</th>\n",
       "      <td>/Users/julia/bacterialGrowth_thesis/Data/BTRI_...</td>\n",
       "    </tr>\n",
       "    <tr>\n",
       "      <th>1</th>\n",
       "      <td>None</td>\n",
       "    </tr>\n",
       "  </tbody>\n",
       "</table>\n",
       "</div>"
      ],
      "text/plain": [
       "                              bacterialAbundanceFile\n",
       "0  /Users/julia/bacterialGrowth_thesis/Data/BTRI_...\n",
       "1                                               None"
      ]
     },
     "execution_count": 21,
     "metadata": {},
     "output_type": "execute_result"
    }
   ],
   "source": [
    "pd.read_sql('SELECT bacterialAbundanceFile FROM TechnicalReplicates', cnx)"
   ]
  },
  {
   "cell_type": "code",
   "execution_count": null,
   "id": "e1afdce6",
   "metadata": {},
   "outputs": [],
   "source": []
  },
  {
   "cell_type": "code",
   "execution_count": null,
   "id": "9c43a2d9",
   "metadata": {},
   "outputs": [],
   "source": []
  },
  {
   "cell_type": "code",
   "execution_count": null,
   "id": "524f013b",
   "metadata": {},
   "outputs": [],
   "source": []
  },
  {
   "cell_type": "code",
   "execution_count": null,
   "id": "fd3e27c8",
   "metadata": {},
   "outputs": [],
   "source": []
  },
  {
   "cell_type": "code",
   "execution_count": null,
   "id": "ccc04e1c",
   "metadata": {},
   "outputs": [],
   "source": []
  },
  {
   "cell_type": "code",
   "execution_count": null,
   "id": "2d15a0cd",
   "metadata": {},
   "outputs": [],
   "source": []
  },
  {
   "cell_type": "code",
   "execution_count": null,
   "id": "6d5c56db",
   "metadata": {},
   "outputs": [],
   "source": []
  },
  {
   "cell_type": "code",
   "execution_count": 22,
   "id": "b5bc7ef5",
   "metadata": {},
   "outputs": [],
   "source": [
    "cursor.close()\n",
    "\n",
    "cnx.commit()\n",
    "cnx.close()"
   ]
  },
  {
   "cell_type": "code",
   "execution_count": null,
   "id": "4ef5e574",
   "metadata": {},
   "outputs": [],
   "source": []
  }
 ],
 "metadata": {
  "kernelspec": {
   "display_name": "Python 3",
   "language": "python",
   "name": "python3"
  },
  "language_info": {
   "codemirror_mode": {
    "name": "ipython",
    "version": 3
   },
   "file_extension": ".py",
   "mimetype": "text/x-python",
   "name": "python",
   "nbconvert_exporter": "python",
   "pygments_lexer": "ipython3",
   "version": "3.6.10"
  }
 },
 "nbformat": 4,
 "nbformat_minor": 5
}
