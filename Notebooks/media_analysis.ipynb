{
 "cells": [
  {
   "cell_type": "code",
   "execution_count": 8,
   "id": "3e9ca901",
   "metadata": {},
   "outputs": [],
   "source": [
    "PROJECT_PATH='/Users/julia/bacterialGrowth_thesis/'\n",
    "MEDIA_FILE='/Users/julia/bacterialGrowth_thesis/MyMedia.txt'"
   ]
  },
  {
   "cell_type": "code",
   "execution_count": 4,
   "id": "83efd697",
   "metadata": {},
   "outputs": [
    {
     "name": "stdout",
     "output_type": "stream",
     "text": [
      "\\n---- Creating the media directory...\n",
      "total 0\n",
      "drwxr-xr-x   2 julia  staff   64  2 abr 15:02 media\n",
      "drwxr-xr-x  11 julia  staff  352  1 abr 21:23 BT_batch_mucin1\n"
     ]
    }
   ],
   "source": [
    "cd $PROJECT_PATH\n",
    "\n",
    "echo \"\\n---- Creating the media directory...\"\n",
    "mkdir -p Data/\n",
    "mkdir -p Data/media/\n",
    "\n",
    "ls -lt Data/"
   ]
  },
  {
   "cell_type": "code",
   "execution_count": 9,
   "id": "239ed841",
   "metadata": {},
   "outputs": [
    {
     "name": "stdout",
     "output_type": "stream",
     "text": [
      "/Users/julia/bacterialGrowth_thesis/MyMedia.txt\n",
      "/Users/julia/bacterialGrowth_thesis/Data/media/\n"
     ]
    }
   ],
   "source": [
    "path_origin=$MEDIA_FILE\n",
    "path_destination=$PROJECT_PATH'Data/media/'\n",
    "\n",
    "echo $path_origin\n",
    "echo $path_destination"
   ]
  },
  {
   "cell_type": "code",
   "execution_count": 10,
   "id": "b5c786a1",
   "metadata": {},
   "outputs": [],
   "source": [
    "cp $path_origin $path_destination"
   ]
  },
  {
   "cell_type": "code",
   "execution_count": 12,
   "id": "7a61e709",
   "metadata": {},
   "outputs": [
    {
     "name": "stdout",
     "output_type": "stream",
     "text": [
      "total 8\n",
      "-rw-r--r--  1 julia  staff  1  2 abr 15:03 MyMedia.txt\n"
     ]
    }
   ],
   "source": [
    "ls -lt Data/media/"
   ]
  },
  {
   "cell_type": "code",
   "execution_count": null,
   "id": "4a3d483c",
   "metadata": {},
   "outputs": [],
   "source": []
  }
 ],
 "metadata": {
  "kernelspec": {
   "display_name": "Bash",
   "language": "bash",
   "name": "bash"
  },
  "language_info": {
   "codemirror_mode": "shell",
   "file_extension": ".sh",
   "mimetype": "text/x-sh",
   "name": "bash"
  }
 },
 "nbformat": 4,
 "nbformat_minor": 5
}
