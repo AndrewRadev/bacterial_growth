{
 "cells": [
  {
   "cell_type": "code",
   "execution_count": 1,
   "id": "ae4b55f8",
   "metadata": {},
   "outputs": [],
   "source": [
    "import os\n",
    "import mysql.connector\n",
    "import pandas as pd\n",
    "import numpy as np\n",
    "import matplotlib.pyplot as plt\n",
    "import seaborn as sns\n",
    "%matplotlib inline"
   ]
  },
  {
   "cell_type": "code",
   "execution_count": 10,
   "id": "2114c267",
   "metadata": {},
   "outputs": [],
   "source": [
    "user_name = os.environ.get('DB_USER')\n",
    "password = os.environ.get('DB_PASSWORD')"
   ]
  },
  {
   "cell_type": "code",
   "execution_count": 12,
   "id": "925cffc9",
   "metadata": {},
   "outputs": [],
   "source": [
    "cnx = mysql.connector.connect(user=user_name, password=password,host='localhost',database='BacterialGrowth')"
   ]
  },
  {
   "cell_type": "code",
   "execution_count": 13,
   "id": "2e6869b5",
   "metadata": {},
   "outputs": [],
   "source": [
    "# create cursor to read or write\n",
    "cursor = cnx.cursor()"
   ]
  },
  {
   "cell_type": "code",
   "execution_count": null,
   "id": "dfb72ca3",
   "metadata": {},
   "outputs": [],
   "source": []
  },
  {
   "cell_type": "markdown",
   "id": "41926873",
   "metadata": {},
   "source": [
    "## Existing tables"
   ]
  },
  {
   "cell_type": "code",
   "execution_count": 14,
   "id": "89cf775a",
   "metadata": {},
   "outputs": [
    {
     "data": {
      "text/html": [
       "<div>\n",
       "<style scoped>\n",
       "    .dataframe tbody tr th:only-of-type {\n",
       "        vertical-align: middle;\n",
       "    }\n",
       "\n",
       "    .dataframe tbody tr th {\n",
       "        vertical-align: top;\n",
       "    }\n",
       "\n",
       "    .dataframe thead th {\n",
       "        text-align: right;\n",
       "    }\n",
       "</style>\n",
       "<table border=\"1\" class=\"dataframe\">\n",
       "  <thead>\n",
       "    <tr style=\"text-align: right;\">\n",
       "      <th></th>\n",
       "      <th>Tables_in_bacterialgrowth</th>\n",
       "    </tr>\n",
       "  </thead>\n",
       "  <tbody>\n",
       "    <tr>\n",
       "      <th>0</th>\n",
       "      <td>Bacteria</td>\n",
       "    </tr>\n",
       "    <tr>\n",
       "      <th>1</th>\n",
       "      <td>BacteriaCommunity</td>\n",
       "    </tr>\n",
       "    <tr>\n",
       "      <th>2</th>\n",
       "      <td>CultivationConditions</td>\n",
       "    </tr>\n",
       "    <tr>\n",
       "      <th>3</th>\n",
       "      <td>Experiment</td>\n",
       "    </tr>\n",
       "    <tr>\n",
       "      <th>4</th>\n",
       "      <td>Precultivation</td>\n",
       "    </tr>\n",
       "    <tr>\n",
       "      <th>5</th>\n",
       "      <td>Reactor</td>\n",
       "    </tr>\n",
       "    <tr>\n",
       "      <th>6</th>\n",
       "      <td>TechnicalReplicates</td>\n",
       "    </tr>\n",
       "  </tbody>\n",
       "</table>\n",
       "</div>"
      ],
      "text/plain": [
       "  Tables_in_bacterialgrowth\n",
       "0                  Bacteria\n",
       "1         BacteriaCommunity\n",
       "2     CultivationConditions\n",
       "3                Experiment\n",
       "4            Precultivation\n",
       "5                   Reactor\n",
       "6       TechnicalReplicates"
      ]
     },
     "execution_count": 14,
     "metadata": {},
     "output_type": "execute_result"
    }
   ],
   "source": [
    "pd.read_sql_query('show tables from BacterialGrowth',cnx)"
   ]
  },
  {
   "cell_type": "code",
   "execution_count": 15,
   "id": "46a68ae8",
   "metadata": {},
   "outputs": [
    {
     "data": {
      "text/html": [
       "<div>\n",
       "<style scoped>\n",
       "    .dataframe tbody tr th:only-of-type {\n",
       "        vertical-align: middle;\n",
       "    }\n",
       "\n",
       "    .dataframe tbody tr th {\n",
       "        vertical-align: top;\n",
       "    }\n",
       "\n",
       "    .dataframe thead th {\n",
       "        text-align: right;\n",
       "    }\n",
       "</style>\n",
       "<table border=\"1\" class=\"dataframe\">\n",
       "  <thead>\n",
       "    <tr style=\"text-align: right;\">\n",
       "      <th></th>\n",
       "      <th>Field</th>\n",
       "      <th>Type</th>\n",
       "      <th>Null</th>\n",
       "      <th>Key</th>\n",
       "      <th>Default</th>\n",
       "      <th>Extra</th>\n",
       "    </tr>\n",
       "  </thead>\n",
       "  <tbody>\n",
       "    <tr>\n",
       "      <th>0</th>\n",
       "      <td>bacteriaId</td>\n",
       "      <td>int</td>\n",
       "      <td>NO</td>\n",
       "      <td>UNI</td>\n",
       "      <td>None</td>\n",
       "      <td></td>\n",
       "    </tr>\n",
       "    <tr>\n",
       "      <th>1</th>\n",
       "      <td>bacteriaGenus</td>\n",
       "      <td>varchar(100)</td>\n",
       "      <td>YES</td>\n",
       "      <td></td>\n",
       "      <td></td>\n",
       "      <td></td>\n",
       "    </tr>\n",
       "    <tr>\n",
       "      <th>2</th>\n",
       "      <td>bacteriaSpecies</td>\n",
       "      <td>varchar(100)</td>\n",
       "      <td>NO</td>\n",
       "      <td>PRI</td>\n",
       "      <td>None</td>\n",
       "      <td></td>\n",
       "    </tr>\n",
       "    <tr>\n",
       "      <th>3</th>\n",
       "      <td>bacteriaStrain</td>\n",
       "      <td>varchar(100)</td>\n",
       "      <td>NO</td>\n",
       "      <td>PRI</td>\n",
       "      <td>None</td>\n",
       "      <td></td>\n",
       "    </tr>\n",
       "  </tbody>\n",
       "</table>\n",
       "</div>"
      ],
      "text/plain": [
       "             Field          Type Null  Key Default Extra\n",
       "0       bacteriaId           int   NO  UNI    None      \n",
       "1    bacteriaGenus  varchar(100)  YES                   \n",
       "2  bacteriaSpecies  varchar(100)   NO  PRI    None      \n",
       "3   bacteriaStrain  varchar(100)   NO  PRI    None      "
      ]
     },
     "execution_count": 15,
     "metadata": {},
     "output_type": "execute_result"
    }
   ],
   "source": [
    "pd.read_sql_query('describe {}'.format('Bacteria'), cnx)"
   ]
  },
  {
   "cell_type": "code",
   "execution_count": 17,
   "id": "19d78ec6",
   "metadata": {},
   "outputs": [
    {
     "name": "stdout",
     "output_type": "stream",
     "text": [
      "Bacteria\n",
      "             Field          Type Null  Key Default Extra\n",
      "0       bacteriaId           int   NO  UNI    None      \n",
      "1    bacteriaGenus  varchar(100)  YES                   \n",
      "2  bacteriaSpecies  varchar(100)   NO  PRI    None      \n",
      "3   bacteriaStrain  varchar(100)   NO  PRI    None       \n",
      "\n",
      "BacteriaCommunity\n",
      "           Field Type Null  Key Default Extra\n",
      "0     bacteriaId  int   NO  PRI    None      \n",
      "1  cultivationId  int   NO  PRI    None       \n",
      "\n",
      "CultivationConditions\n",
      "                     Field          Type Null  Key Default Extra\n",
      "0            cultivationId           int   NO  PRI    None      \n",
      "1   cultivationDescription          text  YES         None      \n",
      "2             experimentId           int  YES  MUL    None      \n",
      "3         precultivationId           int  YES  MUL    None      \n",
      "4    inoculumConcentration           int  YES         None      \n",
      "5          inoculumVolumen           int  YES         None      \n",
      "6              monoculture    tinyint(1)  YES            0      \n",
      "7                mediaName   varchar(50)  YES                   \n",
      "8                mediaFile  varchar(100)  YES         None      \n",
      "9               initial_ph         float  YES            0      \n",
      "10     initial_temperature         float  YES            0      \n",
      "11            carbonSource    tinyint(1)  YES            0      \n",
      "12              antibiotic  varchar(100)  YES         None       \n",
      "\n",
      "Experiment\n",
      "                   Field  Type Null  Key Default           Extra\n",
      "0           experimentId   int   NO  PRI    None  auto_increment\n",
      "1  experimentDescription  text  YES         None                \n",
      "2         experimentDate  date  YES         None                \n",
      "3              reactorId   int  YES  MUL    None                 \n",
      "\n",
      "Precultivation\n",
      "                       Field  Type Null  Key Default           Extra\n",
      "0           precultivationId   int   NO  PRI    None  auto_increment\n",
      "1  precultivationDescription  text  YES         None                 \n",
      "\n",
      "Reactor\n",
      "            Field         Type Null  Key Default           Extra\n",
      "0       reactorId          int   NO  PRI    None  auto_increment\n",
      "1     reactorName     tinytext  YES         None                \n",
      "2          volume        float  YES            0                \n",
      "3      atmosphere        float  YES            0                \n",
      "4  stirring_speed        float  YES            0                \n",
      "5     reactorMode  varchar(50)  YES                              \n",
      "\n",
      "TechnicalReplicates\n",
      "                            Field          Type Null  Key Default Extra\n",
      "0                     replicateId           int   NO  PRI    None      \n",
      "1            replicateDescription          text  YES         None      \n",
      "2                   cultivationId           int  YES  MUL    None      \n",
      "3  bacterialAbundanceMetadataFile  varchar(100)  YES         None      \n",
      "4          bacterialAbundanceFile  varchar(100)  YES         None      \n",
      "5         metabolitesMetadataFile  varchar(100)  YES         None      \n",
      "6                 metabolitesFile  varchar(100)  YES         None       \n",
      "\n"
     ]
    }
   ],
   "source": [
    "bacteria_tables = pd.read_sql_query('show tables from BacterialGrowth',cnx)\n",
    "tables = bacteria_tables['Tables_in_bacterialgrowth']\n",
    "\n",
    "for table_name in tables:\n",
    "    output = pd.read_sql_query('describe {}'.format(table_name), cnx)\n",
    "    print(table_name)\n",
    "    print(output, '\\n')"
   ]
  },
  {
   "cell_type": "markdown",
   "id": "81b93b30",
   "metadata": {},
   "source": [
    "## Insert into tables"
   ]
  },
  {
   "cell_type": "code",
   "execution_count": 46,
   "id": "22e4f42f",
   "metadata": {},
   "outputs": [],
   "source": [
    "strains = ['L1-82', 'JCM 31262']\n",
    "\n",
    "for st in strains:\n",
    "    q = f\"\"\" INSERT IGNORE INTO Bacteria (bacteriaGenus, bacteriaSpecies, bacteriaStrain)\n",
    "        VALUES ('Roseburia','Roseburia intestinalis','{st}')\n",
    "        \"\"\"\n",
    "    cursor.execute(q)\n",
    "    \n",
    "q = f\"\"\" INSERT IGNORE INTO Bacteria (bacteriaGenus, bacteriaSpecies, bacteriaStrain)\n",
    "        VALUES ('Bacteroides','Bacteroides thetaiotaomicron','VPI 5482')\n",
    "        \"\"\"\n",
    "cursor.execute(q)"
   ]
  },
  {
   "cell_type": "code",
   "execution_count": null,
   "id": "837656c8",
   "metadata": {},
   "outputs": [],
   "source": []
  },
  {
   "cell_type": "markdown",
   "id": "917e4425",
   "metadata": {},
   "source": [
    "## Get information from the DB - SELECT queries"
   ]
  },
  {
   "cell_type": "code",
   "execution_count": 30,
   "id": "26653097",
   "metadata": {},
   "outputs": [
    {
     "data": {
      "text/html": [
       "<div>\n",
       "<style scoped>\n",
       "    .dataframe tbody tr th:only-of-type {\n",
       "        vertical-align: middle;\n",
       "    }\n",
       "\n",
       "    .dataframe tbody tr th {\n",
       "        vertical-align: top;\n",
       "    }\n",
       "\n",
       "    .dataframe thead th {\n",
       "        text-align: right;\n",
       "    }\n",
       "</style>\n",
       "<table border=\"1\" class=\"dataframe\">\n",
       "  <thead>\n",
       "    <tr style=\"text-align: right;\">\n",
       "      <th></th>\n",
       "      <th>bacteriaId</th>\n",
       "      <th>bacteriaGenus</th>\n",
       "      <th>bacteriaSpecies</th>\n",
       "      <th>bacteriaStrain</th>\n",
       "    </tr>\n",
       "  </thead>\n",
       "  <tbody>\n",
       "    <tr>\n",
       "      <th>0</th>\n",
       "      <td>11</td>\n",
       "      <td>Roseburia</td>\n",
       "      <td>Roseburia intestinalis</td>\n",
       "      <td>L1-82</td>\n",
       "    </tr>\n",
       "    <tr>\n",
       "      <th>1</th>\n",
       "      <td>12</td>\n",
       "      <td>Roseburia</td>\n",
       "      <td>Roseburia intestinalis</td>\n",
       "      <td>JCM 31262</td>\n",
       "    </tr>\n",
       "  </tbody>\n",
       "</table>\n",
       "</div>"
      ],
      "text/plain": [
       "   bacteriaId bacteriaGenus         bacteriaSpecies bacteriaStrain\n",
       "0          11     Roseburia  Roseburia intestinalis          L1-82\n",
       "1          12     Roseburia  Roseburia intestinalis      JCM 31262"
      ]
     },
     "execution_count": 30,
     "metadata": {},
     "output_type": "execute_result"
    }
   ],
   "source": [
    "pd.read_sql('SELECT * FROM Bacteria WHERE bacteriaGenus = \"Roseburia\" LIMIT 10', cnx)"
   ]
  },
  {
   "cell_type": "code",
   "execution_count": 47,
   "id": "fe8b8adf",
   "metadata": {},
   "outputs": [
    {
     "data": {
      "text/html": [
       "<div>\n",
       "<style scoped>\n",
       "    .dataframe tbody tr th:only-of-type {\n",
       "        vertical-align: middle;\n",
       "    }\n",
       "\n",
       "    .dataframe tbody tr th {\n",
       "        vertical-align: top;\n",
       "    }\n",
       "\n",
       "    .dataframe thead th {\n",
       "        text-align: right;\n",
       "    }\n",
       "</style>\n",
       "<table border=\"1\" class=\"dataframe\">\n",
       "  <thead>\n",
       "    <tr style=\"text-align: right;\">\n",
       "      <th></th>\n",
       "      <th>bacteriaGenus</th>\n",
       "      <th>bacteriaSpecies</th>\n",
       "      <th>bacteriaStrain</th>\n",
       "    </tr>\n",
       "  </thead>\n",
       "  <tbody>\n",
       "    <tr>\n",
       "      <th>0</th>\n",
       "      <td>Bacteroides</td>\n",
       "      <td>Bacteroides thetaiotaomicron</td>\n",
       "      <td>VPI 5482</td>\n",
       "    </tr>\n",
       "    <tr>\n",
       "      <th>1</th>\n",
       "      <td>Roseburia</td>\n",
       "      <td>Roseburia intestinalis</td>\n",
       "      <td>JCM 31262</td>\n",
       "    </tr>\n",
       "    <tr>\n",
       "      <th>2</th>\n",
       "      <td>Roseburia</td>\n",
       "      <td>Roseburia intestinalis</td>\n",
       "      <td>L1-82</td>\n",
       "    </tr>\n",
       "  </tbody>\n",
       "</table>\n",
       "</div>"
      ],
      "text/plain": [
       "  bacteriaGenus               bacteriaSpecies bacteriaStrain\n",
       "0   Bacteroides  Bacteroides thetaiotaomicron       VPI 5482\n",
       "1     Roseburia        Roseburia intestinalis      JCM 31262\n",
       "2     Roseburia        Roseburia intestinalis          L1-82"
      ]
     },
     "execution_count": 47,
     "metadata": {},
     "output_type": "execute_result"
    }
   ],
   "source": [
    "pd.read_sql('SELECT * FROM Bacteria LIMIT 10', cnx)"
   ]
  },
  {
   "cell_type": "code",
   "execution_count": null,
   "id": "a6796ba3",
   "metadata": {},
   "outputs": [],
   "source": []
  },
  {
   "cell_type": "markdown",
   "id": "94a69367",
   "metadata": {},
   "source": [
    "## Create tables"
   ]
  },
  {
   "cell_type": "code",
   "execution_count": 39,
   "id": "d724ae4e",
   "metadata": {},
   "outputs": [],
   "source": [
    "query_create = f\"\"\" CREATE TABLE IF NOT EXISTS Bacteria (\n",
    "        bacteriaGenus varchar(100), \n",
    "        bacteriaSpecies varchar(100),\n",
    "        bacteriaStrain varchar(100),\n",
    "        PRIMARY KEY (bacteriaSpecies, bacteriaStrain)\n",
    "        )\"\"\"\n",
    "\n",
    "#CREATE TABLE IF NOT EXISTS Bacteria (bacteriaGenus,bacteriaSpecies,bacteriaStrain,PRIMARY KEY (bacteriaSpecies, bacteriaStrain))\n",
    "\n",
    "cursor.execute(query_create)"
   ]
  }
 ],
 "metadata": {
  "kernelspec": {
   "display_name": "Python 3",
   "language": "python",
   "name": "python3"
  },
  "language_info": {
   "codemirror_mode": {
    "name": "ipython",
    "version": 3
   },
   "file_extension": ".py",
   "mimetype": "text/x-python",
   "name": "python",
   "nbconvert_exporter": "python",
   "pygments_lexer": "ipython3",
   "version": "3.6.10"
  }
 },
 "nbformat": 4,
 "nbformat_minor": 5
}
