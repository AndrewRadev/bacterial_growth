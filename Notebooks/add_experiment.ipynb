{
 "cells": [
  {
   "cell_type": "code",
   "execution_count": 5,
   "id": "25448739",
   "metadata": {},
   "outputs": [],
   "source": [
    "import os\n",
    "import mysql.connector\n",
    "import pandas as pd\n",
    "import numpy as np\n",
    "import matplotlib.pyplot as plt\n",
    "import seaborn as sns\n",
    "import re\n",
    "%matplotlib inline"
   ]
  },
  {
   "cell_type": "code",
   "execution_count": 10,
   "id": "000fed2f",
   "metadata": {},
   "outputs": [],
   "source": [
    "user_name = os.environ.get('DB_USER')\n",
    "password = os.environ.get('DB_PASSWORD')"
   ]
  },
  {
   "cell_type": "code",
   "execution_count": 11,
   "id": "353b1539",
   "metadata": {},
   "outputs": [],
   "source": [
    "DB_NAME = 'BacterialGrowth'"
   ]
  },
  {
   "cell_type": "markdown",
   "id": "49aeb035",
   "metadata": {},
   "source": [
    "## Database functions"
   ]
  },
  {
   "cell_type": "code",
   "execution_count": 12,
   "id": "080cc992",
   "metadata": {},
   "outputs": [],
   "source": [
    "def execute(phrase):\n",
    "    \"\"\"This function create a connection to the database and execute a command.\n",
    "    :param phrase: str SQL sentence to execute\n",
    "    :return: list of str received from the database after command execution.\n",
    "    \"\"\"\n",
    "    try:\n",
    "        cnx = mysql.connector.connect(user=user_name, password=password,host='localhost',database=DB_NAME)\n",
    "        cnx.get_warnings = True\n",
    "        cursor = cnx.cursor()\n",
    "        cursor.execute(phrase)\n",
    "        res = []\n",
    "        for row in cursor:\n",
    "            res.append(row)\n",
    "\n",
    "        warnings = cursor.fetchwarnings()\n",
    "        if warnings: \n",
    "            for i in range(len(warnings)):\n",
    "                print(\"Warning - \"+warnings[i][2])\n",
    "        cursor.close()\n",
    "        cnx.commit()\n",
    "        cnx.close()\n",
    "        return res\n",
    "    except mysql.connector.Error as err:\n",
    "        print(\"Something went wrong: {}\".format(err))"
   ]
  },
  {
   "cell_type": "code",
   "execution_count": 29,
   "id": "6273259c",
   "metadata": {},
   "outputs": [],
   "source": [
    "def getWhereClause(args):\n",
    "    clause = \"WHERE (\"\n",
    "    for key, val in args.items():\n",
    "        clause = clause + key + \"= '\" + str(val) + \"' AND \"\n",
    "    clause = clause[:-5] + ')'\n",
    "    return clause"
   ]
  },
  {
   "cell_type": "code",
   "execution_count": 38,
   "id": "9d79b6c3",
   "metadata": {},
   "outputs": [],
   "source": [
    "def getAllRecords(table, **args):\n",
    "    phrase = \"SELECT * FROM \" + table\n",
    "    if args:\n",
    "        where_clause = getWhereClause(args)\n",
    "        phrase = phrase+\" \"+where_clause\n",
    "    print(phrase)\n",
    "    res = execute(phrase)\n",
    "    return res[0]"
   ]
  },
  {
   "cell_type": "code",
   "execution_count": 40,
   "id": "e0f7f11b",
   "metadata": {},
   "outputs": [
    {
     "name": "stdout",
     "output_type": "stream",
     "text": [
      "SELECT * FROM Study\n",
      "(1, 'MyFirstStudy', 'bla')\n",
      "{'studyId': 1}\n",
      "SELECT * FROM Experiment WHERE (studyId= '1')\n",
      "(101, 1, 1, 1, 1, 1, 'A', 1, 0, 1000000, 10, 5.0, 20.0, 0, '0', 'Work?')\n"
     ]
    }
   ],
   "source": [
    "studies = getAllRecords('Study')\n",
    "print(studies)\n",
    "\n",
    "experiments = getAllRecords('Experiment', studyId=1)\n",
    "print(experiments)"
   ]
  },
  {
   "cell_type": "code",
   "execution_count": 25,
   "id": "7d034f29",
   "metadata": {},
   "outputs": [],
   "source": [
    "phrase = \"INSERT IGNORE INTO Bacteria bacteriaGenus, bacteriaSpecies, bacteriaStrain) VALUES ('genero', 'especie', 'linea')\""
   ]
  },
  {
   "cell_type": "code",
   "execution_count": 26,
   "id": "0f06886c",
   "metadata": {},
   "outputs": [
    {
     "name": "stdout",
     "output_type": "stream",
     "text": [
      "Something went wrong: 1064 (42000): You have an error in your SQL syntax; check the manual that corresponds to your MySQL server version for the right syntax to use near 'bacteriaGenus, bacteriaSpecies, bacteriaStrain) VALUES ('genero', 'especie', 'li' at line 1\n",
      "This is to check if it continues\n"
     ]
    }
   ],
   "source": [
    "execute(phrase)"
   ]
  },
  {
   "cell_type": "markdown",
   "id": "6b8a47d3",
   "metadata": {},
   "source": [
    "# INSERT IGNORE and get LAST ID"
   ]
  },
  {
   "cell_type": "raw",
   "id": "6a56ee1c",
   "metadata": {},
   "source": [
    "    # last_id = 0\n",
    "    # # What if INSERT IGNORE and it was not inserted?\n",
    "    # # https://stackoverflow.com/questions/6291405/mysql-after-insert-ignore-get-primary-key\n",
    "    # if \"INSERT\" in phrase:\n",
    "    #     cursor.execute(\"SELECT LAST_INSERT_ID()\")\n",
    "    #     last_id = cursor.fetchall()[0][0]"
   ]
  },
  {
   "cell_type": "code",
   "execution_count": 69,
   "id": "74d8b8da",
   "metadata": {},
   "outputs": [],
   "source": [
    "phrase = \"INSERT IGNORE INTO Bacteria (bacteriaGenus, bacteriaSpecies, bacteriaStrain) VALUES ('genero', 'especie', 'linea')\"\n",
    "phrase2 = \"SELECT bacteriaId FROM Bacteria WHERE bacteriaGenus = 'B' AND bacteriaSpecies = 'julia' AND bacteriaStrain ='ABC'\"\n"
   ]
  },
  {
   "cell_type": "raw",
   "id": "1aa6d2b4",
   "metadata": {},
   "source": [
    "insert = execute(phrase)"
   ]
  },
  {
   "cell_type": "code",
   "execution_count": 70,
   "id": "347dbbb9",
   "metadata": {},
   "outputs": [
    {
     "name": "stdout",
     "output_type": "stream",
     "text": [
      "insert (1, [])\n",
      "select (1, [(43,)])\n"
     ]
    }
   ],
   "source": [
    "insert = execute(phrase)\n",
    "print('insert', insert)\n",
    "select = execute(phrase2)\n",
    "print('select', select)"
   ]
  },
  {
   "cell_type": "code",
   "execution_count": 51,
   "id": "06152f77",
   "metadata": {},
   "outputs": [],
   "source": [
    "def getFieldsValues(args):\n",
    "    fields = \"(\"\n",
    "    values = \"(\"\n",
    "    for key, val in args.items():\n",
    "        fields = fields + key + ','\n",
    "        values = values + \"'\" +str(val) + \"',\"\n",
    "    fields = fields[:-1] + ')'\n",
    "    values = values[:-1] + ')'\n",
    "    return [fields, values]"
   ]
  },
  {
   "cell_type": "code",
   "execution_count": 48,
   "id": "1d15cdd3",
   "metadata": {},
   "outputs": [],
   "source": [
    "bact = {\n",
    "    'bacteriaGenus': 'genero',\n",
    "    'bacteriaSpecies': 'especie',\n",
    "    'bacteriaStrain': 'linea'\n",
    "}"
   ]
  },
  {
   "cell_type": "code",
   "execution_count": 52,
   "id": "954415f1",
   "metadata": {},
   "outputs": [
    {
     "name": "stdout",
     "output_type": "stream",
     "text": [
      "(bacteriaGenus,bacteriaSpecies,bacteriaStrain)\n",
      "('genero','especie','linea')\n"
     ]
    }
   ],
   "source": [
    "#fields = getFieldsValues(bact)[0]\n",
    "#values = getFieldsValues(bact)[1]\n",
    "fields, values = getFieldsValues(bact)\n",
    "print(fields)\n",
    "print(values)"
   ]
  },
  {
   "cell_type": "code",
   "execution_count": 55,
   "id": "9ebbdf45",
   "metadata": {},
   "outputs": [
    {
     "name": "stdout",
     "output_type": "stream",
     "text": [
      "INSERT IGNORE INTO Bacteria(bacteriaGenus,bacteriaSpecies,bacteriaStrain) VALUES ('genero','especie','linea')\n"
     ]
    }
   ],
   "source": [
    "table = 'Bacteria'\n",
    "phrase = \"INSERT IGNORE INTO \" + table + fields + \" VALUES \" + values\n",
    "print(phrase)"
   ]
  },
  {
   "cell_type": "code",
   "execution_count": 57,
   "id": "46a087cc",
   "metadata": {},
   "outputs": [
    {
     "data": {
      "text/plain": [
       "3"
      ]
     },
     "execution_count": 57,
     "metadata": {},
     "output_type": "execute_result"
    }
   ],
   "source": [
    "len(bact)"
   ]
  },
  {
   "cell_type": "code",
   "execution_count": 67,
   "id": "6ddb6d86",
   "metadata": {},
   "outputs": [],
   "source": [
    "def getWhereClause(args):\n",
    "    clause = \"WHERE (\"\n",
    "    for key, val in args.items():\n",
    "        clause = clause + key + \"= '\" + val + \"' AND \"\n",
    "        print(clause)\n",
    "    clause = clause[:-5] + ')'\n",
    "    print('\\n', clause)"
   ]
  },
  {
   "cell_type": "code",
   "execution_count": 68,
   "id": "b5810ebb",
   "metadata": {},
   "outputs": [
    {
     "name": "stdout",
     "output_type": "stream",
     "text": [
      "WHERE (bacteriaGenus= 'genero' AND \n",
      "WHERE (bacteriaGenus= 'genero' AND bacteriaSpecies= 'especie' AND \n",
      "WHERE (bacteriaGenus= 'genero' AND bacteriaSpecies= 'especie' AND bacteriaStrain= 'linea' AND \n",
      "\n",
      " WHERE (bacteriaGenus= 'genero' AND bacteriaSpecies= 'especie' AND bacteriaStrain= 'linea')\n"
     ]
    }
   ],
   "source": [
    "getWhereClause(bact)"
   ]
  },
  {
   "cell_type": "code",
   "execution_count": 80,
   "id": "a0b82508",
   "metadata": {},
   "outputs": [
    {
     "data": {
      "text/plain": [
       "'experimentId'"
      ]
     },
     "execution_count": 80,
     "metadata": {},
     "output_type": "execute_result"
    }
   ],
   "source": [
    "phrase = \"SHOW KEYS FROM Experiment WHERE Key_name = 'PRIMARY'\"\n",
    "res = execute(phrase)\n",
    "res[1][0][4]"
   ]
  },
  {
   "cell_type": "markdown",
   "id": "8c0effae",
   "metadata": {},
   "source": [
    "-------"
   ]
  },
  {
   "cell_type": "code",
   "execution_count": 97,
   "id": "5b2e6393",
   "metadata": {},
   "outputs": [],
   "source": [
    "def addExperiment(expDescription):\n",
    "    phrase = \"INSERT INTO Experiment (experimentDescription) VALUES ('\" +expDescription+ \"')\"\n",
    "    last_id = execute(phrase)[0]\n",
    "    return last_id"
   ]
  },
  {
   "cell_type": "code",
   "execution_count": 120,
   "id": "72b0128e",
   "metadata": {},
   "outputs": [],
   "source": [
    "def addCultivation(cultId, cultDescription, expId):\n",
    "    phrase = \"INSERT IGNORE INTO CultivationConditions (cultivationId, cultivationDescription, experimentId) VALUES ('\"+cultId+\"','\"+cultDescription+\"','\"+expId+\"')\"\n",
    "    execute(phrase)\n",
    "    return False"
   ]
  },
  {
   "cell_type": "code",
   "execution_count": 121,
   "id": "66652069",
   "metadata": {},
   "outputs": [],
   "source": [
    "def addReplicate(repId, repDescription, cultId, file):\n",
    "    phrase = \"INSERT IGNORE INTO TechnicalReplicates (replicateId, replicateDescription, cultivationId, bacterialAbundanceFile) \"\\\n",
    "                \"VALUES ('\"+repId+\"','\"+repDescription+\"','\"+cultId+\"','\"+file+\"')\"\n",
    "    last_id = execute(phrase)[0]\n",
    "    return last_id\n",
    "    "
   ]
  },
  {
   "cell_type": "raw",
   "id": "4dec22f0",
   "metadata": {},
   "source": [
    "def getLastId():\n",
    "    phrase = \"SELECT LAST_INSERT_ID();\"\n",
    "    res = execute(phrase)\n",
    "    last_id = res\n",
    "    return last_id"
   ]
  },
  {
   "cell_type": "code",
   "execution_count": 110,
   "id": "20701709",
   "metadata": {},
   "outputs": [],
   "source": [
    "def countRecords(table, field, value):\n",
    "    phrase = \"SELECT COUNT(*) FROM \"+table+\" WHERE \"+field+\" = \" + value\n",
    "    res = execute(phrase)\n",
    "    count = res[1][0][0]\n",
    "    return count"
   ]
  },
  {
   "cell_type": "code",
   "execution_count": null,
   "id": "58957ef4",
   "metadata": {},
   "outputs": [],
   "source": []
  },
  {
   "cell_type": "code",
   "execution_count": null,
   "id": "163189d3",
   "metadata": {},
   "outputs": [],
   "source": []
  },
  {
   "cell_type": "markdown",
   "id": "3dafc3a3",
   "metadata": {},
   "source": [
    "## Code"
   ]
  },
  {
   "cell_type": "code",
   "execution_count": 11,
   "id": "4309249d",
   "metadata": {},
   "outputs": [],
   "source": [
    "EXP_DESCRIPTION = 'This experiment was done in Brussels.'\n",
    "CULT_DESCRIPTION = 'In this perturbation, we kept pH at 5'\n",
    "REP_DESCRIPTION = 'Replicate number #'"
   ]
  },
  {
   "cell_type": "code",
   "execution_count": 135,
   "id": "f1bb8781",
   "metadata": {},
   "outputs": [],
   "source": [
    "# These paths will come from the user!!\n",
    "\n",
    "files = open(\"/Users/julia/bacterialGrowth_thesis/IntermediateFiles/listOfFiles.list\", \"r\").readlines()\n",
    "files = list(map(lambda s: s.strip(), files))"
   ]
  },
  {
   "cell_type": "code",
   "execution_count": 136,
   "id": "5bb049d2",
   "metadata": {},
   "outputs": [
    {
     "data": {
      "text/plain": [
       "['/Users/julia/bacterialGrowth_thesis/Data/BT_batch_mucin1/1/BT_batch_mucin1_1.txt',\n",
       " '/Users/julia/bacterialGrowth_thesis/Data/BT_batch_mucin1/2/BT_batch_mucin1_2.txt',\n",
       " '/Users/julia/bacterialGrowth_thesis/Data/BT_batch_mucin1/3/BT_batch_mucin1_3.txt',\n",
       " '/Users/julia/bacterialGrowth_thesis/Data/BT_batch_mucin1/4/BT_batch_mucin1_4.txt',\n",
       " '/Users/julia/bacterialGrowth_thesis/Data/BT_batch_mucin1/5/BT_batch_mucin1_5.txt',\n",
       " '/Users/julia/bacterialGrowth_thesis/Data/BT_batch_mucin1/6/BT_batch_mucin1_6.txt',\n",
       " '/Users/julia/bacterialGrowth_thesis/Data/BT_batch_mucin1/7/BT_batch_mucin1_7.txt',\n",
       " '/Users/julia/bacterialGrowth_thesis/Data/BT_batch_mucin1/8/BT_batch_mucin1_8.txt',\n",
       " '/Users/julia/bacterialGrowth_thesis/Data/BT_batch_mucin1/9/BT_batch_mucin1_9.txt']"
      ]
     },
     "execution_count": 136,
     "metadata": {},
     "output_type": "execute_result"
    }
   ],
   "source": [
    "files"
   ]
  },
  {
   "cell_type": "code",
   "execution_count": 140,
   "id": "50423051",
   "metadata": {},
   "outputs": [],
   "source": [
    "def addNewExperiment(files):\n",
    "    expId = addExperiment(EXP_DESCRIPTION)\n",
    "\n",
    "    number_cult = countRecords('CultivationConditions', 'experimentId', str(expId))\n",
    "    \n",
    "    cultId = expId*100 + number_cult + 1\n",
    "    \n",
    "    addCultivation(str(cultId), CULT_DESCRIPTION, str(expId))\n",
    "    \n",
    "    number_rep = countRecords('TechnicalReplicates', 'cultivationId', str(cultId))\n",
    "    \n",
    "    for i, file in enumerate(files):\n",
    "        print(i, file)\n",
    "        repId = str(cultId) + '_' + str(number_rep + i + 1)\n",
    "        addReplicate(repId, REP_DESCRIPTION, str(cultId), file)"
   ]
  },
  {
   "cell_type": "code",
   "execution_count": 141,
   "id": "298d297b",
   "metadata": {},
   "outputs": [
    {
     "name": "stdout",
     "output_type": "stream",
     "text": [
      "0 /Users/julia/bacterialGrowth_thesis/Data/BT_batch_mucin1/1/BT_batch_mucin1_1.txt\n",
      "1 /Users/julia/bacterialGrowth_thesis/Data/BT_batch_mucin1/2/BT_batch_mucin1_2.txt\n",
      "2 /Users/julia/bacterialGrowth_thesis/Data/BT_batch_mucin1/3/BT_batch_mucin1_3.txt\n",
      "3 /Users/julia/bacterialGrowth_thesis/Data/BT_batch_mucin1/4/BT_batch_mucin1_4.txt\n",
      "4 /Users/julia/bacterialGrowth_thesis/Data/BT_batch_mucin1/5/BT_batch_mucin1_5.txt\n",
      "5 /Users/julia/bacterialGrowth_thesis/Data/BT_batch_mucin1/6/BT_batch_mucin1_6.txt\n",
      "6 /Users/julia/bacterialGrowth_thesis/Data/BT_batch_mucin1/7/BT_batch_mucin1_7.txt\n",
      "7 /Users/julia/bacterialGrowth_thesis/Data/BT_batch_mucin1/8/BT_batch_mucin1_8.txt\n",
      "8 /Users/julia/bacterialGrowth_thesis/Data/BT_batch_mucin1/9/BT_batch_mucin1_9.txt\n"
     ]
    }
   ],
   "source": [
    "addNewExperiment(files)"
   ]
  },
  {
   "cell_type": "code",
   "execution_count": 150,
   "id": "bcee4249",
   "metadata": {},
   "outputs": [
    {
     "data": {
      "text/plain": [
       "'BT_batch_mucin1_1.txt BT_batch_mucin1 1\\n'"
      ]
     },
     "execution_count": 150,
     "metadata": {},
     "output_type": "execute_result"
    }
   ],
   "source": [
    "PROJECT_DIRECTORY = '/Users/julia/bacterialGrowth_thesis/'\n",
    "experimentName = open(PROJECT_DIRECTORY + 'IntermediateFiles/experiments_info.txt', \"r\").readlines()[1]\n",
    "experimentName"
   ]
  },
  {
   "cell_type": "code",
   "execution_count": 151,
   "id": "596906d0",
   "metadata": {},
   "outputs": [
    {
     "data": {
      "text/plain": [
       "'BT_batch_mucin1'"
      ]
     },
     "execution_count": 151,
     "metadata": {},
     "output_type": "execute_result"
    }
   ],
   "source": [
    "[x.split(' ')[1] for x in open(PROJECT_DIRECTORY + 'IntermediateFiles/experiments_info.txt').readlines()][1]"
   ]
  },
  {
   "cell_type": "markdown",
   "id": "42cb299b",
   "metadata": {},
   "source": [
    "## Variable number of arguments"
   ]
  },
  {
   "cell_type": "code",
   "execution_count": 177,
   "id": "aa8a24d8",
   "metadata": {},
   "outputs": [],
   "source": [
    "def addExperiment(**args):\n",
    "    fields = \"(\"\n",
    "    values = \"(\"\n",
    "    for key, val in args.items():\n",
    "        fields = fields + key + ','\n",
    "        values = values + \"'\" +val + \"',\"\n",
    "    fields = fields[:-1] + ')'\n",
    "    values = values[:-1] + ')'\n",
    "    phrase = \"INSERT INTO Experiment \" + fields + \" VALUES \" + values\n",
    "        \n",
    "    last_id = execute(phrase)[0]\n",
    "    return last_id"
   ]
  },
  {
   "cell_type": "code",
   "execution_count": 178,
   "id": "b06f61aa",
   "metadata": {},
   "outputs": [
    {
     "data": {
      "text/plain": [
       "4"
      ]
     },
     "execution_count": 178,
     "metadata": {},
     "output_type": "execute_result"
    }
   ],
   "source": [
    "ph = addExperiment(experimentName='Hola', experimentDescription='Esto es una prueba')\n",
    "ph"
   ]
  },
  {
   "cell_type": "code",
   "execution_count": null,
   "id": "f64c9629",
   "metadata": {},
   "outputs": [],
   "source": []
  }
 ],
 "metadata": {
  "kernelspec": {
   "display_name": "Python 3",
   "language": "python",
   "name": "python3"
  },
  "language_info": {
   "codemirror_mode": {
    "name": "ipython",
    "version": 3
   },
   "file_extension": ".py",
   "mimetype": "text/x-python",
   "name": "python",
   "nbconvert_exporter": "python",
   "pygments_lexer": "ipython3",
   "version": "3.6.10"
  }
 },
 "nbformat": 4,
 "nbformat_minor": 5
}
