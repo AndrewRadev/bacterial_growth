{
 "cells": [
  {
   "cell_type": "code",
   "execution_count": 2,
   "id": "9c1271e3",
   "metadata": {},
   "outputs": [],
   "source": [
    "import os\n",
    "import mysql.connector\n",
    "import pandas as pd\n",
    "import numpy as np\n",
    "import matplotlib.pyplot as plt\n",
    "import seaborn as sns\n",
    "import re\n",
    "%matplotlib inline"
   ]
  },
  {
   "cell_type": "code",
   "execution_count": 3,
   "id": "d1336a7d",
   "metadata": {},
   "outputs": [],
   "source": [
    "user_name = os.environ.get('DB_USER')\n",
    "password = os.environ.get('DB_PASSWORD')\n",
    "DB_NAME = 'BacterialGrowth'"
   ]
  },
  {
   "cell_type": "markdown",
   "id": "7da435c8",
   "metadata": {},
   "source": [
    "# Database function: execute"
   ]
  },
  {
   "cell_type": "code",
   "execution_count": 267,
   "id": "4fb4080d",
   "metadata": {},
   "outputs": [],
   "source": [
    "def execute(phrase):\n",
    "    \"\"\"This function create a connection to the database and execute a command.\n",
    "    :param phrase: str SQL sentence to execute\n",
    "    :return: list of str received from the database after command execution.\n",
    "    \"\"\"\n",
    "    try:\n",
    "        cnx = mysql.connector.connect(user=user_name, password=password,host='localhost',database=DB_NAME)\n",
    "        cnx.get_warnings = True\n",
    "        cursor = cnx.cursor()\n",
    "        cursor.execute(phrase)\n",
    "        res = []\n",
    "        for row in cursor:\n",
    "            res.append(row)\n",
    "\n",
    "        warnings = cursor.fetchwarnings()\n",
    "        if warnings: \n",
    "            for i in range(len(warnings)):\n",
    "                print(\"Warning - \"+warnings[i][2])\n",
    "        cursor.close()\n",
    "        cnx.commit()\n",
    "        cnx.close()\n",
    "        return res\n",
    "    except mysql.connector.Error as err:\n",
    "        print(\"Something went wrong: {}\".format(err))\n"
   ]
  },
  {
   "cell_type": "code",
   "execution_count": 269,
   "id": "f4c60ce9",
   "metadata": {},
   "outputs": [],
   "source": [
    "def getRecords(table, field, args):\n",
    "    where_clause = getWhereClause(args)\n",
    "    phrase = \"SELECT \"+field+\" FROM \"+table+\" \"+where_clause\n",
    "    res = execute(phrase)\n",
    "    return res"
   ]
  },
  {
   "cell_type": "code",
   "execution_count": 268,
   "id": "ec970a21",
   "metadata": {},
   "outputs": [],
   "source": [
    "def getFiles(field, args):\n",
    "    where_clause = getWhereClause(args)\n",
    "    phrase = \"SELECT \"+field+\" FROM TechnicalReplicate \"+where_clause\n",
    "    res = execute(phrase)\n",
    "    return res"
   ]
  },
  {
   "cell_type": "code",
   "execution_count": 273,
   "id": "190c5ae9",
   "metadata": {},
   "outputs": [],
   "source": [
    "def getWhereClause(args):\n",
    "    clause = \"WHERE (\"\n",
    "    for key, val in args.items():\n",
    "        clause = clause + key + \"= '\" + str(val) + \"' AND \"\n",
    "    clause = clause[:-5] + ')'\n",
    "    return clause"
   ]
  },
  {
   "cell_type": "markdown",
   "id": "2d66b6c3",
   "metadata": {},
   "source": [
    "# Abundance plot of bacteria in a single replicate\n"
   ]
  },
  {
   "cell_type": "code",
   "execution_count": 256,
   "id": "d502ec82",
   "metadata": {},
   "outputs": [],
   "source": [
    "phrase = \"SELECT abundanceFile FROM TechnicalReplicate WHERE abundanceFile = '/Users/julia/bacterialGrowth_thesis/Data/experiments/101/101.1/1/abundance_file.txt'\"\n",
    "phrase_met = \"SELECT metabolitesFile FROM TechnicalReplicate WHERE metabolitesFile = '/Users/julia/bacterialGrowth_thesis/Data/experiments/101/101.1/1/metabolites_file.txt'\"\n"
   ]
  },
  {
   "cell_type": "code",
   "execution_count": 257,
   "id": "95ad7ab8",
   "metadata": {},
   "outputs": [],
   "source": [
    "res = execute(phrase)\n",
    "res_met = execute(phrase_met)"
   ]
  },
  {
   "cell_type": "code",
   "execution_count": 258,
   "id": "fac3a06e",
   "metadata": {},
   "outputs": [
    {
     "data": {
      "text/plain": [
       "[('/Users/julia/bacterialGrowth_thesis/Data/experiments/101/101.1/1/metabolites_file.txt',)]"
      ]
     },
     "execution_count": 258,
     "metadata": {},
     "output_type": "execute_result"
    }
   ],
   "source": [
    "res_met"
   ]
  },
  {
   "cell_type": "code",
   "execution_count": 8,
   "id": "fd90eb24",
   "metadata": {},
   "outputs": [
    {
     "data": {
      "text/html": [
       "<div>\n",
       "<style scoped>\n",
       "    .dataframe tbody tr th:only-of-type {\n",
       "        vertical-align: middle;\n",
       "    }\n",
       "\n",
       "    .dataframe tbody tr th {\n",
       "        vertical-align: top;\n",
       "    }\n",
       "\n",
       "    .dataframe thead th {\n",
       "        text-align: right;\n",
       "    }\n",
       "</style>\n",
       "<table border=\"1\" class=\"dataframe\">\n",
       "  <thead>\n",
       "    <tr style=\"text-align: right;\">\n",
       "      <th></th>\n",
       "      <th>time</th>\n",
       "      <th>OD</th>\n",
       "      <th>liquidtotalcount</th>\n",
       "      <th>liquidactivecount</th>\n",
       "    </tr>\n",
       "  </thead>\n",
       "  <tbody>\n",
       "    <tr>\n",
       "      <th>0</th>\n",
       "      <td>0</td>\n",
       "      <td>0.014</td>\n",
       "      <td>4753</td>\n",
       "      <td>4109</td>\n",
       "    </tr>\n",
       "    <tr>\n",
       "      <th>1</th>\n",
       "      <td>4</td>\n",
       "      <td>0.024</td>\n",
       "      <td>17257</td>\n",
       "      <td>16616</td>\n",
       "    </tr>\n",
       "    <tr>\n",
       "      <th>2</th>\n",
       "      <td>8</td>\n",
       "      <td>0.211</td>\n",
       "      <td>228160</td>\n",
       "      <td>227030</td>\n",
       "    </tr>\n",
       "    <tr>\n",
       "      <th>3</th>\n",
       "      <td>12</td>\n",
       "      <td>0.657</td>\n",
       "      <td>763902</td>\n",
       "      <td>762292</td>\n",
       "    </tr>\n",
       "    <tr>\n",
       "      <th>4</th>\n",
       "      <td>16</td>\n",
       "      <td>0.868</td>\n",
       "      <td>1728989</td>\n",
       "      <td>1726829</td>\n",
       "    </tr>\n",
       "  </tbody>\n",
       "</table>\n",
       "</div>"
      ],
      "text/plain": [
       "   time     OD  liquidtotalcount  liquidactivecount\n",
       "0     0  0.014              4753               4109\n",
       "1     4  0.024             17257              16616\n",
       "2     8  0.211            228160             227030\n",
       "3    12  0.657            763902             762292\n",
       "4    16  0.868           1728989            1726829"
      ]
     },
     "execution_count": 8,
     "metadata": {},
     "output_type": "execute_result"
    }
   ],
   "source": [
    "growth_df = pd.read_csv(res[0][0], sep=\" \")\n",
    "growth_df.head()"
   ]
  },
  {
   "cell_type": "code",
   "execution_count": 259,
   "id": "c8c6fc79",
   "metadata": {},
   "outputs": [
    {
     "data": {
      "text/html": [
       "<div>\n",
       "<style scoped>\n",
       "    .dataframe tbody tr th:only-of-type {\n",
       "        vertical-align: middle;\n",
       "    }\n",
       "\n",
       "    .dataframe tbody tr th {\n",
       "        vertical-align: top;\n",
       "    }\n",
       "\n",
       "    .dataframe thead th {\n",
       "        text-align: right;\n",
       "    }\n",
       "</style>\n",
       "<table border=\"1\" class=\"dataframe\">\n",
       "  <thead>\n",
       "    <tr style=\"text-align: right;\">\n",
       "      <th></th>\n",
       "      <th>time</th>\n",
       "      <th>Glucose</th>\n",
       "      <th>Pyruvate</th>\n",
       "      <th>Succinate</th>\n",
       "      <th>Lactate</th>\n",
       "      <th>Formate</th>\n",
       "      <th>Acetate</th>\n",
       "      <th>Neu5Ac</th>\n",
       "    </tr>\n",
       "  </thead>\n",
       "  <tbody>\n",
       "    <tr>\n",
       "      <th>0</th>\n",
       "      <td>0</td>\n",
       "      <td>7.60</td>\n",
       "      <td>7.94</td>\n",
       "      <td>0.61</td>\n",
       "      <td>0.58</td>\n",
       "      <td>1.57</td>\n",
       "      <td>2.17</td>\n",
       "      <td>1.29</td>\n",
       "    </tr>\n",
       "    <tr>\n",
       "      <th>1</th>\n",
       "      <td>4</td>\n",
       "      <td>7.53</td>\n",
       "      <td>7.96</td>\n",
       "      <td>0.66</td>\n",
       "      <td>0.58</td>\n",
       "      <td>1.78</td>\n",
       "      <td>2.23</td>\n",
       "      <td>1.27</td>\n",
       "    </tr>\n",
       "    <tr>\n",
       "      <th>2</th>\n",
       "      <td>8</td>\n",
       "      <td>6.89</td>\n",
       "      <td>8.21</td>\n",
       "      <td>1.22</td>\n",
       "      <td>0.62</td>\n",
       "      <td>2.32</td>\n",
       "      <td>3.12</td>\n",
       "      <td>1.26</td>\n",
       "    </tr>\n",
       "    <tr>\n",
       "      <th>3</th>\n",
       "      <td>12</td>\n",
       "      <td>4.42</td>\n",
       "      <td>7.14</td>\n",
       "      <td>3.78</td>\n",
       "      <td>1.32</td>\n",
       "      <td>3.80</td>\n",
       "      <td>6.07</td>\n",
       "      <td>1.28</td>\n",
       "    </tr>\n",
       "    <tr>\n",
       "      <th>4</th>\n",
       "      <td>16</td>\n",
       "      <td>1.44</td>\n",
       "      <td>3.55</td>\n",
       "      <td>6.17</td>\n",
       "      <td>2.98</td>\n",
       "      <td>2.92</td>\n",
       "      <td>9.52</td>\n",
       "      <td>1.27</td>\n",
       "    </tr>\n",
       "  </tbody>\n",
       "</table>\n",
       "</div>"
      ],
      "text/plain": [
       "   time  Glucose  Pyruvate  Succinate  Lactate  Formate  Acetate  Neu5Ac\n",
       "0     0     7.60      7.94       0.61     0.58     1.57     2.17    1.29\n",
       "1     4     7.53      7.96       0.66     0.58     1.78     2.23    1.27\n",
       "2     8     6.89      8.21       1.22     0.62     2.32     3.12    1.26\n",
       "3    12     4.42      7.14       3.78     1.32     3.80     6.07    1.28\n",
       "4    16     1.44      3.55       6.17     2.98     2.92     9.52    1.27"
      ]
     },
     "execution_count": 259,
     "metadata": {},
     "output_type": "execute_result"
    }
   ],
   "source": [
    "metab_df = pd.read_csv(res_met[0][0], sep=\" \")\n",
    "metab_df.head()"
   ]
  },
  {
   "cell_type": "code",
   "execution_count": 9,
   "id": "314ead89",
   "metadata": {},
   "outputs": [
    {
     "data": {
      "image/png": "[encoded data removed]",
      "text/plain": [
       "<Figure size 432x288 with 1 Axes>"
      ]
     },
     "metadata": {
      "needs_background": "light"
     },
     "output_type": "display_data"
    },
    {
     "data": {
      "image/png": "[encoded data removed]",
      "text/plain": [
       "<Figure size 432x288 with 1 Axes>"
      ]
     },
     "metadata": {
      "needs_background": "light"
     },
     "output_type": "display_data"
    }
   ],
   "source": [
    "plt.plot('time', 'OD', data=growth_df, linestyle='-')\n",
    "plt.legend()\n",
    "plt.show()\n",
    "\n",
    "plt.plot('time', 'liquidtotalcount', data=growth_df, linestyle='-')\n",
    "plt.plot('time', 'liquidactivecount', data=growth_df, linestyle='-')\n",
    "plt.legend()\n",
    "plt.show()"
   ]
  },
  {
   "cell_type": "code",
   "execution_count": 10,
   "id": "1c2896f5",
   "metadata": {},
   "outputs": [],
   "source": [
    "def plotSeveralColumns(df):\n",
    "    if len(df.columns) > 1:\n",
    "        for column in df:\n",
    "            if column != 'time':\n",
    "                plt.plot('time', column, data=df, linestyle='-')\n",
    "        plt.legend()\n",
    "        plt.show()"
   ]
  },
  {
   "cell_type": "code",
   "execution_count": 11,
   "id": "b08f3b61",
   "metadata": {},
   "outputs": [],
   "source": [
    "def plotSeveralColumns(df, regex):\n",
    "    \n",
    "    headers = getMatchingList(regex, df)\n",
    "    data = getIntersectionColumns(df, headers)\n",
    "    \n",
    "    if len(data.columns) > 1:\n",
    "        for column in data:\n",
    "            if column != 'time':\n",
    "                plt.plot('time', column, data=data, linestyle='-')\n",
    "        plt.legend()\n",
    "        plt.show()"
   ]
  },
  {
   "cell_type": "code",
   "execution_count": 12,
   "id": "f49c6c7d",
   "metadata": {},
   "outputs": [],
   "source": [
    "def getMatchingList (regex, lst):\n",
    "    '''\n",
    "    This function takes a regex expression and returns a list with all the matching words in the given lst\n",
    "    '''\n",
    "    res = []\n",
    "    for word in lst:\n",
    "        if regex.findall(word):\n",
    "            res.append(word)\n",
    "    return res\n",
    "\n",
    "def getIntersectionColumns(df, columns):\n",
    "    res = df[df.columns.intersection(columns)]\n",
    "    return res"
   ]
  },
  {
   "cell_type": "code",
   "execution_count": 13,
   "id": "047bbcf1",
   "metadata": {},
   "outputs": [],
   "source": [
    "od_regex = re.compile(r'.*time.* | .*OD.*', flags=re.I | re.X)\n",
    "count_regex = re.compile(r'.*time.* | .*count.*', flags=re.I | re.X)\n",
    "qpcr_regex = re.compile(r'.*time.* | .*qpcr.*', flags=re.I | re.X)\n",
    "rnaseq_regex = re.compile(r'.*time.* | .*rna.*', flags=re.I | re.X)"
   ]
  },
  {
   "cell_type": "raw",
   "id": "2c20f7be",
   "metadata": {},
   "source": [
    "od_headers = getMatchingList(OD_regex, growth_df)\n",
    "count_headers = getMatchingList(count_regex, growth_df)\n",
    "qpcr_headers = getMatchingList(qpcr_regex, growth_df)\n",
    "rnaseq_headers = getMatchingList(rnaseq_regex, growth_df)"
   ]
  },
  {
   "cell_type": "raw",
   "id": "2a6ea372",
   "metadata": {},
   "source": [
    "od_data = getIntersectionColumns(growth_df, od_headers)\n",
    "count_data = getIntersectionColumns(growth_df, count_headers)\n",
    "qpcr_data = getIntersectionColumns(growth_df, qpcr_headers)\n",
    "rnaseq_data = getIntersectionColumns(growth_df, rnaseq_headers)"
   ]
  },
  {
   "cell_type": "raw",
   "id": "6be71fa6",
   "metadata": {},
   "source": [
    "plotSeveralColumns(od_data)\n",
    "plotSeveralColumns(count_data)\n",
    "plotSeveralColumns(qpcr_data)\n",
    "plotSeveralColumns(rnaseq_data)"
   ]
  },
  {
   "cell_type": "code",
   "execution_count": 14,
   "id": "1a9ef1c8",
   "metadata": {},
   "outputs": [
    {
     "data": {
      "image/png": "[encoded data removed]",
      "text/plain": [
       "<Figure size 432x288 with 1 Axes>"
      ]
     },
     "metadata": {
      "needs_background": "light"
     },
     "output_type": "display_data"
    },
    {
     "data": {
      "image/png": "[encoded data removed]",
      "text/plain": [
       "<Figure size 432x288 with 1 Axes>"
      ]
     },
     "metadata": {
      "needs_background": "light"
     },
     "output_type": "display_data"
    }
   ],
   "source": [
    "plotSeveralColumns(growth_df, od_regex)\n",
    "plotSeveralColumns(growth_df, count_regex)\n",
    "plotSeveralColumns(growth_df, qpcr_regex)\n",
    "plotSeveralColumns(growth_df, rnaseq_regex)"
   ]
  },
  {
   "cell_type": "markdown",
   "id": "e75bb202",
   "metadata": {},
   "source": [
    "## TO DO:\n",
    "* Add title\n",
    "* Add xlabel and ylabel"
   ]
  },
  {
   "cell_type": "markdown",
   "id": "d5bc3b96",
   "metadata": {},
   "source": [
    "# Abundance plot of bacteria in a single experiment/perturbation (mean and standard deviation os a set of replicates) "
   ]
  },
  {
   "cell_type": "code",
   "execution_count": 15,
   "id": "8d1e17b3",
   "metadata": {},
   "outputs": [],
   "source": [
    "phrase_abundance = \"SELECT abundanceFile FROM TechnicalReplicate WHERE perturbationId = '101.1'\"\n",
    "phrase_metabolites = \"SELECT metabolitesFile FROM TechnicalReplicate WHERE perturbationId = '101.1'\""
   ]
  },
  {
   "cell_type": "code",
   "execution_count": 16,
   "id": "131dd640",
   "metadata": {},
   "outputs": [],
   "source": [
    "abundance_files = execute(phrase_abundance)\n",
    "metabolites_files = execute(phrase_metabolites)"
   ]
  },
  {
   "cell_type": "code",
   "execution_count": 17,
   "id": "a541a246",
   "metadata": {},
   "outputs": [
    {
     "data": {
      "text/plain": [
       "[('/Users/julia/bacterialGrowth_thesis/Data/experiments/101/101.1/1/metabolites_file.txt',),\n",
       " ('/Users/julia/bacterialGrowth_thesis/Data/experiments/101/101.1/2/metabolites_file.txt',),\n",
       " ('/Users/julia/bacterialGrowth_thesis/Data/experiments/101/101.1/3/metabolites_file.txt',),\n",
       " ('/Users/julia/bacterialGrowth_thesis/Data/experiments/101/101.1/4/metabolites_file.txt',),\n",
       " ('/Users/julia/bacterialGrowth_thesis/Data/experiments/101/101.1/5/metabolites_file.txt',),\n",
       " ('/Users/julia/bacterialGrowth_thesis/Data/experiments/101/101.1/6/metabolites_file.txt',),\n",
       " ('/Users/julia/bacterialGrowth_thesis/Data/experiments/101/101.1/7/metabolites_file.txt',),\n",
       " ('/Users/julia/bacterialGrowth_thesis/Data/experiments/101/101.1/8/metabolites_file.txt',),\n",
       " ('/Users/julia/bacterialGrowth_thesis/Data/experiments/101/101.1/9/metabolites_file.txt',)]"
      ]
     },
     "execution_count": 17,
     "metadata": {},
     "output_type": "execute_result"
    }
   ],
   "source": [
    "metabolites_files"
   ]
  },
  {
   "cell_type": "raw",
   "id": "4b16783a",
   "metadata": {},
   "source": [
    "def getMeanStd(records, regex):\n",
    "    record = pd.read_csv(records[0][0], sep=\" \")\n",
    "    headers = getMatchingList(regex, record)\n",
    "    dfs = pd.DataFrame(columns=range(1))\n",
    "    dfs.set_axis(['time'], axis='columns', inplace=True)\n",
    "    dfs['time'] = record['time']\n",
    "    \n",
    "    for header in headers:\n",
    "        if header != 'time':\n",
    "            df = pd.DataFrame(columns=range(len(records)+1)) #Each column will be the value of each record\n",
    "\n",
    "            # Fill the df parsing all the records' files\n",
    "            for i, record in enumerate(records, 1):\n",
    "                record_df = pd.read_csv(record[0], sep=\" \")\n",
    "                df.iloc[:,i] = record_df[header]\n",
    "\n",
    "            # Calculate and keep mean and std\n",
    "            df_res = pd.DataFrame(columns=range(3))\n",
    "            df_res.set_axis(['time', header+'_mean', header+'_std'], axis='columns', inplace=True)\n",
    "            df_res['time'] = record_df['time']\n",
    "            df_res[header+'_mean'] = df.iloc[:,1:].mean(axis=1, numeric_only=True)\n",
    "            df_res[header+'_std'] = df.iloc[:,1:].std(axis=1, numeric_only=True)\n",
    "\n",
    "            dfs = pd.merge(dfs, df_res, on='time')\n",
    "    \n",
    "    return dfs"
   ]
  },
  {
   "cell_type": "code",
   "execution_count": 19,
   "id": "5bbd6357",
   "metadata": {},
   "outputs": [],
   "source": [
    "def getMeanStd(records, regex=''):\n",
    "    record = pd.read_csv(records[0][0], sep=\" \")\n",
    "    if regex != '':\n",
    "        headers = getMatchingList(regex, record)\n",
    "    else:\n",
    "        headers = record.columns\n",
    "    \n",
    "    dfs = pd.DataFrame(columns=range(1))\n",
    "    dfs.set_axis(['time'], axis='columns', inplace=True)\n",
    "    dfs['time'] = record['time']\n",
    "    \n",
    "    for header in headers:\n",
    "        if header != 'time':\n",
    "            df = pd.DataFrame(columns=range(len(records)+1)) #Each column will be the value of each record\n",
    "\n",
    "            # Fill the df parsing all the records' files\n",
    "            for i, record in enumerate(records, 1):\n",
    "                record_df = pd.read_csv(record[0], sep=\" \")\n",
    "                df.iloc[:,i] = record_df[header]\n",
    "\n",
    "            # Calculate and keep mean and std\n",
    "            df_res = pd.DataFrame(columns=range(3))\n",
    "            df_res.set_axis(['time', header+'_mean', header+'_std'], axis='columns', inplace=True)\n",
    "            df_res['time'] = record_df['time']\n",
    "            df_res[header+'_mean'] = df.iloc[:,1:].mean(axis=1, numeric_only=True)\n",
    "            df_res[header+'_std'] = df.iloc[:,1:].std(axis=1, numeric_only=True)\n",
    "\n",
    "            dfs = pd.merge(dfs, df_res, on='time')\n",
    "    \n",
    "    return dfs"
   ]
  },
  {
   "cell_type": "code",
   "execution_count": 20,
   "id": "e391e36e",
   "metadata": {},
   "outputs": [],
   "source": [
    "def plotFigure(dfs):\n",
    "    if len(dfs.columns) > 1:\n",
    "        fig = plt.figure()\n",
    "        ax = fig.add_subplot(111)\n",
    "        ax.set_xlabel('time', fontsize = 16)\n",
    "        ax.set_ylabel('abundance', fontsize = 16)\n",
    "\n",
    "        cmap = plt.get_cmap(name='tab10')\n",
    "\n",
    "        for i in range(1,len(dfs.columns),2):\n",
    "            print(i)\n",
    "            ax.errorbar(dfs.iloc[:,0], dfs.iloc[:,i], yerr = dfs.iloc[:,i+1], color = cmap(i-1))\n",
    "\n",
    "        plt.show()"
   ]
  },
  {
   "cell_type": "markdown",
   "id": "bbb01ad0",
   "metadata": {},
   "source": [
    "### Abundances\n",
    "\n",
    "`regex = od_regex`"
   ]
  },
  {
   "cell_type": "code",
   "execution_count": 21,
   "id": "da9b5dc5",
   "metadata": {},
   "outputs": [],
   "source": [
    "od_msd = getMeanStd(abundance_files, regex=od_regex)\n",
    "count_msd = getMeanStd(abundance_files, regex=count_regex)\n",
    "qpcr_msd = getMeanStd(abundance_files, regex=qpcr_regex)\n",
    "rnaseq_msd = getMeanStd(abundance_files, regex=rnaseq_regex)"
   ]
  },
  {
   "cell_type": "code",
   "execution_count": 22,
   "id": "8ede292c",
   "metadata": {},
   "outputs": [
    {
     "name": "stdout",
     "output_type": "stream",
     "text": [
      "1\n"
     ]
    },
    {
     "data": {
      "image/png": "[encoded data removed]",
      "text/plain": [
       "<Figure size 432x288 with 1 Axes>"
      ]
     },
     "metadata": {
      "needs_background": "light"
     },
     "output_type": "display_data"
    }
   ],
   "source": [
    "plotFigure(od_msd)"
   ]
  },
  {
   "cell_type": "code",
   "execution_count": 23,
   "id": "fe725d43",
   "metadata": {},
   "outputs": [
    {
     "name": "stdout",
     "output_type": "stream",
     "text": [
      "1\n",
      "3\n"
     ]
    },
    {
     "data": {
      "image/png": "[encoded data removed]",
      "text/plain": [
       "<Figure size 432x288 with 1 Axes>"
      ]
     },
     "metadata": {
      "needs_background": "light"
     },
     "output_type": "display_data"
    }
   ],
   "source": [
    "plotFigure(count_msd)"
   ]
  },
  {
   "cell_type": "code",
   "execution_count": 24,
   "id": "734be79b",
   "metadata": {},
   "outputs": [],
   "source": [
    "plotFigure(qpcr_msd)"
   ]
  },
  {
   "cell_type": "markdown",
   "id": "968ac146",
   "metadata": {},
   "source": [
    "### Metabolites\n",
    "`regex = ''`"
   ]
  },
  {
   "cell_type": "code",
   "execution_count": 161,
   "id": "60f53ca7",
   "metadata": {},
   "outputs": [],
   "source": [
    "met_msd = getMeanStd(metabolites_files, regex='')"
   ]
  },
  {
   "cell_type": "code",
   "execution_count": 162,
   "id": "b187b4ee",
   "metadata": {},
   "outputs": [
    {
     "data": {
      "text/html": [
       "<div>\n",
       "<style scoped>\n",
       "    .dataframe tbody tr th:only-of-type {\n",
       "        vertical-align: middle;\n",
       "    }\n",
       "\n",
       "    .dataframe tbody tr th {\n",
       "        vertical-align: top;\n",
       "    }\n",
       "\n",
       "    .dataframe thead th {\n",
       "        text-align: right;\n",
       "    }\n",
       "</style>\n",
       "<table border=\"1\" class=\"dataframe\">\n",
       "  <thead>\n",
       "    <tr style=\"text-align: right;\">\n",
       "      <th></th>\n",
       "      <th>time</th>\n",
       "      <th>Glucose_mean</th>\n",
       "      <th>Glucose_std</th>\n",
       "      <th>Pyruvate_mean</th>\n",
       "      <th>Pyruvate_std</th>\n",
       "      <th>Succinate_mean</th>\n",
       "      <th>Succinate_std</th>\n",
       "      <th>Lactate_mean</th>\n",
       "      <th>Lactate_std</th>\n",
       "      <th>Formate_mean</th>\n",
       "      <th>Formate_std</th>\n",
       "      <th>Acetate_mean</th>\n",
       "      <th>Acetate_std</th>\n",
       "      <th>Neu5Ac_mean</th>\n",
       "      <th>Neu5Ac_std</th>\n",
       "    </tr>\n",
       "  </thead>\n",
       "  <tbody>\n",
       "    <tr>\n",
       "      <th>0</th>\n",
       "      <td>0</td>\n",
       "      <td>7.580000</td>\n",
       "      <td>0.036742</td>\n",
       "      <td>7.972222</td>\n",
       "      <td>0.040859</td>\n",
       "      <td>0.624444</td>\n",
       "      <td>0.023511</td>\n",
       "      <td>0.564444</td>\n",
       "      <td>0.043333</td>\n",
       "      <td>1.631111</td>\n",
       "      <td>0.231703</td>\n",
       "      <td>2.181111</td>\n",
       "      <td>0.021473</td>\n",
       "      <td>1.282222</td>\n",
       "      <td>0.008333</td>\n",
       "    </tr>\n",
       "    <tr>\n",
       "      <th>1</th>\n",
       "      <td>4</td>\n",
       "      <td>7.533333</td>\n",
       "      <td>0.042720</td>\n",
       "      <td>7.982222</td>\n",
       "      <td>0.044659</td>\n",
       "      <td>0.647778</td>\n",
       "      <td>0.014814</td>\n",
       "      <td>0.575556</td>\n",
       "      <td>0.011304</td>\n",
       "      <td>1.770000</td>\n",
       "      <td>0.045000</td>\n",
       "      <td>2.240000</td>\n",
       "      <td>0.008660</td>\n",
       "      <td>1.274444</td>\n",
       "      <td>0.007265</td>\n",
       "    </tr>\n",
       "    <tr>\n",
       "      <th>2</th>\n",
       "      <td>8</td>\n",
       "      <td>6.817778</td>\n",
       "      <td>0.059325</td>\n",
       "      <td>8.228889</td>\n",
       "      <td>0.058405</td>\n",
       "      <td>1.316667</td>\n",
       "      <td>0.064031</td>\n",
       "      <td>0.616667</td>\n",
       "      <td>0.018708</td>\n",
       "      <td>2.477778</td>\n",
       "      <td>0.084080</td>\n",
       "      <td>3.223333</td>\n",
       "      <td>0.060415</td>\n",
       "      <td>1.263333</td>\n",
       "      <td>0.008660</td>\n",
       "    </tr>\n",
       "    <tr>\n",
       "      <th>3</th>\n",
       "      <td>12</td>\n",
       "      <td>4.271111</td>\n",
       "      <td>0.093601</td>\n",
       "      <td>6.860000</td>\n",
       "      <td>0.248345</td>\n",
       "      <td>3.822222</td>\n",
       "      <td>0.090523</td>\n",
       "      <td>1.276667</td>\n",
       "      <td>0.057009</td>\n",
       "      <td>3.120000</td>\n",
       "      <td>0.391280</td>\n",
       "      <td>6.211111</td>\n",
       "      <td>0.143653</td>\n",
       "      <td>1.268889</td>\n",
       "      <td>0.019003</td>\n",
       "    </tr>\n",
       "    <tr>\n",
       "      <th>4</th>\n",
       "      <td>16</td>\n",
       "      <td>1.354444</td>\n",
       "      <td>0.053877</td>\n",
       "      <td>3.303333</td>\n",
       "      <td>0.195959</td>\n",
       "      <td>6.291111</td>\n",
       "      <td>0.116022</td>\n",
       "      <td>3.067778</td>\n",
       "      <td>0.139712</td>\n",
       "      <td>2.965556</td>\n",
       "      <td>0.048247</td>\n",
       "      <td>9.657778</td>\n",
       "      <td>0.099093</td>\n",
       "      <td>1.267778</td>\n",
       "      <td>0.006667</td>\n",
       "    </tr>\n",
       "    <tr>\n",
       "      <th>5</th>\n",
       "      <td>20</td>\n",
       "      <td>0.218889</td>\n",
       "      <td>0.026194</td>\n",
       "      <td>1.204444</td>\n",
       "      <td>0.169640</td>\n",
       "      <td>7.871111</td>\n",
       "      <td>0.125344</td>\n",
       "      <td>3.924444</td>\n",
       "      <td>0.325811</td>\n",
       "      <td>2.976667</td>\n",
       "      <td>0.093808</td>\n",
       "      <td>11.683333</td>\n",
       "      <td>0.498071</td>\n",
       "      <td>1.262222</td>\n",
       "      <td>0.021082</td>\n",
       "    </tr>\n",
       "    <tr>\n",
       "      <th>6</th>\n",
       "      <td>24</td>\n",
       "      <td>0.148889</td>\n",
       "      <td>0.003333</td>\n",
       "      <td>0.860000</td>\n",
       "      <td>0.013229</td>\n",
       "      <td>8.731111</td>\n",
       "      <td>0.082832</td>\n",
       "      <td>3.778889</td>\n",
       "      <td>0.190095</td>\n",
       "      <td>2.956667</td>\n",
       "      <td>0.049244</td>\n",
       "      <td>12.103333</td>\n",
       "      <td>0.042131</td>\n",
       "      <td>1.270000</td>\n",
       "      <td>0.007071</td>\n",
       "    </tr>\n",
       "    <tr>\n",
       "      <th>7</th>\n",
       "      <td>28</td>\n",
       "      <td>0.136667</td>\n",
       "      <td>0.005000</td>\n",
       "      <td>0.821111</td>\n",
       "      <td>0.016159</td>\n",
       "      <td>9.033333</td>\n",
       "      <td>0.147479</td>\n",
       "      <td>3.700000</td>\n",
       "      <td>0.155804</td>\n",
       "      <td>2.968889</td>\n",
       "      <td>0.127715</td>\n",
       "      <td>12.246667</td>\n",
       "      <td>0.057228</td>\n",
       "      <td>1.274444</td>\n",
       "      <td>0.007265</td>\n",
       "    </tr>\n",
       "    <tr>\n",
       "      <th>8</th>\n",
       "      <td>32</td>\n",
       "      <td>0.137778</td>\n",
       "      <td>0.006667</td>\n",
       "      <td>0.794444</td>\n",
       "      <td>0.016667</td>\n",
       "      <td>9.144444</td>\n",
       "      <td>0.118122</td>\n",
       "      <td>3.748889</td>\n",
       "      <td>0.164503</td>\n",
       "      <td>2.931111</td>\n",
       "      <td>0.060300</td>\n",
       "      <td>12.235556</td>\n",
       "      <td>0.039087</td>\n",
       "      <td>1.280000</td>\n",
       "      <td>0.010000</td>\n",
       "    </tr>\n",
       "    <tr>\n",
       "      <th>9</th>\n",
       "      <td>38</td>\n",
       "      <td>0.141111</td>\n",
       "      <td>0.003333</td>\n",
       "      <td>0.766667</td>\n",
       "      <td>0.014142</td>\n",
       "      <td>9.226667</td>\n",
       "      <td>0.157242</td>\n",
       "      <td>3.750000</td>\n",
       "      <td>0.169189</td>\n",
       "      <td>2.944444</td>\n",
       "      <td>0.093423</td>\n",
       "      <td>12.222222</td>\n",
       "      <td>0.031136</td>\n",
       "      <td>1.333333</td>\n",
       "      <td>0.005000</td>\n",
       "    </tr>\n",
       "    <tr>\n",
       "      <th>10</th>\n",
       "      <td>42</td>\n",
       "      <td>0.144444</td>\n",
       "      <td>0.010138</td>\n",
       "      <td>0.770000</td>\n",
       "      <td>0.050990</td>\n",
       "      <td>9.457778</td>\n",
       "      <td>0.680400</td>\n",
       "      <td>3.826667</td>\n",
       "      <td>0.280179</td>\n",
       "      <td>2.975556</td>\n",
       "      <td>0.189612</td>\n",
       "      <td>12.464444</td>\n",
       "      <td>0.749318</td>\n",
       "      <td>1.364444</td>\n",
       "      <td>0.066165</td>\n",
       "    </tr>\n",
       "    <tr>\n",
       "      <th>11</th>\n",
       "      <td>48</td>\n",
       "      <td>0.146667</td>\n",
       "      <td>0.005000</td>\n",
       "      <td>0.746667</td>\n",
       "      <td>0.015811</td>\n",
       "      <td>9.338889</td>\n",
       "      <td>0.136147</td>\n",
       "      <td>3.818889</td>\n",
       "      <td>0.178357</td>\n",
       "      <td>2.923333</td>\n",
       "      <td>0.049497</td>\n",
       "      <td>12.273333</td>\n",
       "      <td>0.040311</td>\n",
       "      <td>1.343333</td>\n",
       "      <td>0.013229</td>\n",
       "    </tr>\n",
       "    <tr>\n",
       "      <th>12</th>\n",
       "      <td>72</td>\n",
       "      <td>0.150000</td>\n",
       "      <td>0.000000</td>\n",
       "      <td>0.685556</td>\n",
       "      <td>0.014240</td>\n",
       "      <td>9.450000</td>\n",
       "      <td>0.160779</td>\n",
       "      <td>3.811111</td>\n",
       "      <td>0.112633</td>\n",
       "      <td>2.878889</td>\n",
       "      <td>0.044845</td>\n",
       "      <td>12.321111</td>\n",
       "      <td>0.047022</td>\n",
       "      <td>1.393333</td>\n",
       "      <td>0.032016</td>\n",
       "    </tr>\n",
       "  </tbody>\n",
       "</table>\n",
       "</div>"
      ],
      "text/plain": [
       "    time  Glucose_mean  Glucose_std  Pyruvate_mean  Pyruvate_std  \\\n",
       "0      0      7.580000     0.036742       7.972222      0.040859   \n",
       "1      4      7.533333     0.042720       7.982222      0.044659   \n",
       "2      8      6.817778     0.059325       8.228889      0.058405   \n",
       "3     12      4.271111     0.093601       6.860000      0.248345   \n",
       "4     16      1.354444     0.053877       3.303333      0.195959   \n",
       "5     20      0.218889     0.026194       1.204444      0.169640   \n",
       "6     24      0.148889     0.003333       0.860000      0.013229   \n",
       "7     28      0.136667     0.005000       0.821111      0.016159   \n",
       "8     32      0.137778     0.006667       0.794444      0.016667   \n",
       "9     38      0.141111     0.003333       0.766667      0.014142   \n",
       "10    42      0.144444     0.010138       0.770000      0.050990   \n",
       "11    48      0.146667     0.005000       0.746667      0.015811   \n",
       "12    72      0.150000     0.000000       0.685556      0.014240   \n",
       "\n",
       "    Succinate_mean  Succinate_std  Lactate_mean  Lactate_std  Formate_mean  \\\n",
       "0         0.624444       0.023511      0.564444     0.043333      1.631111   \n",
       "1         0.647778       0.014814      0.575556     0.011304      1.770000   \n",
       "2         1.316667       0.064031      0.616667     0.018708      2.477778   \n",
       "3         3.822222       0.090523      1.276667     0.057009      3.120000   \n",
       "4         6.291111       0.116022      3.067778     0.139712      2.965556   \n",
       "5         7.871111       0.125344      3.924444     0.325811      2.976667   \n",
       "6         8.731111       0.082832      3.778889     0.190095      2.956667   \n",
       "7         9.033333       0.147479      3.700000     0.155804      2.968889   \n",
       "8         9.144444       0.118122      3.748889     0.164503      2.931111   \n",
       "9         9.226667       0.157242      3.750000     0.169189      2.944444   \n",
       "10        9.457778       0.680400      3.826667     0.280179      2.975556   \n",
       "11        9.338889       0.136147      3.818889     0.178357      2.923333   \n",
       "12        9.450000       0.160779      3.811111     0.112633      2.878889   \n",
       "\n",
       "    Formate_std  Acetate_mean  Acetate_std  Neu5Ac_mean  Neu5Ac_std  \n",
       "0      0.231703      2.181111     0.021473     1.282222    0.008333  \n",
       "1      0.045000      2.240000     0.008660     1.274444    0.007265  \n",
       "2      0.084080      3.223333     0.060415     1.263333    0.008660  \n",
       "3      0.391280      6.211111     0.143653     1.268889    0.019003  \n",
       "4      0.048247      9.657778     0.099093     1.267778    0.006667  \n",
       "5      0.093808     11.683333     0.498071     1.262222    0.021082  \n",
       "6      0.049244     12.103333     0.042131     1.270000    0.007071  \n",
       "7      0.127715     12.246667     0.057228     1.274444    0.007265  \n",
       "8      0.060300     12.235556     0.039087     1.280000    0.010000  \n",
       "9      0.093423     12.222222     0.031136     1.333333    0.005000  \n",
       "10     0.189612     12.464444     0.749318     1.364444    0.066165  \n",
       "11     0.049497     12.273333     0.040311     1.343333    0.013229  \n",
       "12     0.044845     12.321111     0.047022     1.393333    0.032016  "
      ]
     },
     "execution_count": 162,
     "metadata": {},
     "output_type": "execute_result"
    }
   ],
   "source": [
    "met_msd"
   ]
  },
  {
   "cell_type": "code",
   "execution_count": 27,
   "id": "23ea2c5e",
   "metadata": {},
   "outputs": [
    {
     "name": "stdout",
     "output_type": "stream",
     "text": [
      "1\n",
      "3\n",
      "5\n",
      "7\n",
      "9\n",
      "11\n",
      "13\n"
     ]
    },
    {
     "data": {
      "image/png": "[encoded data removed]",
      "text/plain": [
       "<Figure size 432x288 with 1 Axes>"
      ]
     },
     "metadata": {
      "needs_background": "light"
     },
     "output_type": "display_data"
    }
   ],
   "source": [
    "plotFigure(met_msd)"
   ]
  },
  {
   "cell_type": "markdown",
   "id": "c8525c08",
   "metadata": {},
   "source": [
    "# One experiment and its perturbations. Mean and std over its replicates"
   ]
  },
  {
   "cell_type": "code",
   "execution_count": 28,
   "id": "d15b0e75",
   "metadata": {},
   "outputs": [],
   "source": [
    "def plotMeanStdSeveralReplicates():\n",
    "    phrase_pert = \"SELECT perturbationId FROM Perturbation WHERE experimentId = '101'\"\n",
    "    perturbations = execute(phrase_pert)\n",
    "\n",
    "    od_total = []\n",
    "\n",
    "    for i,pert in enumerate(perturbations):\n",
    "        phrase_pert = \"SELECT abundanceFile FROM TechnicalReplicate WHERE perturbationId = '\"+pert[0]+\"'\"\n",
    "        abundance_files = execute(phrase_pert)\n",
    "\n",
    "        od_msd = getMeanStd(abundance_files, regex=od_regex)\n",
    "        count_msd = getMeanStd(abundance_files, regex=count_regex)\n",
    "        qpcr_msd = getMeanStd(abundance_files, regex=qpcr_regex)\n",
    "        rnaseq_msd = getMeanStd(abundance_files, regex=rnaseq_regex)\n",
    "\n",
    "        if i == 0:\n",
    "            od_total = od_msd\n",
    "        else:\n",
    "            od_total = pd.merge(od_total, od_msd, on='time')\n",
    "\n",
    "    return od_total"
   ]
  },
  {
   "cell_type": "code",
   "execution_count": 29,
   "id": "f6f3bd1f",
   "metadata": {},
   "outputs": [
    {
     "name": "stdout",
     "output_type": "stream",
     "text": [
      "1\n",
      "3\n"
     ]
    },
    {
     "data": {
      "image/png": "[encoded data removed]",
      "text/plain": [
       "<Figure size 432x288 with 1 Axes>"
      ]
     },
     "metadata": {
      "needs_background": "light"
     },
     "output_type": "display_data"
    }
   ],
   "source": [
    "a = plotMeanStdSeveralReplicates()\n",
    "plotFigure(a)"
   ]
  },
  {
   "cell_type": "markdown",
   "id": "4e7d85ae",
   "metadata": {},
   "source": [
    "------------------------------------------------------------------------\n",
    "# General function for both single dfs and dfs with mean and std"
   ]
  },
  {
   "cell_type": "code",
   "execution_count": 283,
   "id": "69b71f2c",
   "metadata": {},
   "outputs": [],
   "source": [
    "def prepareDf(options, data_type, args):\n",
    "    '''\n",
    "    This function prepares the df that is going to be plotted nad calls the function plotDf(df)\n",
    "    \n",
    "    * options: abundance/metabolites/ph\n",
    "    * data_type: '' or meanstd (if it must call the function getMeanStd and plot with error bars)\n",
    "    * args: arguments to call the database and obtain the files to be plotted\n",
    "    '''\n",
    "    abundance_options = ['od', 'counts', 'qpcr', 'rnaseq']\n",
    "    # Abundance file\n",
    "    # =====================================================================================\n",
    "    if 'abundance' in options:\n",
    "        files = db.getFiles('abundanceFile', args)\n",
    "        \n",
    "        for opt in abundance_options:\n",
    "            if data_type == 'meanstd':\n",
    "                regex = (globals()['%s_regex' % opt])\n",
    "                df = getMeanStd(files, regex=regex)\n",
    "            else:\n",
    "                df = pd.read_csv(files[0][0], sep=\" \")\n",
    "                regex = (globals()['%s_regex' % opt])\n",
    "                headers = getMatchingList(regex, df)\n",
    "                df = getIntersectionColumns(df, headers)\n",
    "                \n",
    "            # df comes from the if or the else\n",
    "            if len(df.columns) > 1:\n",
    "                fig = plt.figure()\n",
    "                ax = fig.add_subplot()\n",
    "                plotDf(df, ax)\n",
    "                plt.show()\n",
    "\n",
    "    # Metabolites file\n",
    "    # =====================================================================================\n",
    "    if 'metabolites' in options:\n",
    "        files = db.getFiles('metabolitesFile', args)\n",
    "\n",
    "        if 'meanstd':\n",
    "            df = getMeanStd(files, regex='')\n",
    "        else:\n",
    "            df = pd.read_csv(files[0][0], sep=\" \")\n",
    "        \n",
    "        fig = plt.figure()\n",
    "        ax = fig.add_subplot()\n",
    "        plotDf(df, ax)\n",
    "        plt.show()\n",
    "\n",
    "    # pH file\n",
    "    # =====================================================================================\n",
    "    if 'ph' in options:\n",
    "        files = db.getFiles('phFile', args)\n",
    "\n",
    "        if 'meanstd':\n",
    "            df = getMeanStd(files, regex='')\n",
    "        else:\n",
    "            df = pd.read_csv(files[0][0], sep=\" \")\n",
    "        \n",
    "        fig = plt.figure()\n",
    "        ax = fig.add_subplot()\n",
    "        plotDf(df, ax)\n",
    "        plt.show()"
   ]
  },
  {
   "cell_type": "code",
   "execution_count": 284,
   "id": "b465a971",
   "metadata": {},
   "outputs": [],
   "source": [
    "def plotDf(df, ax):\n",
    "    cmap = plt.get_cmap(name='tab10')\n",
    "    msd_regex = re.compile(r'.*mean.* | .*std.*', flags=re.I | re.X)\n",
    "    \n",
    "    if len(getMatchingList(msd_regex, df)) > 0:\n",
    "        vec = range(1,len(df.columns),2)\n",
    "        for i in vec:\n",
    "            ax.errorbar(df.iloc[:,0], df.iloc[:,i], yerr = df.iloc[:,i+1], color = cmap(i-1), label=df.columns[i][:-5])\n",
    "    else:\n",
    "        vec = range(1,len(df.columns))\n",
    "        for i in vec:\n",
    "            ax.plot(df.iloc[:,0], df.iloc[:,i], linestyle='-', color = cmap(i-1), label=df.columns[i])"
   ]
  },
  {
   "cell_type": "markdown",
   "id": "225f3a47",
   "metadata": {},
   "source": [
    "## SINGLE DF\n",
    "### Single df without mean and standard deviation"
   ]
  },
  {
   "cell_type": "code",
   "execution_count": 285,
   "id": "f3177f73",
   "metadata": {},
   "outputs": [
    {
     "data": {
      "image/png": "[encoded data removed]",
      "text/plain": [
       "<Figure size 432x288 with 1 Axes>"
      ]
     },
     "metadata": {
      "needs_background": "light"
     },
     "output_type": "display_data"
    }
   ],
   "source": [
    "#df = growth_df[['time', 'liquidtotalcount', 'liquidactivecount']]\n",
    "df = metab_df\n",
    "\n",
    "if len(df.columns) > 1:\n",
    "    fig = plt.figure()\n",
    "    ax = fig.add_subplot()\n",
    "    plotDf(df, ax)\n",
    "    legend = ax.legend(loc='upper right')\n",
    "    ax.set_xlabel('time')"
   ]
  },
  {
   "cell_type": "markdown",
   "id": "5552fce8",
   "metadata": {},
   "source": [
    "### Single df with mean and standard deviation"
   ]
  },
  {
   "cell_type": "code",
   "execution_count": 286,
   "id": "411ca633",
   "metadata": {},
   "outputs": [
    {
     "data": {
      "image/png": "[encoded data removed]",
      "text/plain": [
       "<Figure size 432x288 with 1 Axes>"
      ]
     },
     "metadata": {
      "needs_background": "light"
     },
     "output_type": "display_data"
    }
   ],
   "source": [
    "df = met_msd\n",
    "\n",
    "if len(df.columns) > 1:\n",
    "    fig = plt.figure()\n",
    "    ax = fig.add_subplot()\n",
    "    plotDf(df, ax)\n",
    "    legend = ax.legend(loc='upper right', shadow=True)"
   ]
  },
  {
   "cell_type": "markdown",
   "id": "6db3a60b",
   "metadata": {},
   "source": [
    "# SEVERAL DFS\n",
    "### Several dfs without mean and standard deviation"
   ]
  },
  {
   "cell_type": "code",
   "execution_count": 287,
   "id": "e9ae78e5",
   "metadata": {},
   "outputs": [
    {
     "data": {
      "image/png": "[encoded data removed]",
      "text/plain": [
       "<Figure size 432x288 with 1 Axes>"
      ]
     },
     "metadata": {
      "needs_background": "light"
     },
     "output_type": "display_data"
    }
   ],
   "source": [
    "met_files = metabolites_files[0:2]\n",
    "met_files = metabolites_files\n",
    "\n",
    "fig = plt.figure()\n",
    "ax = fig.add_subplot()\n",
    "\n",
    "for i,file in enumerate(met_files):\n",
    "    df = pd.read_csv(metabolites_files[i][0], sep=\" \")\n",
    "    if len(df.columns) > 1:\n",
    "        plotDf(df, ax)\n",
    "    if i == 0:\n",
    "        legend = ax.legend(loc='upper right', shadow=True)"
   ]
  },
  {
   "cell_type": "markdown",
   "id": "72e80a3f",
   "metadata": {},
   "source": [
    "### Several dfs with mean and standard deviation"
   ]
  },
  {
   "cell_type": "code",
   "execution_count": 288,
   "id": "cf59f708",
   "metadata": {},
   "outputs": [
    {
     "data": {
      "image/png": "[encoded data removed]",
      "text/plain": [
       "<Figure size 432x288 with 1 Axes>"
      ]
     },
     "metadata": {
      "needs_background": "light"
     },
     "output_type": "display_data"
    }
   ],
   "source": [
    "met_msd_mod = met_msd.copy()\n",
    "met_msd_mod.iloc[:,0] = met_msd_mod.iloc[:,0]+3\n",
    "met_msd_mod.iloc[:,1:] = (met_msd_mod.iloc[:,1:]*1.05)\n",
    "met_data = ['met_msd', 'met_msd_mod']\n",
    "\n",
    "fig = plt.figure()\n",
    "ax = fig.add_subplot()\n",
    "\n",
    "for i,df in enumerate(met_data):\n",
    "    df = (globals()['%s' % df])\n",
    "    plotDf(df, ax)\n",
    "    \n",
    "    if i == 0:\n",
    "        legend = ax.legend(loc='upper right', shadow=True)\n",
    "\n",
    "#ax.set_xlabel('time', fontsize = 16)\n",
    "#ax.set_ylabel('metabolites', fontsize = 16)\n",
    "#plt.show()"
   ]
  },
  {
   "cell_type": "code",
   "execution_count": null,
   "id": "488cee93",
   "metadata": {},
   "outputs": [],
   "source": []
  },
  {
   "cell_type": "markdown",
   "id": "e823ce70",
   "metadata": {},
   "source": [
    "# Collapse function"
   ]
  },
  {
   "cell_type": "code",
   "execution_count": null,
   "id": "1762c729",
   "metadata": {},
   "outputs": [],
   "source": [
    "df = metab_df\n",
    "df = met_msd\n",
    "met_files = metabolites_files #loop\n",
    "met_data = ['met_msd', 'met_msd_mod'] #several msd"
   ]
  },
  {
   "cell_type": "code",
   "execution_count": 303,
   "id": "29177fd8",
   "metadata": {},
   "outputs": [],
   "source": [
    "def prepareDf_2(field, args):\n",
    "    '''\n",
    "    field: abundance/metabolites/ph\n",
    "    args: arguments to call the database and get path to files \n",
    "    '''\n",
    "    db_field = field+'File'\n",
    "    files = getFiles(db_field, args)\n",
    "    \n",
    "    if len(files) == 1:\n",
    "        # ABUNDANCES ========================================================================\n",
    "        if field == 'abundance':\n",
    "            abundance_options = ['od', 'counts', 'qpcr', 'rnaseq']\n",
    "            for opt in abundance_options:\n",
    "                df = pd.read_csv(files[0][0], sep=\" \")\n",
    "                regex = (globals()['%s_regex' % opt])\n",
    "                headers = getMatchingList(regex, df)\n",
    "                df = getIntersectionColumns(df, headers)\n",
    "                \n",
    "                # plot df \n",
    "                if len(df.columns) > 1:\n",
    "                    fig = plt.figure()\n",
    "                    ax = fig.add_subplot()\n",
    "                    plotDf(df, ax)\n",
    "                    plt.show()\n",
    "        \n",
    "        # PH OR METABOLITES ==================================================================\n",
    "        else:\n",
    "            df = pd.read_csv(files[0][0], sep=\" \")  \n",
    "            \n",
    "            # plot df \n",
    "            if len(df.columns) > 1:\n",
    "                fig = plt.figure()\n",
    "                ax = fig.add_subplot()\n",
    "                plotDf(df, ax)\n",
    "                plt.show()\n",
    "    else:\n",
    "        # ABUNDANCES ========================================================================\n",
    "        if field == 'abundance':\n",
    "            print('several abundances')\n",
    "            print('\\t All of them?')\n",
    "            print('\\t Mean and standard deviation of all of them? ==> if records are from same experiment/perturbation')\n",
    "            print('\\t Mean and standard deviation but still several? ==> several perturbations')\n",
    "        # PH OR METABOLITES ==================================================================\n",
    "        else:\n",
    "            print('several ph or metabolites')\n",
    "            print('\\t All of them?')\n",
    "            print('\\t Mean and standard deviation of all of them? ==> if records are from same experiment/perturbation')\n",
    "            print('\\t Mean and standard deviation but still several? ==> several perturbations')"
   ]
  },
  {
   "cell_type": "code",
   "execution_count": 304,
   "id": "d3e53f80",
   "metadata": {},
   "outputs": [
    {
     "name": "stdout",
     "output_type": "stream",
     "text": [
      "====================\n",
      "One abundance\n",
      "====================\n",
      "several abundances\n",
      "\t All of them?\n",
      "\t Mean and standard deviation of all of them? ==> if records are from same experiment/perturbation\n",
      "\t Mean and standard deviation but still several? ==> several perturbations\n",
      "====================\n",
      "several ph or metabolites\n",
      "\t All of them?\n",
      "\t Mean and standard deviation of all of them? ==> if records are from same experiment/perturbation\n",
      "\t Mean and standard deviation but still several? ==> several perturbations\n",
      "====================\n",
      "several abundances\n",
      "\t All of them?\n",
      "\t Mean and standard deviation of all of them? ==> if records are from same experiment/perturbation\n",
      "\t Mean and standard deviation but still several? ==> several perturbations\n"
     ]
    }
   ],
   "source": [
    "args_1 = {'replicateId': '101.1_1'}\n",
    "args_2 = {'perturbationId': '101.1'}\n",
    "args_31 = {'experimentId': '101'}\n",
    "perturbation_ids = getRecords('Perturbation', 'perturbationId', args_31)\n",
    "for i,perturbation in enumerate(perturbation_ids):\n",
    "    args_32 = {'perturbationId': perturbation[0]}\n",
    "        \n",
    "print('='*20)\n",
    "prepareDf_2('abundance', args_1)\n",
    "print('='*20)\n",
    "prepareDf_2('abundance', args_2)\n",
    "print('='*20)\n",
    "prepareDf_2('metabolites', args_2)\n",
    "print('='*20)\n",
    "prepareDf_2('abundance', args_32)"
   ]
  },
  {
   "cell_type": "raw",
   "id": "3222055e",
   "metadata": {},
   "source": [
    "for option in options:\n",
    "        if option == 'abundance':\n",
    "            print('Hola')\n",
    "        \n",
    "        # Metabolites and pH file\n",
    "        # =====================================================================================\n",
    "        else:\n",
    "            db_field = globals()['%sFile' % option]\n",
    "            files = db.getFiles(db_field, args)\n",
    "\n",
    "            if data_type == 'meanstd':\n",
    "                df = getMeanStd(files, regex='')\n",
    "            else:\n",
    "                df = pd.read_csv(files[0][0], sep=\" \")\n",
    "            \n",
    "            fig = plt.figure()\n",
    "            ax = fig.add_subplot()\n",
    "            plotDf(df, ax)\n",
    "            plt.show()"
   ]
  }
 ],
 "metadata": {
  "kernelspec": {
   "display_name": "Python 3",
   "language": "python",
   "name": "python3"
  },
  "language_info": {
   "codemirror_mode": {
    "name": "ipython",
    "version": 3
   },
   "file_extension": ".py",
   "mimetype": "text/x-python",
   "name": "python",
   "nbconvert_exporter": "python",
   "pygments_lexer": "ipython3",
   "version": "3.6.10"
  }
 },
 "nbformat": 4,
 "nbformat_minor": 5
}
