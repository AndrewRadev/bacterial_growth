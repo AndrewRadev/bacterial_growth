{
 "cells": [
  {
   "cell_type": "code",
   "execution_count": 9,
   "id": "21e1ef5f",
   "metadata": {},
   "outputs": [],
   "source": [
    "import os\n",
    "import mysql.connector\n",
    "import pandas as pd\n",
    "import numpy as np\n",
    "import matplotlib.pyplot as plt\n",
    "import seaborn as sns\n",
    "import re\n",
    "from prettytable import PrettyTable"
   ]
  },
  {
   "cell_type": "code",
   "execution_count": 2,
   "id": "669d2205",
   "metadata": {},
   "outputs": [],
   "source": [
    "user_name = os.environ.get('DB_USER')\n",
    "password = os.environ.get('DB_PASSWORD')\n",
    "\n",
    "DB_NAME = 'BacterialGrowth'"
   ]
  },
  {
   "cell_type": "code",
   "execution_count": 3,
   "id": "7a89e128",
   "metadata": {},
   "outputs": [],
   "source": [
    "def execute(phrase):\n",
    "    \"\"\"This function create a connection to the database and execute a command.\n",
    "    :param phrase: str SQL sentence to execute\n",
    "    :return: list of str received from the database after command execution.\n",
    "    \"\"\"\n",
    "    try:\n",
    "        cnx = mysql.connector.connect(user=user_name, password=password,host='localhost',database=DB_NAME)\n",
    "        cnx.get_warnings = True\n",
    "        cursor = cnx.cursor()\n",
    "        cursor.execute(phrase)\n",
    "        res = []\n",
    "        for row in cursor:\n",
    "            res.append(row)\n",
    "\n",
    "        warnings = cursor.fetchwarnings()\n",
    "        if warnings: \n",
    "            for i in range(len(warnings)):\n",
    "                print(\"\\t ** Warning - \"+warnings[i][2])\n",
    "        cursor.close()\n",
    "        cnx.commit()\n",
    "        cnx.close()\n",
    "        return res\n",
    "    except mysql.connector.Error as err:\n",
    "        print(\"Something went wrong: {}\".format(err))\n",
    "        print(phrase)"
   ]
  },
  {
   "cell_type": "code",
   "execution_count": 6,
   "id": "029c2a0f",
   "metadata": {},
   "outputs": [],
   "source": [
    "def getAllRecords(table, **args):\n",
    "    phrase = \"SELECT * FROM \" + table\n",
    "    if args:\n",
    "        where_clause = getWhereClause(args)\n",
    "        phrase = phrase+\" \"+where_clause\n",
    "    res = execute(phrase)\n",
    "    return res"
   ]
  },
  {
   "cell_type": "code",
   "execution_count": 17,
   "id": "86319189",
   "metadata": {},
   "outputs": [],
   "source": [
    "studies = getAllRecords('Study')"
   ]
  },
  {
   "cell_type": "code",
   "execution_count": 21,
   "id": "b31d3de0",
   "metadata": {},
   "outputs": [],
   "source": [
    "studies_table = PrettyTable()\n",
    "studies_table.field_names = [\"ID\", \"Name\", \"Description\"]\n",
    "studies_table.align[\"Name\"] = \"l\"\n",
    "studies_table.align[\"Description\"] = \"l\""
   ]
  },
  {
   "cell_type": "code",
   "execution_count": 28,
   "id": "90632a90",
   "metadata": {},
   "outputs": [
    {
     "ename": "TypeError",
     "evalue": "tuple indices must be integers or slices, not tuple",
     "output_type": "error",
     "traceback": [
      "\u001b[0;31m---------------------------------------------------------------------------\u001b[0m",
      "\u001b[0;31mTypeError\u001b[0m                                 Traceback (most recent call last)",
      "\u001b[0;32m<ipython-input-28-7ca345047ecc>\u001b[0m in \u001b[0;36m<module>\u001b[0;34m\u001b[0m\n\u001b[1;32m      1\u001b[0m \u001b[0mstudies_id\u001b[0m \u001b[0;34m=\u001b[0m \u001b[0;34m[\u001b[0m\u001b[0;34m]\u001b[0m\u001b[0;34m\u001b[0m\u001b[0;34m\u001b[0m\u001b[0m\n\u001b[1;32m      2\u001b[0m \u001b[0;32mfor\u001b[0m \u001b[0mstudy\u001b[0m \u001b[0;32min\u001b[0m \u001b[0mstudies\u001b[0m\u001b[0;34m:\u001b[0m\u001b[0;34m\u001b[0m\u001b[0;34m\u001b[0m\u001b[0m\n\u001b[0;32m----> 3\u001b[0;31m     \u001b[0mprint\u001b[0m\u001b[0;34m(\u001b[0m\u001b[0mstudy\u001b[0m\u001b[0;34m[\u001b[0m\u001b[0;36m0\u001b[0m\u001b[0;34m:\u001b[0m\u001b[0;36m2\u001b[0m\u001b[0;34m,\u001b[0m\u001b[0;36m4\u001b[0m\u001b[0;34m]\u001b[0m\u001b[0;34m)\u001b[0m\u001b[0;34m\u001b[0m\u001b[0;34m\u001b[0m\u001b[0m\n\u001b[0m\u001b[1;32m      4\u001b[0m     \u001b[0mstudies_table\u001b[0m\u001b[0;34m.\u001b[0m\u001b[0madd_row\u001b[0m\u001b[0;34m(\u001b[0m\u001b[0mstudy\u001b[0m\u001b[0;34m)\u001b[0m\u001b[0;34m\u001b[0m\u001b[0;34m\u001b[0m\u001b[0m\n\u001b[1;32m      5\u001b[0m     \u001b[0mstudies_id\u001b[0m\u001b[0;34m.\u001b[0m\u001b[0mappend\u001b[0m\u001b[0;34m(\u001b[0m\u001b[0mstr\u001b[0m\u001b[0;34m(\u001b[0m\u001b[0mstudy\u001b[0m\u001b[0;34m[\u001b[0m\u001b[0;36m0\u001b[0m\u001b[0;34m]\u001b[0m\u001b[0;34m)\u001b[0m\u001b[0;34m)\u001b[0m\u001b[0;34m\u001b[0m\u001b[0;34m\u001b[0m\u001b[0m\n",
      "\u001b[0;31mTypeError\u001b[0m: tuple indices must be integers or slices, not tuple"
     ]
    }
   ],
   "source": [
    "studies_id = []\n",
    "for study in studies:\n",
    "    print(study[0:2])\n",
    "    studies_table.add_row(study)\n",
    "    studies_id.append(str(study[0]))"
   ]
  },
  {
   "cell_type": "code",
   "execution_count": 24,
   "id": "3f4bf06e",
   "metadata": {},
   "outputs": [
    {
     "name": "stdout",
     "output_type": "stream",
     "text": [
      "+----+--------+-------------+\n",
      "| ID | Name   | Description |\n",
      "+----+--------+-------------+\n",
      "| 1  | quiron | None        |\n",
      "| 2  | Casa   | None        |\n",
      "+----+--------+-------------+\n"
     ]
    }
   ],
   "source": [
    "print(studies_table)"
   ]
  },
  {
   "cell_type": "code",
   "execution_count": null,
   "id": "abf7ac6f",
   "metadata": {},
   "outputs": [],
   "source": []
  }
 ],
 "metadata": {
  "kernelspec": {
   "display_name": "Python 3",
   "language": "python",
   "name": "python3"
  },
  "language_info": {
   "codemirror_mode": {
    "name": "ipython",
    "version": 3
   },
   "file_extension": ".py",
   "mimetype": "text/x-python",
   "name": "python",
   "nbconvert_exporter": "python",
   "pygments_lexer": "ipython3",
   "version": "3.6.10"
  }
 },
 "nbformat": 4,
 "nbformat_minor": 5
}
