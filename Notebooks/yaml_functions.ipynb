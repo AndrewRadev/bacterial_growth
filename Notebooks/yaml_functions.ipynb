{
 "cells": [
  {
   "cell_type": "code",
   "execution_count": 3,
   "id": "4ee2a5a4",
   "metadata": {},
   "outputs": [],
   "source": [
    "import os\n",
    "import yaml\n",
    "\n",
    "import mysql.connector\n",
    "import pandas as pd\n",
    "import numpy as np\n",
    "import matplotlib.pyplot as plt\n",
    "import seaborn as sns\n",
    "import re\n",
    "%matplotlib inline"
   ]
  },
  {
   "cell_type": "code",
   "execution_count": 1,
   "id": "bea36d6f",
   "metadata": {},
   "outputs": [],
   "source": [
    "def read_yaml(file):\n",
    "    \"\"\" A function to read YAML file\"\"\"\n",
    "    with open(file) as f:\n",
    "        info = yaml.safe_load(f)\n",
    "    return info"
   ]
  },
  {
   "cell_type": "code",
   "execution_count": 19,
   "id": "606307a9",
   "metadata": {},
   "outputs": [],
   "source": [
    "def write_yaml(data):\n",
    "    \"\"\" A function to write YAML file\"\"\"\n",
    "    file=open(\"myYaml.yaml\",\"w\")\n",
    "    yaml.dump(data,file,sort_keys=False)\n",
    "    file.close()"
   ]
  },
  {
   "cell_type": "code",
   "execution_count": null,
   "id": "4f27321c",
   "metadata": {},
   "outputs": [],
   "source": []
  },
  {
   "cell_type": "code",
   "execution_count": null,
   "id": "b8e4e72d",
   "metadata": {},
   "outputs": [],
   "source": []
  },
  {
   "cell_type": "code",
   "execution_count": 80,
   "id": "a4c2adb5",
   "metadata": {},
   "outputs": [],
   "source": [
    "info = read_yaml('/Users/julia/bacterialGrowth_thesis/templates/populate.yml')"
   ]
  },
  {
   "cell_type": "code",
   "execution_count": 81,
   "id": "3c32c570",
   "metadata": {},
   "outputs": [
    {
     "data": {
      "text/plain": [
       "{'STUDY_DESCRIPTION': None,\n",
       " 'EXPERIMENT': [{'NAME': None,\n",
       "   'REACTOR': {'NAME': None, 'VOLUME': None},\n",
       "   'PLATE': {'ID': None, 'COLUMN': None, 'ROW': None},\n",
       "   'MEDIA': None,\n",
       "   'BACTERIA': [{'SPECIES': None, 'STRAIN': None},\n",
       "    {'SPECIES': None, 'STRAIN': None}],\n",
       "   'BLANK': None,\n",
       "   'INOCULUM_CONCENTRATION': None,\n",
       "   'INOCULUM_VOLUME': None,\n",
       "   'INITIAL_PH': None,\n",
       "   'INITIAL_TEMPERATURE': None,\n",
       "   'CARBON_SOURCE': None,\n",
       "   'ANTIBIOTIC': None,\n",
       "   'DESCRIPTION': None}],\n",
       " 'PERTURBATION': {'PROPERTY': None,\n",
       "  'NEW_VALUE': None,\n",
       "  'STARTING_TIME': None,\n",
       "  'ENDING_TIME': None,\n",
       "  'DESCRIPTION': None},\n",
       " 'FILES': None}"
      ]
     },
     "execution_count": 81,
     "metadata": {},
     "output_type": "execute_result"
    }
   ],
   "source": [
    "info"
   ]
  },
  {
   "cell_type": "code",
   "execution_count": 71,
   "id": "afe600d7",
   "metadata": {},
   "outputs": [
    {
     "ename": "AttributeError",
     "evalue": "'dict' object has no attribute 'append'",
     "output_type": "error",
     "traceback": [
      "\u001b[0;31m---------------------------------------------------------------------------\u001b[0m",
      "\u001b[0;31mAttributeError\u001b[0m                            Traceback (most recent call last)",
      "\u001b[0;32m<ipython-input-71-f9dcf3a2f2ab>\u001b[0m in \u001b[0;36m<module>\u001b[0;34m\u001b[0m\n\u001b[0;32m----> 1\u001b[0;31m \u001b[0minfo\u001b[0m\u001b[0;34m.\u001b[0m\u001b[0mappend\u001b[0m\u001b[0;34m(\u001b[0m\u001b[0;34m{\u001b[0m\u001b[0;34m'STUDY_DESCRIPTION'\u001b[0m\u001b[0;34m:\u001b[0m \u001b[0;32mNone\u001b[0m\u001b[0;34m}\u001b[0m\u001b[0;34m)\u001b[0m\u001b[0;34m\u001b[0m\u001b[0;34m\u001b[0m\u001b[0m\n\u001b[0m",
      "\u001b[0;31mAttributeError\u001b[0m: 'dict' object has no attribute 'append'"
     ]
    }
   ],
   "source": [
    "info.append({'STUDY_DESCRIPTION': None})"
   ]
  },
  {
   "cell_type": "markdown",
   "id": "f550b635",
   "metadata": {},
   "source": [
    "# OPTION 1\n",
    "The user introduces EVERYTHING"
   ]
  },
  {
   "cell_type": "code",
   "execution_count": 82,
   "id": "af624151",
   "metadata": {},
   "outputs": [],
   "source": [
    "myData = {}"
   ]
  },
  {
   "cell_type": "code",
   "execution_count": 22,
   "id": "9885c0b7",
   "metadata": {},
   "outputs": [],
   "source": [
    "experimentData = {\n",
    "              'PLATE': {\n",
    "                  'COLUMN': None, \n",
    "                  'ROW': None\n",
    "              }, \n",
    "              'BLANK': None, \n",
    "              'INOCULUM_CONCENTRATION': None, \n",
    "              'INOCULUM_VOLUME': None, \n",
    "              'INITIAL_PH': None, \n",
    "              'INITIAL_TEMPERATURE': None, \n",
    "              'CARBON_SOURCE': None, \n",
    "              'ANTIBIOTIC': None, \n",
    "              'DESCRIPTION': None\n",
    "          }"
   ]
  },
  {
   "cell_type": "code",
   "execution_count": 77,
   "id": "41e78b2b",
   "metadata": {},
   "outputs": [
    {
     "data": {
      "text/plain": [
       "{'STUDY_DESCRIPTION': None}"
      ]
     },
     "execution_count": 77,
     "metadata": {},
     "output_type": "execute_result"
    }
   ],
   "source": [
    "myData"
   ]
  },
  {
   "cell_type": "code",
   "execution_count": 76,
   "id": "d888a2ff",
   "metadata": {},
   "outputs": [],
   "source": [
    "myData['STUDY_DESCRIPTION'] = None"
   ]
  },
  {
   "cell_type": "code",
   "execution_count": 24,
   "id": "be52a44e",
   "metadata": {},
   "outputs": [],
   "source": [
    "myData['EXPERIMENT'] = experimentData"
   ]
  },
  {
   "cell_type": "code",
   "execution_count": 65,
   "id": "6ec892d8",
   "metadata": {},
   "outputs": [],
   "source": [
    "myData = {'STUDY_DESCRIPTION': None, \n",
    "          'REACTOR': {\n",
    "              'NAME': None, \n",
    "              'VOLUME': None\n",
    "          }, \n",
    "          'EXPERIMENT': {\n",
    "              'PLATE': {\n",
    "                  'COLUMN': None, \n",
    "                  'ROW': None\n",
    "              }, \n",
    "              'BLANK': None, \n",
    "              'INOCULUM_CONCENTRATION': None, \n",
    "              'INOCULUM_VOLUME': None, \n",
    "              'INITIAL_PH': None, \n",
    "              'INITIAL_TEMPERATURE': None, \n",
    "              'CARBON_SOURCE': None, \n",
    "              'ANTIBIOTIC': None, \n",
    "              'DESCRIPTION': None\n",
    "          }, \n",
    "          'MEDIA': None, \n",
    "          'BACTERIA': [\n",
    "              {'SPECIES': None, 'STRAIN': None}, \n",
    "              {'SPECIES': None, 'STRAIN': None}\n",
    "          ], \n",
    "          'PERTURBATION': {\n",
    "              'PROPERTY': None, \n",
    "              'NEW_VALUE': None, \n",
    "              'STARTING_TIME': None, \n",
    "              'ENDING_TIME': None, \n",
    "              'DESCRIPTION': None\n",
    "          }, \n",
    "          'FILES': None\n",
    "         }\n"
   ]
  },
  {
   "cell_type": "raw",
   "id": "b06d3e30",
   "metadata": {},
   "source": [
    "myData['BACTERIA'].append({'SPECIES': None, 'STRAIN': None})"
   ]
  },
  {
   "cell_type": "raw",
   "id": "5a2006b2",
   "metadata": {},
   "source": [
    "from itertools import repeat\n",
    "\n",
    "#myData['BACTERIA'].extend({'SPECIES': None, 'STRAIN': None}*3)\n",
    "s = {'SPECIES': None, 'STRAIN': None}\n",
    "list(repeat({'SPECIES': None, 'STRAIN': None}, 3))"
   ]
  },
  {
   "cell_type": "code",
   "execution_count": 85,
   "id": "d49e21c8",
   "metadata": {},
   "outputs": [],
   "source": [
    "repetitions = 0\n",
    "\n",
    "for i in range(repetitions):\n",
    "    myData['BACTERIA'].append({'SPECIES': None, 'STRAIN': None})"
   ]
  },
  {
   "cell_type": "code",
   "execution_count": 86,
   "id": "3e3fb6d3",
   "metadata": {},
   "outputs": [
    {
     "data": {
      "text/plain": [
       "{}"
      ]
     },
     "execution_count": 86,
     "metadata": {},
     "output_type": "execute_result"
    }
   ],
   "source": [
    "myData"
   ]
  },
  {
   "cell_type": "code",
   "execution_count": 20,
   "id": "63aa215a",
   "metadata": {},
   "outputs": [],
   "source": [
    "write_yaml(myData)"
   ]
  },
  {
   "cell_type": "code",
   "execution_count": 90,
   "id": "c1aed18d",
   "metadata": {},
   "outputs": [],
   "source": [
    "studies = [(1,), (2,), (3,)]\n",
    "studies_id = []"
   ]
  },
  {
   "cell_type": "code",
   "execution_count": 91,
   "id": "bb02a5c5",
   "metadata": {},
   "outputs": [],
   "source": [
    "for study in studies:\n",
    "    studies_id.append(study[0])"
   ]
  },
  {
   "cell_type": "code",
   "execution_count": 94,
   "id": "8953b3a5",
   "metadata": {},
   "outputs": [
    {
     "data": {
      "text/plain": [
       "int"
      ]
     },
     "execution_count": 94,
     "metadata": {},
     "output_type": "execute_result"
    }
   ],
   "source": [
    "type(studies_id[0])"
   ]
  },
  {
   "cell_type": "markdown",
   "id": "6415b36a",
   "metadata": {},
   "source": [
    "# OPTION 2"
   ]
  },
  {
   "cell_type": "code",
   "execution_count": null,
   "id": "b3c08dbc",
   "metadata": {},
   "outputs": [],
   "source": []
  },
  {
   "cell_type": "markdown",
   "id": "562a651d",
   "metadata": {},
   "source": [
    "# OPTION 3"
   ]
  },
  {
   "cell_type": "code",
   "execution_count": null,
   "id": "12bcbf90",
   "metadata": {},
   "outputs": [],
   "source": []
  }
 ],
 "metadata": {
  "kernelspec": {
   "display_name": "Python 3",
   "language": "python",
   "name": "python3"
  },
  "language_info": {
   "codemirror_mode": {
    "name": "ipython",
    "version": 3
   },
   "file_extension": ".py",
   "mimetype": "text/x-python",
   "name": "python",
   "nbconvert_exporter": "python",
   "pygments_lexer": "ipython3",
   "version": "3.6.10"
  }
 },
 "nbformat": 4,
 "nbformat_minor": 5
}
