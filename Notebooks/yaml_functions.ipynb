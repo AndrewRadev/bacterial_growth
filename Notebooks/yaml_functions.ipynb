{
 "cells": [
  {
   "cell_type": "code",
   "execution_count": 1,
   "id": "4ee2a5a4",
   "metadata": {},
   "outputs": [],
   "source": [
    "import os\n",
    "import yaml\n",
    "\n",
    "import mysql.connector\n",
    "import pandas as pd\n",
    "import numpy as np\n",
    "import matplotlib.pyplot as plt\n",
    "import seaborn as sns\n",
    "import re\n",
    "%matplotlib inline"
   ]
  },
  {
   "cell_type": "code",
   "execution_count": 20,
   "id": "bb2e7399",
   "metadata": {},
   "outputs": [],
   "source": [
    "PROJECT_DIRECTORY = '/Users/julia/bacterialGrowth_thesis/'\n",
    "LAB_ANALYSIS_FILE = 'Scripts/Lab_files_analysis2.sh'\n",
    "\n",
    "HEADERS_FILE = 'IntermediateFiles/lab_headers.txt'\n",
    "EXPERIMENTS_LIST = 'IntermediateFiles/listOfFiles.list'"
   ]
  },
  {
   "cell_type": "markdown",
   "id": "ea6af51a",
   "metadata": {},
   "source": [
    "# YML functions"
   ]
  },
  {
   "cell_type": "code",
   "execution_count": 2,
   "id": "bea36d6f",
   "metadata": {},
   "outputs": [],
   "source": [
    "def read_yaml(file):\n",
    "    \"\"\" A function to read YAML file\"\"\"\n",
    "    with open(file) as f:\n",
    "        info = yaml.safe_load(f)\n",
    "    return info"
   ]
  },
  {
   "cell_type": "code",
   "execution_count": 3,
   "id": "606307a9",
   "metadata": {},
   "outputs": [],
   "source": [
    "def write_yaml(data):\n",
    "    \"\"\" A function to write YAML file\"\"\"\n",
    "    file=open(\"myYaml.yaml\",\"w\")\n",
    "    yaml.dump(data,file,sort_keys=False)\n",
    "    file.close()"
   ]
  },
  {
   "cell_type": "code",
   "execution_count": 4,
   "id": "a4c2adb5",
   "metadata": {},
   "outputs": [],
   "source": [
    "info = read_yaml('/Users/julia/bacterialGrowth_thesis/src/yml_info_files/study_information.yml')"
   ]
  },
  {
   "cell_type": "code",
   "execution_count": 5,
   "id": "3c32c570",
   "metadata": {},
   "outputs": [
    {
     "data": {
      "text/plain": [
       "{'STUDY': [{'NAME': None, 'STUDY_DESCRIPTION': None}],\n",
       " 'EXPERIMENT': [{'NAME': {'value': None},\n",
       "   'REACTOR': {'NAME': {'value': None}, 'VOLUME': {'value': None}},\n",
       "   'PLATE': {'ID': {'value': None},\n",
       "    'COLUMN': {'value': None},\n",
       "    'ROW': {'value': None}},\n",
       "   'MEDIA': {'value': None},\n",
       "   'BACTERIA': [{'SPECIES': None, 'STRAIN': None},\n",
       "    {'SPECIES': None, 'STRAIN': None}],\n",
       "   'BLANK': {'value': None},\n",
       "   'INOCULUM_CONCENTRATION': {'value': None},\n",
       "   'INOCULUM_VOLUME': {'value': None},\n",
       "   'INITIAL_PH': None,\n",
       "   'INITIAL_TEMPERATURE': {'value': None},\n",
       "   'CARBON_SOURCE': {'value': None},\n",
       "   'ANTIBIOTIC': {'value': None},\n",
       "   'DESCRIPTION': {'value': None},\n",
       "   'FILES': {'value': None}}],\n",
       " 'PERTURBATION': [{'PROPERTY': {'value': None},\n",
       "   'NEW_VALUE': {'value': None},\n",
       "   'STARTING_TIME': {'value': None},\n",
       "   'ENDING_TIME': {'value': None},\n",
       "   'DESCRIPTION': {'value': None},\n",
       "   'FILES': {'value': None}},\n",
       "  {'PROPERTY': {'value': None},\n",
       "   'NEW_VALUE': {'value': None},\n",
       "   'STARTING_TIME': {'value': None},\n",
       "   'ENDING_TIME': {'value': None},\n",
       "   'DESCRIPTION': {'value': None},\n",
       "   'FILES': {'value': None}}]}"
      ]
     },
     "execution_count": 5,
     "metadata": {},
     "output_type": "execute_result"
    }
   ],
   "source": [
    "info"
   ]
  },
  {
   "cell_type": "markdown",
   "id": "f550b635",
   "metadata": {},
   "source": [
    "# Introduce dictionary in a dictionary n times"
   ]
  },
  {
   "cell_type": "code",
   "execution_count": 114,
   "id": "af624151",
   "metadata": {},
   "outputs": [],
   "source": [
    "myData = {}"
   ]
  },
  {
   "cell_type": "code",
   "execution_count": 115,
   "id": "9885c0b7",
   "metadata": {},
   "outputs": [],
   "source": [
    "experimentData = {\n",
    "              'PLATE': {\n",
    "                  'COLUMN': None, \n",
    "                  'ROW': None\n",
    "              }, \n",
    "              'BLANK': None, \n",
    "              'INOCULUM_CONCENTRATION': None, \n",
    "              'INOCULUM_VOLUME': None, \n",
    "              'INITIAL_PH': None, \n",
    "              'INITIAL_TEMPERATURE': None, \n",
    "              'CARBON_SOURCE': None, \n",
    "              'ANTIBIOTIC': None, \n",
    "              'DESCRIPTION': None\n",
    "          }"
   ]
  },
  {
   "cell_type": "code",
   "execution_count": 116,
   "id": "41e78b2b",
   "metadata": {},
   "outputs": [
    {
     "data": {
      "text/plain": [
       "{}"
      ]
     },
     "execution_count": 116,
     "metadata": {},
     "output_type": "execute_result"
    }
   ],
   "source": [
    "myData"
   ]
  },
  {
   "cell_type": "code",
   "execution_count": 117,
   "id": "d888a2ff",
   "metadata": {},
   "outputs": [],
   "source": [
    "myData['STUDY_DESCRIPTION'] = None"
   ]
  },
  {
   "cell_type": "code",
   "execution_count": 118,
   "id": "be52a44e",
   "metadata": {},
   "outputs": [],
   "source": [
    "myData['EXPERIMENT'] = experimentData"
   ]
  },
  {
   "cell_type": "code",
   "execution_count": 119,
   "id": "6ec892d8",
   "metadata": {},
   "outputs": [],
   "source": [
    "myData = {'STUDY_DESCRIPTION': None, \n",
    "          'REACTOR': {\n",
    "              'NAME': None, \n",
    "              'VOLUME': None\n",
    "          }, \n",
    "          'EXPERIMENT': {\n",
    "              'PLATE': {\n",
    "                  'COLUMN': None, \n",
    "                  'ROW': None\n",
    "              }, \n",
    "              'BLANK': None, \n",
    "              'INOCULUM_CONCENTRATION': None, \n",
    "              'INOCULUM_VOLUME': None, \n",
    "              'INITIAL_PH': None, \n",
    "              'INITIAL_TEMPERATURE': None, \n",
    "              'CARBON_SOURCE': None, \n",
    "              'ANTIBIOTIC': None, \n",
    "              'DESCRIPTION': None\n",
    "          }, \n",
    "          'MEDIA': None, \n",
    "          'BACTERIA': [\n",
    "              {'SPECIES': None, 'STRAIN': None}, \n",
    "              {'SPECIES': None, 'STRAIN': None}\n",
    "          ], \n",
    "          'PERTURBATION': {\n",
    "              'PROPERTY': None, \n",
    "              'NEW_VALUE': None, \n",
    "              'STARTING_TIME': None, \n",
    "              'ENDING_TIME': None, \n",
    "              'DESCRIPTION': None\n",
    "          }, \n",
    "          'FILES': None\n",
    "         }\n"
   ]
  },
  {
   "cell_type": "raw",
   "id": "b06d3e30",
   "metadata": {},
   "source": [
    "myData['BACTERIA'].append({'SPECIES': None, 'STRAIN': None})"
   ]
  },
  {
   "cell_type": "raw",
   "id": "5a2006b2",
   "metadata": {},
   "source": [
    "from itertools import repeat\n",
    "\n",
    "#myData['BACTERIA'].extend({'SPECIES': None, 'STRAIN': None}*3)\n",
    "s = {'SPECIES': None, 'STRAIN': None}\n",
    "list(repeat({'SPECIES': None, 'STRAIN': None}, 3))"
   ]
  },
  {
   "cell_type": "code",
   "execution_count": 85,
   "id": "d49e21c8",
   "metadata": {},
   "outputs": [],
   "source": [
    "repetitions = 0\n",
    "\n",
    "for i in range(repetitions):\n",
    "    myData['BACTERIA'].append({'SPECIES': None, 'STRAIN': None})"
   ]
  },
  {
   "cell_type": "code",
   "execution_count": 86,
   "id": "3e3fb6d3",
   "metadata": {},
   "outputs": [
    {
     "data": {
      "text/plain": [
       "{}"
      ]
     },
     "execution_count": 86,
     "metadata": {},
     "output_type": "execute_result"
    }
   ],
   "source": [
    "myData"
   ]
  },
  {
   "cell_type": "code",
   "execution_count": 20,
   "id": "63aa215a",
   "metadata": {},
   "outputs": [],
   "source": [
    "write_yaml(myData)"
   ]
  },
  {
   "cell_type": "code",
   "execution_count": 90,
   "id": "c1aed18d",
   "metadata": {},
   "outputs": [],
   "source": [
    "studies = [(1,), (2,), (3,)]\n",
    "studies_id = []"
   ]
  },
  {
   "cell_type": "code",
   "execution_count": 91,
   "id": "bb02a5c5",
   "metadata": {},
   "outputs": [],
   "source": [
    "for study in studies:\n",
    "    studies_id.append(study[0])"
   ]
  },
  {
   "cell_type": "code",
   "execution_count": 94,
   "id": "8953b3a5",
   "metadata": {},
   "outputs": [
    {
     "data": {
      "text/plain": [
       "int"
      ]
     },
     "execution_count": 94,
     "metadata": {},
     "output_type": "execute_result"
    }
   ],
   "source": [
    "type(studies_id[0])"
   ]
  },
  {
   "cell_type": "code",
   "execution_count": null,
   "id": "12bcbf90",
   "metadata": {},
   "outputs": [],
   "source": []
  },
  {
   "cell_type": "markdown",
   "id": "14902f55",
   "metadata": {},
   "source": [
    "# Error with the EXPERIMENT and PERTURBATION numbers"
   ]
  },
  {
   "cell_type": "code",
   "execution_count": 109,
   "id": "610f700f",
   "metadata": {},
   "outputs": [],
   "source": [
    "final_dict = {}\n",
    "num_perturbations = 3\n",
    "\n",
    "pert_dict = {\n",
    "    'PERTURBATION_NUMBER': 0\n",
    "}"
   ]
  },
  {
   "cell_type": "code",
   "execution_count": 110,
   "id": "a2928167",
   "metadata": {},
   "outputs": [],
   "source": [
    "if num_perturbations > 0: final_dict['PERTURBATION'] = []"
   ]
  },
  {
   "cell_type": "code",
   "execution_count": 111,
   "id": "15b81c26",
   "metadata": {},
   "outputs": [
    {
     "data": {
      "text/plain": [
       "{'PERTURBATION': []}"
      ]
     },
     "execution_count": 111,
     "metadata": {},
     "output_type": "execute_result"
    }
   ],
   "source": [
    "final_dict"
   ]
  },
  {
   "cell_type": "code",
   "execution_count": 112,
   "id": "4c364eba",
   "metadata": {},
   "outputs": [
    {
     "name": "stdout",
     "output_type": "stream",
     "text": [
      "i =  0\n",
      "{'PERTURBATION_NUMBER': 1} ---> this is what I want to append in the already existing dictionary\n",
      "[] ---> this is the already existing dictionary before appending\n",
      "[{'PERTURBATION_NUMBER': 1}] ---> this is the already existing dictionary after appending\n",
      "\n",
      "\n",
      "\n",
      "i =  1\n",
      "{'PERTURBATION_NUMBER': 2} ---> this is what I want to append in the already existing dictionary\n",
      "[{'PERTURBATION_NUMBER': 2}] ---> this is the already existing dictionary before appending\n",
      "[{'PERTURBATION_NUMBER': 2}, {'PERTURBATION_NUMBER': 2}] ---> this is the already existing dictionary after appending\n",
      "\n",
      "\n",
      "\n",
      "i =  2\n",
      "{'PERTURBATION_NUMBER': 3} ---> this is what I want to append in the already existing dictionary\n",
      "[{'PERTURBATION_NUMBER': 3}, {'PERTURBATION_NUMBER': 3}] ---> this is the already existing dictionary before appending\n",
      "[{'PERTURBATION_NUMBER': 3}, {'PERTURBATION_NUMBER': 3}, {'PERTURBATION_NUMBER': 3}] ---> this is the already existing dictionary after appending\n",
      "\n",
      "\n",
      "\n"
     ]
    }
   ],
   "source": [
    "for i in range(num_perturbations):\n",
    "    print('i = ',i)\n",
    "    pert_dict['PERTURBATION_NUMBER'] = i+1\n",
    "    print(pert_dict, '---> this is what I want to append in the already existing dictionary')\n",
    "    print(final_dict['PERTURBATION'], '---> this is the already existing dictionary before appending')\n",
    "    final_dict['PERTURBATION'].append(pert_dict)\n",
    "    print(final_dict['PERTURBATION'], '---> this is the already existing dictionary after appending')\n",
    "    print('\\n\\n')"
   ]
  },
  {
   "cell_type": "code",
   "execution_count": 113,
   "id": "ca1be9d4",
   "metadata": {},
   "outputs": [
    {
     "data": {
      "text/plain": [
       "[{'PERTURBATION_NUMBER': 3},\n",
       " {'PERTURBATION_NUMBER': 3},\n",
       " {'PERTURBATION_NUMBER': 3}]"
      ]
     },
     "execution_count": 113,
     "metadata": {},
     "output_type": "execute_result"
    }
   ],
   "source": [
    "final_dict['PERTURBATION']"
   ]
  },
  {
   "cell_type": "markdown",
   "id": "ab8d0d5d",
   "metadata": {},
   "source": [
    "# Get information from the YML file"
   ]
  },
  {
   "cell_type": "code",
   "execution_count": 28,
   "id": "2393b4c1",
   "metadata": {},
   "outputs": [
    {
     "data": {
      "text/plain": [
       "{'STUDY': [{'NAME': None, 'STUDY_DESCRIPTION': None}],\n",
       " 'EXPERIMENT': [{'NAME': {'value': None},\n",
       "   'REACTOR': {'NAME': {'value': None}, 'VOLUME': {'value': None}},\n",
       "   'PLATE': {'ID': {'value': None},\n",
       "    'COLUMN': {'value': None},\n",
       "    'ROW': {'value': None}},\n",
       "   'MEDIA': {'NAME': {'value': None}, 'MEDIA_PATH': {'value': None}},\n",
       "   'BACTERIA': [{'SPECIES': None, 'STRAIN': None},\n",
       "    {'SPECIES': None, 'STRAIN': None}],\n",
       "   'BLANK': {'value': None},\n",
       "   'INOCULUM_CONCENTRATION': {'value': None},\n",
       "   'INOCULUM_VOLUME': {'value': None},\n",
       "   'INITIAL_PH': None,\n",
       "   'INITIAL_TEMPERATURE': {'value': None},\n",
       "   'CARBON_SOURCE': {'value': None},\n",
       "   'ANTIBIOTIC': {'value': None},\n",
       "   'DESCRIPTION': {'value': None},\n",
       "   'FILES': {'value': None}}],\n",
       " 'PERTURBATION': [{'PROPERTY': {'value': None},\n",
       "   'NEW_VALUE': {'value': None},\n",
       "   'STARTING_TIME': {'value': None},\n",
       "   'ENDING_TIME': {'value': None},\n",
       "   'DESCRIPTION': {'value': None},\n",
       "   'FILES': {'value': None}},\n",
       "  {'PROPERTY': {'value': None},\n",
       "   'NEW_VALUE': {'value': None},\n",
       "   'STARTING_TIME': {'value': None},\n",
       "   'ENDING_TIME': {'value': None},\n",
       "   'DESCRIPTION': {'value': None},\n",
       "   'FILES': {'value': None}}]}"
      ]
     },
     "execution_count": 28,
     "metadata": {},
     "output_type": "execute_result"
    }
   ],
   "source": [
    "info = read_yaml('/Users/julia/bacterialGrowth_thesis/src/yml_info_files/study_information.yml')\n",
    "info"
   ]
  },
  {
   "cell_type": "code",
   "execution_count": 101,
   "id": "d309c5bb",
   "metadata": {},
   "outputs": [
    {
     "data": {
      "text/plain": [
       "[{'NAME': None, 'STUDY_DESCRIPTION': None}]"
      ]
     },
     "execution_count": 101,
     "metadata": {},
     "output_type": "execute_result"
    }
   ],
   "source": [
    "info['STUDY']"
   ]
  },
  {
   "cell_type": "code",
   "execution_count": 97,
   "id": "22cfd1d4",
   "metadata": {},
   "outputs": [
    {
     "name": "stdout",
     "output_type": "stream",
     "text": [
      "[{'NAME': None, 'STUDY_DESCRIPTION': None}]\n"
     ]
    }
   ],
   "source": [
    "if 'STUDY' in info:\n",
    "    study_info = info['STUDY']\n",
    "    study = {'studyDescription': study_info['STUDY_DESCRIPTION']}\n",
    "    study_filtered = {k: v for k, v in study.items() if v is not None}\n",
    "    #study_id = db.addStudy(study_filtered)\n",
    "    \n",
    "else:\n",
    "    study_id = info['STUDY_ID']"
   ]
  },
  {
   "cell_type": "code",
   "execution_count": 8,
   "id": "34aeba5a",
   "metadata": {},
   "outputs": [
    {
     "data": {
      "text/plain": [
       "{'NAME': {'value': None}, 'VOLUME': {'value': None}}"
      ]
     },
     "execution_count": 8,
     "metadata": {},
     "output_type": "execute_result"
    }
   ],
   "source": [
    "info['EXPERIMENT'][0]['REACTOR']"
   ]
  },
  {
   "cell_type": "markdown",
   "id": "5af6cf67",
   "metadata": {},
   "source": [
    "## To do in EXPERIMENT:\n",
    "* Reactor --> Insert into ignore reactor and get id\n",
    "* Precultivation \n",
    "* Media --> ídem as reactor\n",
    "* Bacteria --> ídem as reactor"
   ]
  },
  {
   "cell_type": "code",
   "execution_count": 26,
   "id": "f367b54b",
   "metadata": {},
   "outputs": [
    {
     "name": "stdout",
     "output_type": "stream",
     "text": [
      "[{'SPECIES': None, 'STRAIN': None}, {'SPECIES': None, 'STRAIN': None}]\n",
      "-------\n",
      "\n"
     ]
    }
   ],
   "source": [
    "experiments = info['EXPERIMENT']\n",
    "\n",
    "for experiment in experiments:\n",
    "    print(experiment['BACTERIA'])\n",
    "    print('-------\\n')\n",
    "    "
   ]
  },
  {
   "cell_type": "code",
   "execution_count": 27,
   "id": "3c9d7c81",
   "metadata": {},
   "outputs": [
    {
     "ename": "NameError",
     "evalue": "name 'reactor_id' is not defined",
     "output_type": "error",
     "traceback": [
      "\u001b[0;31m---------------------------------------------------------------------------\u001b[0m",
      "\u001b[0;31mNameError\u001b[0m                                 Traceback (most recent call last)",
      "\u001b[0;32m<ipython-input-27-eac6e35a9847>\u001b[0m in \u001b[0;36m<module>\u001b[0;34m\u001b[0m\n\u001b[1;32m     29\u001b[0m         \u001b[0;31m# ------------------------------------------------------------------------------------\u001b[0m\u001b[0;34m\u001b[0m\u001b[0;34m\u001b[0m\u001b[0;34m\u001b[0m\u001b[0m\n\u001b[1;32m     30\u001b[0m         exp = {\n\u001b[0;32m---> 31\u001b[0;31m             \u001b[0;34m'reactorId'\u001b[0m\u001b[0;34m:\u001b[0m \u001b[0mreactor_id\u001b[0m\u001b[0;34m,\u001b[0m\u001b[0;34m\u001b[0m\u001b[0;34m\u001b[0m\u001b[0m\n\u001b[0m\u001b[1;32m     32\u001b[0m             \u001b[0;34m'precultivationId'\u001b[0m\u001b[0;34m:\u001b[0m \u001b[0mprecultivation_id\u001b[0m\u001b[0;34m,\u001b[0m\u001b[0;34m\u001b[0m\u001b[0;34m\u001b[0m\u001b[0m\n\u001b[1;32m     33\u001b[0m             \u001b[0;34m'mediaId'\u001b[0m\u001b[0;34m:\u001b[0m \u001b[0mmedia_id\u001b[0m\u001b[0;34m,\u001b[0m\u001b[0;34m\u001b[0m\u001b[0;34m\u001b[0m\u001b[0m\n",
      "\u001b[0;31mNameError\u001b[0m: name 'reactor_id' is not defined"
     ]
    }
   ],
   "source": [
    "if 'EXPERIMENT' in info:\n",
    "    \n",
    "    experiments = info['EXPERIMENT']\n",
    "    \n",
    "    for experiment in experiments:\n",
    "        \n",
    "        # ------------------------------------------------------------------------------------\n",
    "        # REACTOR ==> REACTOR_ID\n",
    "        reactor = {\n",
    "            'reactorName': experiment['REACTOR']['NAME']['value'],\n",
    "            'volume': experiment['REACTOR']['VOLUME']['value']\n",
    "        }\n",
    "        reactor_filtered = {k: v for k, v in reactor.items() if v is not None}\n",
    "        # reactor_id = db.addReactor(reactor_filtered)\n",
    "        \n",
    "        # ------------------------------------------------------------------------------------\n",
    "        # PRECULTIVATION ==> PRECULTIVATION_ID        \n",
    "        precultivation_id = 0\n",
    "        \n",
    "        # ------------------------------------------------------------------------------------\n",
    "        # MEDIA ==> MEDIA_ID\n",
    "        media = {\n",
    "            'mediaName': experiment['MEDIA']['NAME']['value'],\n",
    "            'mediaFile': experiment['MEDIA']['MEDIA_PATH']['value']\n",
    "        }\n",
    "        media_filtered = {k: v for k, v in media.items() if v is not None}\n",
    "        # media_id = db.addMedia(media_filtered)\n",
    "\n",
    "        # ------------------------------------------------------------------------------------\n",
    "        exp = {\n",
    "            'reactorId': reactor_id,\n",
    "            'precultivationId': precultivation_id,\n",
    "            'mediaId': media_id,\n",
    "            'plateId': experiment['PLATE']['ID']['value'],\n",
    "            'plateColumn': experiment['PLATE']['COLUMN']['value'],\n",
    "            'plateRow': experiment['PLATE']['ROW']['value'],\n",
    "            'blank': experiment['BLANK']['value'],\n",
    "            'inoculumConcentration': experiment['INOCULUM_CONCENTRATION']['value'],\n",
    "            'inoculumVolum': experiment['INOCULUM_VOLUME']['value'],\n",
    "            'initialPh': experiment['INITIAL_PH']['value'],\n",
    "            'initialTemperature': experiment['INITIAL_TEMPERATURE']['value'],\n",
    "            'carbonSource': experiment['CARBON_SOURCE']['value'],\n",
    "            'antibiotic': experiment['ANTIBIOTIC']['value'],\n",
    "            'experimentDescription': experiment['DESCRIPTION']['value']   \n",
    "        }\n",
    "        \n",
    "        experiment_filtered = {k: v for k, v in exp.items() if v is not None}\n",
    "        experiment_id = setExperimentId(study_id)\n",
    "        # db.addExperiment(experiment_id, study_id, experiment_filtered)\n",
    "        \n",
    "        ### ======= This is in old_main.py =======\n",
    "        experiment_dir = os.path.abspath(experiment['FILES']['value']) + '/'\n",
    "        experiment_info = analyzeLabDir(experiment_dir)\n",
    "        # experiment_name = experiment_info[0]\n",
    "        experiment_files = experiment_info[1]\n",
    "        \n",
    "        headers_dict = clusterHeaders(PROJECT_DIRECTORY + HEADERS_FILE)\n",
    "\n",
    "        addReplicates(experiment_id, headers_dict, experiment_files)\n",
    "else:\n",
    "    exp_id = info['EXPERIMENT_ID']"
   ]
  },
  {
   "cell_type": "code",
   "execution_count": null,
   "id": "7062a02a",
   "metadata": {},
   "outputs": [],
   "source": []
  },
  {
   "cell_type": "markdown",
   "id": "4d4250c8",
   "metadata": {},
   "source": [
    "# Repeat the same of EXPERIMENT with PERTURBATION"
   ]
  },
  {
   "cell_type": "code",
   "execution_count": 25,
   "id": "db2d93eb",
   "metadata": {},
   "outputs": [
    {
     "data": {
      "text/plain": [
       "{'PROPERTY': {'value': None},\n",
       " 'NEW_VALUE': {'value': None},\n",
       " 'STARTING_TIME': {'value': None},\n",
       " 'ENDING_TIME': {'value': None},\n",
       " 'DESCRIPTION': {'value': None},\n",
       " 'FILES': {'value': None}}"
      ]
     },
     "execution_count": 25,
     "metadata": {},
     "output_type": "execute_result"
    }
   ],
   "source": [
    "info['PERTURBATION'][0]"
   ]
  },
  {
   "cell_type": "code",
   "execution_count": null,
   "id": "fd9b65d6",
   "metadata": {},
   "outputs": [],
   "source": [
    "if 'PERTURBATION' in info:\n",
    "    perturbations = info['PERTURBATION']\n",
    "    for perturbation in perturbations:\n",
    "        perturbation_id = setPerturbationId(experiment_id)\n",
    "        # db.addPerturbation(perturbation_id, experiment_id, perturbation)\n",
    "        # db.addReplicates\n",
    "else:\n",
    "    perturbation_id = info['PERTURBATION_ID']"
   ]
  },
  {
   "cell_type": "raw",
   "id": "28d4eabf",
   "metadata": {},
   "source": [
    "if 'FILES' in info:\n",
    "    files = 0 #This does nothing -> remove when I have something inside this if conditon\n",
    "    # db.addReplicates"
   ]
  },
  {
   "cell_type": "code",
   "execution_count": null,
   "id": "4cb3acd7",
   "metadata": {},
   "outputs": [],
   "source": []
  },
  {
   "cell_type": "code",
   "execution_count": null,
   "id": "44f3aa7b",
   "metadata": {},
   "outputs": [],
   "source": []
  },
  {
   "cell_type": "code",
   "execution_count": null,
   "id": "0b2eb641",
   "metadata": {},
   "outputs": [],
   "source": [
    "['/Users/julia/bacterialGrowth_thesis/Data/BT_batch_mucin1/1/BT_batch_mucin1_1.txt\\n', \n",
    " '/Users/julia/bacterialGrowth_thesis/Data/BT_batch_mucin1/1/abundance_file.txt\\n', '/Users/julia/bacterialGrowth_thesis/Data/BT_batch_mucin1/1/metabolites_file.txt\\n', '/Users/julia/bacterialGrowth_thesis/Data/BT_batch_mucin1/1/pH_file.txt\\n', '/Users/julia/bacterialGrowth_thesis/Data/BT_batch_mucin1/2/BT_batch_mucin1_2.txt\\n', '/Users/julia/bacterialGrowth_thesis/Data/BT_batch_mucin1/2/abundance_file.txt\\n', '/Users/julia/bacterialGrowth_thesis/Data/BT_batch_mucin1/2/metabolites_file.txt\\n', '/Users/julia/bacterialGrowth_thesis/Data/BT_batch_mucin1/2/pH_file.txt\\n', '/Users/julia/bacterialGrowth_thesis/Data/BT_batch_mucin1/3/BT_batch_mucin1_3.txt\\n', '/Users/julia/bacterialGrowth_thesis/Data/BT_batch_mucin1/3/abundance_file.txt\\n', '/Users/julia/bacterialGrowth_thesis/Data/BT_batch_mucin1/3/metabolites_file.txt\\n', '/Users/julia/bacterialGrowth_thesis/Data/BT_batch_mucin1/3/pH_file.txt\\n', '/Users/julia/bacterialGrowth_thesis/Data/BT_batch_mucin1/4/BT_batch_mucin1_4.txt\\n', '/Users/julia/bacterialGrowth_thesis/Data/BT_batch_mucin1/4/abundance_file.txt\\n', '/Users/julia/bacterialGrowth_thesis/Data/BT_batch_mucin1/4/metabolites_file.txt\\n', '/Users/julia/bacterialGrowth_thesis/Data/BT_batch_mucin1/4/pH_file.txt\\n', '/Users/julia/bacterialGrowth_thesis/Data/BT_batch_mucin1/5/BT_batch_mucin1_5.txt\\n', '/Users/julia/bacterialGrowth_thesis/Data/BT_batch_mucin1/5/abundance_file.txt\\n', '/Users/julia/bacterialGrowth_thesis/Data/BT_batch_mucin1/5/metabolites_file.txt\\n', '/Users/julia/bacterialGrowth_thesis/Data/BT_batch_mucin1/5/pH_file.txt\\n', '/Users/julia/bacterialGrowth_thesis/Data/BT_batch_mucin1/6/BT_batch_mucin1_6.txt\\n', '/Users/julia/bacterialGrowth_thesis/Data/BT_batch_mucin1/6/abundance_file.txt\\n', '/Users/julia/bacterialGrowth_thesis/Data/BT_batch_mucin1/6/metabolites_file.txt\\n', '/Users/julia/bacterialGrowth_thesis/Data/BT_batch_mucin1/6/pH_file.txt\\n', '/Users/julia/bacterialGrowth_thesis/Data/BT_batch_mucin1/7/BT_batch_mucin1_7.txt\\n', '/Users/julia/bacterialGrowth_thesis/Data/BT_batch_mucin1/7/abundance_file.txt\\n', '/Users/julia/bacterialGrowth_thesis/Data/BT_batch_mucin1/7/metabolites_file.txt\\n', '/Users/julia/bacterialGrowth_thesis/Data/BT_batch_mucin1/7/pH_file.txt\\n', '/Users/julia/bacterialGrowth_thesis/Data/BT_batch_mucin1/8/BT_batch_mucin1_8.txt\\n', '/Users/julia/bacterialGrowth_thesis/Data/BT_batch_mucin1/8/abundance_file.txt\\n', '/Users/julia/bacterialGrowth_thesis/Data/BT_batch_mucin1/8/metabolites_file.txt\\n', '/Users/julia/bacterialGrowth_thesis/Data/BT_batch_mucin1/8/pH_file.txt\\n', '/Users/julia/bacterialGrowth_thesis/Data/BT_batch_mucin1/9/BT_batch_mucin1_9.txt\\n', '/Users/julia/bacterialGrowth_thesis/Data/BT_batch_mucin1/9/abundance_file.txt\\n', '/Users/julia/bacterialGrowth_thesis/Data/BT_batch_mucin1/9/metabolites_file.txt\\n', '/Users/julia/bacterialGrowth_thesis/Data/BT_batch_mucin1/9/pH_file.txt\\n']\n",
    "\n",
    "\n"
   ]
  }
 ],
 "metadata": {
  "kernelspec": {
   "display_name": "Python 3",
   "language": "python",
   "name": "python3"
  },
  "language_info": {
   "codemirror_mode": {
    "name": "ipython",
    "version": 3
   },
   "file_extension": ".py",
   "mimetype": "text/x-python",
   "name": "python",
   "nbconvert_exporter": "python",
   "pygments_lexer": "ipython3",
   "version": "3.6.10"
  }
 },
 "nbformat": 4,
 "nbformat_minor": 5
}
