{
 "cells": [
  {
   "cell_type": "code",
   "execution_count": 2,
   "id": "4ee2a5a4",
   "metadata": {},
   "outputs": [],
   "source": [
    "import os\n",
    "import yaml\n",
    "\n",
    "import mysql.connector\n",
    "import pandas as pd\n",
    "import numpy as np\n",
    "import matplotlib.pyplot as plt\n",
    "import seaborn as sns\n",
    "import re\n",
    "%matplotlib inline"
   ]
  },
  {
   "cell_type": "markdown",
   "id": "ea6af51a",
   "metadata": {},
   "source": [
    "# YML functions"
   ]
  },
  {
   "cell_type": "code",
   "execution_count": 3,
   "id": "bea36d6f",
   "metadata": {},
   "outputs": [],
   "source": [
    "def read_yaml(file):\n",
    "    \"\"\" A function to read YAML file\"\"\"\n",
    "    with open(file) as f:\n",
    "        info = yaml.safe_load(f)\n",
    "    return info"
   ]
  },
  {
   "cell_type": "code",
   "execution_count": 4,
   "id": "606307a9",
   "metadata": {},
   "outputs": [],
   "source": [
    "def write_yaml(data):\n",
    "    \"\"\" A function to write YAML file\"\"\"\n",
    "    file=open(\"myYaml.yaml\",\"w\")\n",
    "    yaml.dump(data,file,sort_keys=False)\n",
    "    file.close()"
   ]
  },
  {
   "cell_type": "code",
   "execution_count": 92,
   "id": "a4c2adb5",
   "metadata": {},
   "outputs": [],
   "source": [
    "info = read_yaml('/Users/julia/bacterialGrowth_thesis/src/yml_info_files/study_information.yml')"
   ]
  },
  {
   "cell_type": "code",
   "execution_count": 93,
   "id": "3c32c570",
   "metadata": {},
   "outputs": [
    {
     "data": {
      "text/plain": [
       "{'STUDY': [{'NAME': None, 'STUDY_DESCRIPTION': None}],\n",
       " 'EXPERIMENT': [{'NAME': {'value': None},\n",
       "   'REACTOR': {'NAME': {'value': None}, 'VOLUME': {'value': None}},\n",
       "   'PLATE': {'ID': {'value': None},\n",
       "    'COLUMN': {'value': None},\n",
       "    'ROW': {'value': None}},\n",
       "   'MEDIA': {'value': None},\n",
       "   'BACTERIA': [{'SPECIES': None, 'STRAIN': None},\n",
       "    {'SPECIES': None, 'STRAIN': None}],\n",
       "   'BLANK': {'value': None},\n",
       "   'INOCULUM_CONCENTRATION': {'value': None},\n",
       "   'INOCULUM_VOLUME': {'value': None},\n",
       "   'INITIAL_PH': None,\n",
       "   'INITIAL_TEMPERATURE': {'value': None},\n",
       "   'CARBON_SOURCE': {'value': None},\n",
       "   'ANTIBIOTIC': {'value': None},\n",
       "   'DESCRIPTION': {'value': None},\n",
       "   'FILES': {'value': None}}],\n",
       " 'PERTURBATION': [{'PROPERTY': {'value': None},\n",
       "   'NEW_VALUE': {'value': None},\n",
       "   'STARTING_TIME': {'value': None},\n",
       "   'ENDING_TIME': {'value': None},\n",
       "   'DESCRIPTION': {'value': None},\n",
       "   'FILES': {'value': None}},\n",
       "  {'PROPERTY': {'value': None},\n",
       "   'NEW_VALUE': {'value': None},\n",
       "   'STARTING_TIME': {'value': None},\n",
       "   'ENDING_TIME': {'value': None},\n",
       "   'DESCRIPTION': {'value': None},\n",
       "   'FILES': {'value': None}}]}"
      ]
     },
     "execution_count": 93,
     "metadata": {},
     "output_type": "execute_result"
    }
   ],
   "source": [
    "info"
   ]
  },
  {
   "cell_type": "markdown",
   "id": "f550b635",
   "metadata": {},
   "source": [
    "# Introduce dictionary in a dictionary n times"
   ]
  },
  {
   "cell_type": "code",
   "execution_count": 114,
   "id": "af624151",
   "metadata": {},
   "outputs": [],
   "source": [
    "myData = {}"
   ]
  },
  {
   "cell_type": "code",
   "execution_count": 115,
   "id": "9885c0b7",
   "metadata": {},
   "outputs": [],
   "source": [
    "experimentData = {\n",
    "              'PLATE': {\n",
    "                  'COLUMN': None, \n",
    "                  'ROW': None\n",
    "              }, \n",
    "              'BLANK': None, \n",
    "              'INOCULUM_CONCENTRATION': None, \n",
    "              'INOCULUM_VOLUME': None, \n",
    "              'INITIAL_PH': None, \n",
    "              'INITIAL_TEMPERATURE': None, \n",
    "              'CARBON_SOURCE': None, \n",
    "              'ANTIBIOTIC': None, \n",
    "              'DESCRIPTION': None\n",
    "          }"
   ]
  },
  {
   "cell_type": "code",
   "execution_count": 116,
   "id": "41e78b2b",
   "metadata": {},
   "outputs": [
    {
     "data": {
      "text/plain": [
       "{}"
      ]
     },
     "execution_count": 116,
     "metadata": {},
     "output_type": "execute_result"
    }
   ],
   "source": [
    "myData"
   ]
  },
  {
   "cell_type": "code",
   "execution_count": 117,
   "id": "d888a2ff",
   "metadata": {},
   "outputs": [],
   "source": [
    "myData['STUDY_DESCRIPTION'] = None"
   ]
  },
  {
   "cell_type": "code",
   "execution_count": 118,
   "id": "be52a44e",
   "metadata": {},
   "outputs": [],
   "source": [
    "myData['EXPERIMENT'] = experimentData"
   ]
  },
  {
   "cell_type": "code",
   "execution_count": 119,
   "id": "6ec892d8",
   "metadata": {},
   "outputs": [],
   "source": [
    "myData = {'STUDY_DESCRIPTION': None, \n",
    "          'REACTOR': {\n",
    "              'NAME': None, \n",
    "              'VOLUME': None\n",
    "          }, \n",
    "          'EXPERIMENT': {\n",
    "              'PLATE': {\n",
    "                  'COLUMN': None, \n",
    "                  'ROW': None\n",
    "              }, \n",
    "              'BLANK': None, \n",
    "              'INOCULUM_CONCENTRATION': None, \n",
    "              'INOCULUM_VOLUME': None, \n",
    "              'INITIAL_PH': None, \n",
    "              'INITIAL_TEMPERATURE': None, \n",
    "              'CARBON_SOURCE': None, \n",
    "              'ANTIBIOTIC': None, \n",
    "              'DESCRIPTION': None\n",
    "          }, \n",
    "          'MEDIA': None, \n",
    "          'BACTERIA': [\n",
    "              {'SPECIES': None, 'STRAIN': None}, \n",
    "              {'SPECIES': None, 'STRAIN': None}\n",
    "          ], \n",
    "          'PERTURBATION': {\n",
    "              'PROPERTY': None, \n",
    "              'NEW_VALUE': None, \n",
    "              'STARTING_TIME': None, \n",
    "              'ENDING_TIME': None, \n",
    "              'DESCRIPTION': None\n",
    "          }, \n",
    "          'FILES': None\n",
    "         }\n"
   ]
  },
  {
   "cell_type": "raw",
   "id": "b06d3e30",
   "metadata": {},
   "source": [
    "myData['BACTERIA'].append({'SPECIES': None, 'STRAIN': None})"
   ]
  },
  {
   "cell_type": "raw",
   "id": "5a2006b2",
   "metadata": {},
   "source": [
    "from itertools import repeat\n",
    "\n",
    "#myData['BACTERIA'].extend({'SPECIES': None, 'STRAIN': None}*3)\n",
    "s = {'SPECIES': None, 'STRAIN': None}\n",
    "list(repeat({'SPECIES': None, 'STRAIN': None}, 3))"
   ]
  },
  {
   "cell_type": "code",
   "execution_count": 85,
   "id": "d49e21c8",
   "metadata": {},
   "outputs": [],
   "source": [
    "repetitions = 0\n",
    "\n",
    "for i in range(repetitions):\n",
    "    myData['BACTERIA'].append({'SPECIES': None, 'STRAIN': None})"
   ]
  },
  {
   "cell_type": "code",
   "execution_count": 86,
   "id": "3e3fb6d3",
   "metadata": {},
   "outputs": [
    {
     "data": {
      "text/plain": [
       "{}"
      ]
     },
     "execution_count": 86,
     "metadata": {},
     "output_type": "execute_result"
    }
   ],
   "source": [
    "myData"
   ]
  },
  {
   "cell_type": "code",
   "execution_count": 20,
   "id": "63aa215a",
   "metadata": {},
   "outputs": [],
   "source": [
    "write_yaml(myData)"
   ]
  },
  {
   "cell_type": "code",
   "execution_count": 90,
   "id": "c1aed18d",
   "metadata": {},
   "outputs": [],
   "source": [
    "studies = [(1,), (2,), (3,)]\n",
    "studies_id = []"
   ]
  },
  {
   "cell_type": "code",
   "execution_count": 91,
   "id": "bb02a5c5",
   "metadata": {},
   "outputs": [],
   "source": [
    "for study in studies:\n",
    "    studies_id.append(study[0])"
   ]
  },
  {
   "cell_type": "code",
   "execution_count": 94,
   "id": "8953b3a5",
   "metadata": {},
   "outputs": [
    {
     "data": {
      "text/plain": [
       "int"
      ]
     },
     "execution_count": 94,
     "metadata": {},
     "output_type": "execute_result"
    }
   ],
   "source": [
    "type(studies_id[0])"
   ]
  },
  {
   "cell_type": "code",
   "execution_count": null,
   "id": "12bcbf90",
   "metadata": {},
   "outputs": [],
   "source": []
  },
  {
   "cell_type": "markdown",
   "id": "14902f55",
   "metadata": {},
   "source": [
    "# Error with the EXPERIMENT and PERTURBATION numbers"
   ]
  },
  {
   "cell_type": "code",
   "execution_count": 109,
   "id": "610f700f",
   "metadata": {},
   "outputs": [],
   "source": [
    "final_dict = {}\n",
    "num_perturbations = 3\n",
    "\n",
    "pert_dict = {\n",
    "    'PERTURBATION_NUMBER': 0\n",
    "}"
   ]
  },
  {
   "cell_type": "code",
   "execution_count": 110,
   "id": "a2928167",
   "metadata": {},
   "outputs": [],
   "source": [
    "if num_perturbations > 0: final_dict['PERTURBATION'] = []"
   ]
  },
  {
   "cell_type": "code",
   "execution_count": 111,
   "id": "15b81c26",
   "metadata": {},
   "outputs": [
    {
     "data": {
      "text/plain": [
       "{'PERTURBATION': []}"
      ]
     },
     "execution_count": 111,
     "metadata": {},
     "output_type": "execute_result"
    }
   ],
   "source": [
    "final_dict"
   ]
  },
  {
   "cell_type": "code",
   "execution_count": 112,
   "id": "4c364eba",
   "metadata": {},
   "outputs": [
    {
     "name": "stdout",
     "output_type": "stream",
     "text": [
      "i =  0\n",
      "{'PERTURBATION_NUMBER': 1} ---> this is what I want to append in the already existing dictionary\n",
      "[] ---> this is the already existing dictionary before appending\n",
      "[{'PERTURBATION_NUMBER': 1}] ---> this is the already existing dictionary after appending\n",
      "\n",
      "\n",
      "\n",
      "i =  1\n",
      "{'PERTURBATION_NUMBER': 2} ---> this is what I want to append in the already existing dictionary\n",
      "[{'PERTURBATION_NUMBER': 2}] ---> this is the already existing dictionary before appending\n",
      "[{'PERTURBATION_NUMBER': 2}, {'PERTURBATION_NUMBER': 2}] ---> this is the already existing dictionary after appending\n",
      "\n",
      "\n",
      "\n",
      "i =  2\n",
      "{'PERTURBATION_NUMBER': 3} ---> this is what I want to append in the already existing dictionary\n",
      "[{'PERTURBATION_NUMBER': 3}, {'PERTURBATION_NUMBER': 3}] ---> this is the already existing dictionary before appending\n",
      "[{'PERTURBATION_NUMBER': 3}, {'PERTURBATION_NUMBER': 3}, {'PERTURBATION_NUMBER': 3}] ---> this is the already existing dictionary after appending\n",
      "\n",
      "\n",
      "\n"
     ]
    }
   ],
   "source": [
    "for i in range(num_perturbations):\n",
    "    print('i = ',i)\n",
    "    pert_dict['PERTURBATION_NUMBER'] = i+1\n",
    "    print(pert_dict, '---> this is what I want to append in the already existing dictionary')\n",
    "    print(final_dict['PERTURBATION'], '---> this is the already existing dictionary before appending')\n",
    "    final_dict['PERTURBATION'].append(pert_dict)\n",
    "    print(final_dict['PERTURBATION'], '---> this is the already existing dictionary after appending')\n",
    "    print('\\n\\n')"
   ]
  },
  {
   "cell_type": "code",
   "execution_count": 113,
   "id": "ca1be9d4",
   "metadata": {},
   "outputs": [
    {
     "data": {
      "text/plain": [
       "[{'PERTURBATION_NUMBER': 3},\n",
       " {'PERTURBATION_NUMBER': 3},\n",
       " {'PERTURBATION_NUMBER': 3}]"
      ]
     },
     "execution_count": 113,
     "metadata": {},
     "output_type": "execute_result"
    }
   ],
   "source": [
    "final_dict['PERTURBATION']"
   ]
  },
  {
   "cell_type": "markdown",
   "id": "ab8d0d5d",
   "metadata": {},
   "source": [
    "# Get information from the YML file"
   ]
  },
  {
   "cell_type": "code",
   "execution_count": 100,
   "id": "2393b4c1",
   "metadata": {},
   "outputs": [
    {
     "data": {
      "text/plain": [
       "{'STUDY': [{'NAME': None, 'STUDY_DESCRIPTION': None}],\n",
       " 'EXPERIMENT': [{'NAME': {'value': None},\n",
       "   'REACTOR': {'NAME': {'value': None}, 'VOLUME': {'value': None}},\n",
       "   'PLATE': {'ID': {'value': None},\n",
       "    'COLUMN': {'value': None},\n",
       "    'ROW': {'value': None}},\n",
       "   'MEDIA': {'value': None},\n",
       "   'BACTERIA': [{'SPECIES': None, 'STRAIN': None},\n",
       "    {'SPECIES': None, 'STRAIN': None}],\n",
       "   'BLANK': {'value': None},\n",
       "   'INOCULUM_CONCENTRATION': {'value': None},\n",
       "   'INOCULUM_VOLUME': {'value': None},\n",
       "   'INITIAL_PH': None,\n",
       "   'INITIAL_TEMPERATURE': {'value': None},\n",
       "   'CARBON_SOURCE': {'value': None},\n",
       "   'ANTIBIOTIC': {'value': None},\n",
       "   'DESCRIPTION': {'value': None},\n",
       "   'FILES': {'value': None}}],\n",
       " 'PERTURBATION': [{'PROPERTY': {'value': None},\n",
       "   'NEW_VALUE': {'value': None},\n",
       "   'STARTING_TIME': {'value': None},\n",
       "   'ENDING_TIME': {'value': None},\n",
       "   'DESCRIPTION': {'value': None},\n",
       "   'FILES': {'value': None}},\n",
       "  {'PROPERTY': {'value': None},\n",
       "   'NEW_VALUE': {'value': None},\n",
       "   'STARTING_TIME': {'value': None},\n",
       "   'ENDING_TIME': {'value': None},\n",
       "   'DESCRIPTION': {'value': None},\n",
       "   'FILES': {'value': None}}]}"
      ]
     },
     "execution_count": 100,
     "metadata": {},
     "output_type": "execute_result"
    }
   ],
   "source": [
    "info = read_yaml('/Users/julia/bacterialGrowth_thesis/src/yml_info_files/study_information.yml')\n",
    "info"
   ]
  },
  {
   "cell_type": "code",
   "execution_count": 101,
   "id": "d309c5bb",
   "metadata": {},
   "outputs": [
    {
     "data": {
      "text/plain": [
       "[{'NAME': None, 'STUDY_DESCRIPTION': None}]"
      ]
     },
     "execution_count": 101,
     "metadata": {},
     "output_type": "execute_result"
    }
   ],
   "source": [
    "info['STUDY']"
   ]
  },
  {
   "cell_type": "code",
   "execution_count": 97,
   "id": "22cfd1d4",
   "metadata": {},
   "outputs": [
    {
     "name": "stdout",
     "output_type": "stream",
     "text": [
      "[{'NAME': None, 'STUDY_DESCRIPTION': None}]\n"
     ]
    }
   ],
   "source": [
    "if 'STUDY' in info:\n",
    "    study_info = info['STUDY']\n",
    "    study = {'studyDescription': study_info['STUDY_DESCRIPTION']}\n",
    "    study_filtered = {k: v for k, v in study.items() if v is not None}\n",
    "    #study_id = db.addStudy(study_filtered)\n",
    "    \n",
    "else:\n",
    "    study_id = info['STUDY_ID']"
   ]
  },
  {
   "cell_type": "code",
   "execution_count": 108,
   "id": "34aeba5a",
   "metadata": {},
   "outputs": [],
   "source": [
    "info['EXPERIMENT'][0]['FILES']['value']"
   ]
  },
  {
   "cell_type": "markdown",
   "id": "5af6cf67",
   "metadata": {},
   "source": [
    "## To do in EXPERIMENT:\n",
    "* Reactor --> Insert into ignore reactor and get id\n",
    "* Precultivation \n",
    "* Media --> ídem as reactor\n",
    "* Bacteria --> ídem as reactor"
   ]
  },
  {
   "cell_type": "code",
   "execution_count": null,
   "id": "57edc9e0",
   "metadata": {},
   "outputs": [],
   "source": [
    "if 'EXPERIMENT' in info:\n",
    "    \n",
    "    experiments = info['EXPERIMENT']\n",
    "    \n",
    "    for experiment in experiments:\n",
    "        \n",
    "        experiment = {\n",
    "            'plateId': experiments['PLATE']['ID']['value'],\n",
    "            'plateColumn': experiments['PLATE']['COLUMN']['value'],\n",
    "            'plateRow': experiments['PLATE']['ROW']['value'],\n",
    "            'blank': experiments['BLANK']['value'],\n",
    "            'inoculumConcentration': experiments['INOCULUM_CONCENTRATION']['value'],\n",
    "            'inoculumVolum': experiments['INOCULUM_VOLUME']['value'],\n",
    "            'initialPh': experiments['INITIAL_PH']['value'],\n",
    "            'initialTemperature': experiments['INITIAL_TEMPERATURE']['value'],\n",
    "            'carbonSource': experiments['CARBON_SOURCE']['value'],\n",
    "            'antibiotic': experiments['ANTIBIOTIC']['value'],\n",
    "            'experimentDescription': experiments['DESCRIPTION']['value']   \n",
    "        }\n",
    "        \n",
    "        experiment_filtered = {k: v for k, v in study.items() if v is not None}\n",
    "        experiment_id = setExperimentId(study_id)\n",
    "        # db.addExperiment(experiment_id, study_id, experiment_filtered)\n",
    "        \n",
    "        ### ======= This is in old_main.py =======\n",
    "        # files_dir = info['EXPERIMENT'][0]['FILES']['value']\n",
    "        # experimentDir = os.path.abspath(args.exp_files) + '/'\n",
    "        # experiment = analyzeLabDir(experimentDir)\n",
    "        # experimentName = experiment[0]\n",
    "        # experimentFiles = experiment[1]\n",
    "\n",
    "        \n",
    "        # db.addReplicates\n",
    "else:\n",
    "    exp_id = info['EXPERIMENT_ID']"
   ]
  },
  {
   "cell_type": "code",
   "execution_count": null,
   "id": "7062a02a",
   "metadata": {},
   "outputs": [],
   "source": []
  },
  {
   "cell_type": "markdown",
   "id": "4d4250c8",
   "metadata": {},
   "source": [
    "# Repeat the same of EXPERIMENT with PERTURBATION"
   ]
  },
  {
   "cell_type": "code",
   "execution_count": null,
   "id": "fd9b65d6",
   "metadata": {},
   "outputs": [],
   "source": [
    "if 'PERTURBATION' in info:\n",
    "    perturbations = info['PERTURBATION']\n",
    "    for perturbation in perturbations:\n",
    "        perturbation_id = setPerturbationId(experiment_id)\n",
    "        # db.addPerturbation(perturbation_id, experiment_id, perturbation)\n",
    "        # db.addReplicates\n",
    "else:\n",
    "    perturbation_id = info['PERTURBATION_ID']"
   ]
  },
  {
   "cell_type": "raw",
   "id": "28d4eabf",
   "metadata": {},
   "source": [
    "if 'FILES' in info:\n",
    "    files = 0 #This does nothing -> remove when I have something inside this if conditon\n",
    "    # db.addReplicates"
   ]
  }
 ],
 "metadata": {
  "kernelspec": {
   "display_name": "Python 3",
   "language": "python",
   "name": "python3"
  },
  "language_info": {
   "codemirror_mode": {
    "name": "ipython",
    "version": 3
   },
   "file_extension": ".py",
   "mimetype": "text/x-python",
   "name": "python",
   "nbconvert_exporter": "python",
   "pygments_lexer": "ipython3",
   "version": "3.6.10"
  }
 },
 "nbformat": 4,
 "nbformat_minor": 5
}
