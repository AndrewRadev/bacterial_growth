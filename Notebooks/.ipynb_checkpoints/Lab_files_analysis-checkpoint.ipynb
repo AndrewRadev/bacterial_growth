{
 "cells": [
  {
   "cell_type": "code",
   "execution_count": 12,
   "id": "4bcbd5b8",
   "metadata": {},
   "outputs": [],
   "source": [
    "# Main directory of the project\n",
    "cd /Users/julia/bacterialGrowth_thesis/\n",
    "\n",
    "# Create the directory in which all the intermediate files will be placed\n",
    "mkdir -p IntermediateFiles/\n",
    "\n",
    "# Unzip the given data\n",
    "unzip -oq DataParsed.zip\n",
    "rm -r __MACOSX"
   ]
  },
  {
   "cell_type": "code",
   "execution_count": 13,
   "id": "0ff1b9a3",
   "metadata": {},
   "outputs": [
    {
     "name": "stdout",
     "output_type": "stream",
     "text": [
      "total 1280\n",
      "drwxr-xr-x@ 112 julia  staff    3584  9 mar 16:10 DataParsed\n",
      "drwxr-xr-x    7 julia  staff     224  9 mar 16:07 Notebooks\n",
      "-rw-r--r--    1 julia  staff     832  8 mar 19:36 commands.md\n",
      "drwxr-xr-x   12 julia  staff     384  8 mar 19:35 Python_scripts\n",
      "drwxr-xr-x    7 julia  staff     224  8 mar 19:35 DB_scripts\n",
      "drwxr-xr-x    8 julia  staff     256  8 mar 19:33 00_old\n",
      "drwxr-xr-x   11 julia  staff     352  8 mar 19:32 IntermediateFiles\n",
      "drwxr-xr-x   34 julia  staff    1088  7 mar 16:56 Data\n",
      "-rwxr-xr-x    1 julia  staff      19 16 nov 20:48 README.md\n",
      "-rwxr-xr-x@   1 julia  staff  645442 20 oct 09:36 DataParsed.zip\n"
     ]
    }
   ],
   "source": [
    "ls -lt"
   ]
  },
  {
   "cell_type": "markdown",
   "id": "4312efea",
   "metadata": {},
   "source": [
    "# 1) Get files names\n",
    "\n",
    "* This BASH script parses the DataParsed directory and saves the names of the .txt files into `lab_files_names.txt`."
   ]
  },
  {
   "cell_type": "code",
   "execution_count": 15,
   "id": "13da57c0",
   "metadata": {},
   "outputs": [],
   "source": [
    "ls -lt  DataParsed/ | grep -i .txt | awk '{print $9}' > IntermediateFiles/lab_files_names.txt"
   ]
  },
  {
   "cell_type": "raw",
   "id": "238675b4",
   "metadata": {},
   "source": [
    "more IntermediateFiles/lab_files_names.txt | wc -l\n",
    "ls -lt DataParsed/ | grep .txt | wc -l"
   ]
  },
  {
   "cell_type": "markdown",
   "id": "c0aae161",
   "metadata": {},
   "source": [
    "## 1.a) Modifications in files names\n",
    "\n",
    "For the moment I will just leave the lab_files_names_modified.txt as I used it in the following scripts. But I will not modify anything, as I had incorrectly assumptions when I modified them."
   ]
  },
  {
   "cell_type": "raw",
   "id": "e8917e2c",
   "metadata": {},
   "source": [
    "cd /Users/julia/bacterialGrowth_thesis/IntermediateFiles\n",
    "cp lab_files_names.txt lab_files_names_modified.txt"
   ]
  },
  {
   "cell_type": "raw",
   "id": "9528558c",
   "metadata": {},
   "source": [
    "wc -l lab_files_names.txt\n",
    "wc -l lab_files_names_modified.txt"
   ]
  },
  {
   "cell_type": "markdown",
   "id": "eb886e84",
   "metadata": {},
   "source": [
    "# 2) Get experiment names\n",
    "\n",
    "* Extract the different experiment names fro the given directory. Several files belong to the same experiment, but we have one file per replicate.\n",
    "\n",
    "This BASH script gets the modified names and then, by removing the last 6 characters, which are 4 for the extension and 2 for the number of replicates of one experiment, creates a file with the unique names of the experiments. These will be saved in `lab_experiment_names.txt`.\n",
    "This will be useful when we try to classify the experiments depending on the metadata contained in the names the lab gave to each file. \n",
    "Also, in this classification, we will make directories with the names of the experiments that will be gotten from here.\n"
   ]
  },
  {
   "cell_type": "code",
   "execution_count": 26,
   "id": "5525b7f2",
   "metadata": {},
   "outputs": [],
   "source": [
    "cd /Users/julia/bacterialGrowth_thesis/IntermediateFiles"
   ]
  },
  {
   "cell_type": "raw",
   "id": "ba9fe5c6",
   "metadata": {},
   "source": [
    "awk '{print substr($1,1,length($1)-6)}' lab_files_names.txt | sort | uniq | head"
   ]
  },
  {
   "cell_type": "code",
   "execution_count": 28,
   "id": "2dad52fb",
   "metadata": {},
   "outputs": [],
   "source": [
    "awk '{print substr($1,1,length($1)-6)}' lab_files_names_modified.txt | sort | uniq > lab_experiment_names.txt"
   ]
  },
  {
   "cell_type": "code",
   "execution_count": 29,
   "id": "c974a633",
   "metadata": {},
   "outputs": [
    {
     "name": "stdout",
     "output_type": "stream",
     "text": [
      "      32 lab_experiment_names.txt\n"
     ]
    }
   ],
   "source": [
    "wc -l lab_experiment_names.txt"
   ]
  },
  {
   "cell_type": "markdown",
   "id": "427e24e3",
   "metadata": {},
   "source": [
    "# 3) Get files headers\n",
    "\n",
    "* Get the headers of the files. These fields correspond to the time, the pH measurement, bacterial abundances and metabolites\n",
    "\n",
    "This BASH script goes through the `lab_files_names.txt` to get the true files names and look inside each of them. Each replicate has different (more or less) headers, so this script gets all of them (`lab_files_headers.txt`) and keeps the unique ones. The unique ones are contained in `lab_headers.txt`.\n"
   ]
  },
  {
   "cell_type": "code",
   "execution_count": 31,
   "id": "0fd49d2a",
   "metadata": {},
   "outputs": [],
   "source": [
    "cd /Users/julia/bacterialGrowth_thesis/\n",
    "rm IntermediateFiles/lab_files_headers.txt\n",
    "\n",
    "while read -r file;\n",
    "    do\n",
    "        head -n 1 DataParsed/$file >> IntermediateFiles/lab_files_headers.txt\n",
    "done < IntermediateFiles/lab_files_names.txt"
   ]
  },
  {
   "cell_type": "raw",
   "id": "13e2f286",
   "metadata": {},
   "source": [
    "cd /Users/julia/bacterialGrowth_thesis/IntermediateFiles/\n",
    "\n",
    "head lab_files_headers.txt\n",
    "\n",
    "more lab_files_headers.txt | wc -l"
   ]
  },
  {
   "cell_type": "code",
   "execution_count": 33,
   "id": "eafa6b60",
   "metadata": {},
   "outputs": [],
   "source": [
    "cat lab_files_headers.txt | tr \" \" \"\\n\" | sort | uniq > lab_headers.txt"
   ]
  },
  {
   "cell_type": "raw",
   "id": "239cdabc",
   "metadata": {},
   "source": [
    "head lab_headers.txt"
   ]
  },
  {
   "cell_type": "markdown",
   "id": "b69e5c46",
   "metadata": {},
   "source": [
    "# 4) Obtain experiment information\n",
    "\n",
    "* Create an information file containing the name of each file, the experiment it belongs to and the number of replicate.\n",
    "* Include more fields later!!!\n",
    "\n",
    "Files must be name in the following way: `[experimentName]_[numberReplicate].txt` where `[experimentName]` is the name that will be placed in the database and `[numberReplicate]` the number of technical replicate for one concrete experiment.\n",
    "\n",
    "For the moment, no information will be taken from the experiment name given in the lab in order to populate the DB."
   ]
  },
  {
   "cell_type": "code",
   "execution_count": 36,
   "id": "db508e95",
   "metadata": {},
   "outputs": [
    {
     "name": "stdout",
     "output_type": "stream",
     "text": [
      "     108\n"
     ]
    }
   ],
   "source": [
    "rm experiments_info.txt\n",
    "\n",
    "echo 'file_name,experiment_name,replicate_number' | column -t -s \",\" > experiments_info.txt\n",
    "\n",
    "while read -r file; do\n",
    "\n",
    "    file_name=$file\n",
    "    experiment_name=${file_name:0:${#file_name}-6}\n",
    "    replicate_number=${file_name:${#file_name}-5:1}\n",
    "    echo $file_name $experiment_name $replicate_number >> experiments_info.txt\n",
    "    \n",
    "done < lab_files_names.txt\n",
    "\n",
    "more experiments_info.txt | wc -l"
   ]
  },
  {
   "cell_type": "raw",
   "id": "9957d702",
   "metadata": {},
   "source": [
    "head experiments_info.txt"
   ]
  },
  {
   "cell_type": "code",
   "execution_count": 38,
   "id": "335da6b2",
   "metadata": {},
   "outputs": [],
   "source": [
    "tail -n +2 experiments_info.txt > experiments_info_mod.txt"
   ]
  },
  {
   "cell_type": "raw",
   "id": "2334a3f2",
   "metadata": {},
   "source": [
    "head experiments_info_mod.txt"
   ]
  },
  {
   "cell_type": "markdown",
   "id": "513328da",
   "metadata": {},
   "source": [
    "# 5) Create directories\n",
    "\n",
    "This BASH script creates all the directories in which the replicates’ files are going to be placed. It takes the `experiments_info_mod.txt` file and gets the columns with the experiment name and the replicate number. It first creates a directory in the following way:\n",
    "\n",
    "`/Users/julia/bacterialGrowth_thesis/Data/$experiment/$replicate`\n"
   ]
  },
  {
   "cell_type": "code",
   "execution_count": 75,
   "id": "c2def90f",
   "metadata": {},
   "outputs": [],
   "source": [
    "cd /Users/julia/bacterialGrowth_thesis/\n",
    "mkdir -p Data/\n",
    "while read -r line; do\n",
    "\n",
    "    experiment=$(echo $line | awk '{print $2}')\n",
    "    replicate=$(echo $line | awk '{print $3}')\n",
    "    \n",
    "    file=$(echo $line | awk '{print $1}')\n",
    "    \n",
    "    cd /Users/julia/bacterialGrowth_thesis/Data\n",
    "    mkdir -p $experiment\n",
    "    mkdir -p $experiment/$replicate\n",
    "\n",
    "    path_origin=/Users/julia/bacterialGrowth_thesis/DataParsed/\"$file\"\n",
    "    path_destination=/Users/julia/bacterialGrowth_thesis/Data/$experiment/$replicate/\n",
    "    \n",
    "    cp $path_origin $path_destination\n",
    "\n",
    "done < IntermediateFiles/experiments_info_mod.txt"
   ]
  }
 ],
 "metadata": {
  "kernelspec": {
   "display_name": "Bash",
   "language": "bash",
   "name": "bash"
  },
  "language_info": {
   "codemirror_mode": "shell",
   "file_extension": ".sh",
   "mimetype": "text/x-sh",
   "name": "bash"
  }
 },
 "nbformat": 4,
 "nbformat_minor": 5
}
