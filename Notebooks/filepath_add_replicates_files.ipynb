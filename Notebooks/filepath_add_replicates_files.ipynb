{
 "cells": [
  {
   "cell_type": "code",
   "execution_count": 2,
   "id": "ae4b55f8",
   "metadata": {},
   "outputs": [],
   "source": [
    "import os\n",
    "import mysql.connector\n",
    "import pandas as pd\n",
    "import numpy as np\n",
    "import matplotlib.pyplot as plt\n",
    "import seaborn as sns\n",
    "import re\n",
    "%matplotlib inline"
   ]
  },
  {
   "cell_type": "code",
   "execution_count": 34,
   "id": "2114c267",
   "metadata": {},
   "outputs": [],
   "source": [
    "user_name = os.environ.get('DB_USER')\n",
    "password = os.environ.get('DB_PASSWORD')"
   ]
  },
  {
   "cell_type": "code",
   "execution_count": 35,
   "id": "925cffc9",
   "metadata": {},
   "outputs": [],
   "source": [
    "cnx = mysql.connector.connect(user=user_name, password=password,host='localhost',database='FilePaths')"
   ]
  },
  {
   "cell_type": "markdown",
   "id": "33eacb23",
   "metadata": {},
   "source": [
    "[Cursor documentation](https://www.psycopg.org/docs/cursor.html)\n",
    "\n",
    "[I think, better documentation for cursor](https://dev.mysql.com/doc/connector-python/en/connector-python-api-mysqlcursor.html)"
   ]
  },
  {
   "cell_type": "code",
   "execution_count": 36,
   "id": "f453df46",
   "metadata": {},
   "outputs": [],
   "source": [
    "# create cursor to read or write\n",
    "cursor = cnx.cursor()"
   ]
  },
  {
   "cell_type": "raw",
   "id": "6f1fbac9",
   "metadata": {},
   "source": [
    "cursor.close()\n",
    "cnx.close()"
   ]
  },
  {
   "cell_type": "markdown",
   "id": "41926873",
   "metadata": {},
   "source": [
    "## Existing tables"
   ]
  },
  {
   "cell_type": "code",
   "execution_count": 16,
   "id": "89cf775a",
   "metadata": {},
   "outputs": [
    {
     "data": {
      "text/html": [
       "<div>\n",
       "<style scoped>\n",
       "    .dataframe tbody tr th:only-of-type {\n",
       "        vertical-align: middle;\n",
       "    }\n",
       "\n",
       "    .dataframe tbody tr th {\n",
       "        vertical-align: top;\n",
       "    }\n",
       "\n",
       "    .dataframe thead th {\n",
       "        text-align: right;\n",
       "    }\n",
       "</style>\n",
       "<table border=\"1\" class=\"dataframe\">\n",
       "  <thead>\n",
       "    <tr style=\"text-align: right;\">\n",
       "      <th></th>\n",
       "      <th>Tables_in_filepaths</th>\n",
       "    </tr>\n",
       "  </thead>\n",
       "  <tbody>\n",
       "    <tr>\n",
       "      <th>0</th>\n",
       "      <td>FilePath</td>\n",
       "    </tr>\n",
       "  </tbody>\n",
       "</table>\n",
       "</div>"
      ],
      "text/plain": [
       "  Tables_in_filepaths\n",
       "0            FilePath"
      ]
     },
     "execution_count": 16,
     "metadata": {},
     "output_type": "execute_result"
    }
   ],
   "source": [
    "pd.read_sql_query('show tables from FilePaths',cnx)"
   ]
  },
  {
   "cell_type": "code",
   "execution_count": 17,
   "id": "46a68ae8",
   "metadata": {},
   "outputs": [
    {
     "data": {
      "text/html": [
       "<div>\n",
       "<style scoped>\n",
       "    .dataframe tbody tr th:only-of-type {\n",
       "        vertical-align: middle;\n",
       "    }\n",
       "\n",
       "    .dataframe tbody tr th {\n",
       "        vertical-align: top;\n",
       "    }\n",
       "\n",
       "    .dataframe thead th {\n",
       "        text-align: right;\n",
       "    }\n",
       "</style>\n",
       "<table border=\"1\" class=\"dataframe\">\n",
       "  <thead>\n",
       "    <tr style=\"text-align: right;\">\n",
       "      <th></th>\n",
       "      <th>Field</th>\n",
       "      <th>Type</th>\n",
       "      <th>Null</th>\n",
       "      <th>Key</th>\n",
       "      <th>Default</th>\n",
       "      <th>Extra</th>\n",
       "    </tr>\n",
       "  </thead>\n",
       "  <tbody>\n",
       "    <tr>\n",
       "      <th>0</th>\n",
       "      <td>filePath</td>\n",
       "      <td>varchar(200)</td>\n",
       "      <td>NO</td>\n",
       "      <td>PRI</td>\n",
       "      <td>None</td>\n",
       "      <td></td>\n",
       "    </tr>\n",
       "  </tbody>\n",
       "</table>\n",
       "</div>"
      ],
      "text/plain": [
       "      Field          Type Null  Key Default Extra\n",
       "0  filePath  varchar(200)   NO  PRI    None      "
      ]
     },
     "execution_count": 17,
     "metadata": {},
     "output_type": "execute_result"
    }
   ],
   "source": [
    "pd.read_sql_query('describe {}'.format('FilePath'), cnx)"
   ]
  },
  {
   "cell_type": "raw",
   "id": "2777d35c",
   "metadata": {},
   "source": [
    "## Insert into tables\n",
    "\n",
    "### Insert path into DB --> select from DB --> transform into Pandas DF"
   ]
  },
  {
   "cell_type": "raw",
   "id": "a87d0418",
   "metadata": {},
   "source": [
    "files = ['/Users/julia/bacterialGrowth_thesis/Data/BTRI_WC_RNAseq/1/BTRI_WC_RNAseq_1.txt', \n",
    "         '/Users/julia/bacterialGrowth_thesis/Data/BTRI_WC_RNAseq/1/BTRI_WC_RNAseq_1.txt']\n",
    "\n",
    "for f in files:\n",
    "    q = f\"\"\" INSERT IGNORE INTO FilePath (filePath)\n",
    "        VALUES ('{f}')\n",
    "        \"\"\"\n",
    "    cursor.execute(q)"
   ]
  },
  {
   "cell_type": "raw",
   "id": "84b43e6e",
   "metadata": {},
   "source": [
    "paths = pd.read_sql('SELECT filePath FROM FilePath', cnx)\n",
    "paths"
   ]
  },
  {
   "cell_type": "raw",
   "id": "abf8ae68",
   "metadata": {},
   "source": [
    "paths.shape"
   ]
  },
  {
   "cell_type": "raw",
   "id": "6039f3be",
   "metadata": {},
   "source": [
    "paths['filePath']\n",
    "\n",
    "for fp in paths['filePath']:\n",
    "    with open(fp) as file:\n",
    "        print(file.read())"
   ]
  },
  {
   "cell_type": "raw",
   "id": "0416bd42",
   "metadata": {},
   "source": [
    "fp = paths.loc[0,'filePath']\n",
    "fp"
   ]
  },
  {
   "cell_type": "raw",
   "id": "b6cd6e3e",
   "metadata": {},
   "source": [
    "pd.read_table(fp, sep=\" \")"
   ]
  },
  {
   "cell_type": "raw",
   "id": "6b326104",
   "metadata": {},
   "source": [
    "for fp in paths['filePath']:\n",
    "    data = pd.read_csv(fp, sep=\" \")\n",
    "    data.plot(x='time', y='OD', kind='scatter', title=fp)\t"
   ]
  },
  {
   "cell_type": "markdown",
   "id": "9ac21aed",
   "metadata": {},
   "source": [
    "## Insert into tables\n",
    "\n",
    "### Read file and transform into pandas --> separate by abundance, pH and metabolites --> create files --> save in the DB"
   ]
  },
  {
   "cell_type": "raw",
   "id": "2bd312ab",
   "metadata": {},
   "source": [
    "path = '/Users/julia/bacterialGrowth_thesis/Data/BTRI_WC_RNAseq/1/'\n",
    "filepath = '/Users/julia/bacterialGrowth_thesis/Data/BTRI_WC_RNAseq/1/BTRI_WC_RNAseq_1.txt'\n",
    "\n",
    "df = pd.read_table(filepath, sep=\" \")\n",
    "\n",
    "df"
   ]
  },
  {
   "cell_type": "raw",
   "id": "5765d97c",
   "metadata": {},
   "source": [
    "growth_data = df[['time','OD','liquidactivecount','liquidBTactivecount','liquidRIactivecount']]\n",
    "\n",
    "growth_data = growth_data.round({'OD': 3})\n",
    "\n",
    "growth_data"
   ]
  },
  {
   "cell_type": "raw",
   "id": "1723aa52",
   "metadata": {},
   "source": [
    "ph_data = df[['time','pH']]\n",
    "\n",
    "ph_data = ph_data.round({'pH': 3})\n",
    "\n",
    "ph_data"
   ]
  },
  {
   "cell_type": "raw",
   "id": "6ddb83df",
   "metadata": {},
   "source": [
    "growth_file = path+'growth_file.txt'\n",
    "pH_file = path+'pH_file.txt'"
   ]
  },
  {
   "cell_type": "raw",
   "id": "d3c2d3db",
   "metadata": {},
   "source": [
    "growth_data.to_csv(growth_file, sep=\" \", index=False)\n",
    "ph_data.to_csv(pH_file, sep=\" \", index=False)"
   ]
  },
  {
   "cell_type": "markdown",
   "id": "b343a2a6",
   "metadata": {},
   "source": [
    "### Form the lists that contain the abundance, pH or metabolites respective columns names\n",
    "\n",
    "In order to do this we need:\n",
    "* A file contaning all the unique possible headers that have been found parsing all the provided files.\n",
    "* The regex expression, which is set manually. For bacterial abundances, fields that contain **time, active, liquid, OD**, but if I find others, like **qPCR, 16S rRNA seq, ...** they must be added in the regex. For pH measurements, only **ph and time**. For metabolites, it considers that everything that was not count on abundances and tme, belongs to metabolites + time."
   ]
  },
  {
   "cell_type": "code",
   "execution_count": 17,
   "id": "7b3ebfc1",
   "metadata": {},
   "outputs": [
    {
     "name": "stdout",
     "output_type": "stream",
     "text": [
      "\n"
     ]
    }
   ],
   "source": [
    "headersFile = '/Users/julia/bacterialGrowth_thesis/IntermediateFiles/lab_headers.txt'\n",
    "\n",
    "with open(headersFile) as file:\n",
    "    headers_list_split = file.read().splitlines()\n",
    "    headers_list = file.read()\n",
    "    print(headers_list)"
   ]
  },
  {
   "cell_type": "code",
   "execution_count": 18,
   "id": "4296f55f",
   "metadata": {},
   "outputs": [
    {
     "data": {
      "text/plain": [
       "['Acetate',\n",
       " 'Butyrate',\n",
       " 'Formate',\n",
       " 'Fucose',\n",
       " 'Galactose',\n",
       " 'Glucose',\n",
       " 'Lactate',\n",
       " 'Mannose',\n",
       " 'Neu5Ac',\n",
       " 'OD',\n",
       " 'Pyruvate',\n",
       " 'Succinate',\n",
       " 'Trehalose',\n",
       " 'attachedBTactivecount',\n",
       " 'attachedRIactivecount',\n",
       " 'attachedactivecount',\n",
       " 'liquidBTactivecount',\n",
       " 'liquidRIactivecount',\n",
       " 'liquidactivecount',\n",
       " 'liquidtotalcount',\n",
       " 'pH',\n",
       " 'time']"
      ]
     },
     "execution_count": 18,
     "metadata": {},
     "output_type": "execute_result"
    }
   ],
   "source": [
    "headers_list_split"
   ]
  },
  {
   "cell_type": "code",
   "execution_count": 19,
   "id": "e3b69398",
   "metadata": {},
   "outputs": [
    {
     "data": {
      "text/plain": [
       "list"
      ]
     },
     "execution_count": 19,
     "metadata": {},
     "output_type": "execute_result"
    }
   ],
   "source": [
    "type(headers_list_split)"
   ]
  },
  {
   "cell_type": "raw",
   "id": "566ab929",
   "metadata": {},
   "source": [
    "# Good way, but case sensitive. And if I make if case insensitive I can not return to the original values.\n",
    "\n",
    "growth_matchers = ['time', 'liquid', 'active', 'OD']\n",
    "pH_matchers = ['time', 'ph']\n",
    "\n",
    "growth_fields_old = [s for s in list(map(lambda x: x.lower(), headers_list)) \n",
    "                 if any(xs in s for xs in list(map(lambda x: x.lower(), growth_matchers)))]\n",
    "\n",
    "pH_fields_old = [s for s in list(map(lambda x: x.lower(), headers_list)) \n",
    "                 if any(xs in s for xs in list(map(lambda x: x.lower(), pH_matchers)))]"
   ]
  },
  {
   "cell_type": "code",
   "execution_count": 20,
   "id": "04382478",
   "metadata": {},
   "outputs": [],
   "source": [
    "# Using regex so it is case insensitive and look for patterns inside words (not only complete words)\n",
    "\n",
    "def getMatchingList (regex, lst):\n",
    "    list = []\n",
    "    for word in lst:\n",
    "        if regex.findall(word):\n",
    "            list.append(word)\n",
    "    return list"
   ]
  },
  {
   "cell_type": "raw",
   "id": "e4730f70",
   "metadata": {},
   "source": [
    "# Without making the list of headers and looping it!!!\n",
    "def getMatchingList (regex, lst):\n",
    "    l = re.findall(regex, lst)\n",
    "    print(l)\n",
    "    return l"
   ]
  },
  {
   "cell_type": "code",
   "execution_count": 21,
   "id": "4b0c75db",
   "metadata": {},
   "outputs": [],
   "source": [
    "growth_regex = re.compile(r'.*time.* | .*liquid.* | .*active.* | .*OD.*', flags=re.I | re.X)\n",
    "growth_regex = re.compile(r'time | liquid | active | OD', flags=re.I | re.X)\n",
    "ph_regex = re.compile(r'.*time.* | .*ph.*', flags=re.I | re.X)\n",
    "\n",
    "growth_fields = getMatchingList(growth_regex, headers_list_split)\n",
    "ph_fields = getMatchingList(ph_regex, headers_list_split)"
   ]
  },
  {
   "cell_type": "code",
   "execution_count": 22,
   "id": "4bd6585c",
   "metadata": {},
   "outputs": [
    {
     "data": {
      "text/plain": [
       "['liquidactivecount',\n",
       " 'liquidtotalcount',\n",
       " 'attachedRIactivecount',\n",
       " 'OD',\n",
       " 'liquidRIactivecount',\n",
       " 'attachedactivecount',\n",
       " 'pH',\n",
       " 'liquidBTactivecount',\n",
       " 'attachedBTactivecount',\n",
       " 'time']"
      ]
     },
     "execution_count": 22,
     "metadata": {},
     "output_type": "execute_result"
    }
   ],
   "source": [
    "not_metabolites_list = list(set(growth_fields) | set(ph_fields))\n",
    "not_metabolites_list"
   ]
  },
  {
   "cell_type": "code",
   "execution_count": 23,
   "id": "3a2a520e",
   "metadata": {},
   "outputs": [
    {
     "data": {
      "text/plain": [
       "['Pyruvate',\n",
       " 'Galactose',\n",
       " 'Acetate',\n",
       " 'Mannose',\n",
       " 'Fucose',\n",
       " 'Trehalose',\n",
       " 'Formate',\n",
       " 'Glucose',\n",
       " 'Butyrate',\n",
       " 'Neu5Ac',\n",
       " 'Lactate',\n",
       " 'Succinate',\n",
       " 'time']"
      ]
     },
     "execution_count": 23,
     "metadata": {},
     "output_type": "execute_result"
    }
   ],
   "source": [
    "metabolites_fields = set(headers_list_split) - set(not_metabolites_list)\n",
    "metabolites_fields = list(metabolites_fields)\n",
    "metabolites_fields.append('time')\n",
    "metabolites_fields"
   ]
  },
  {
   "cell_type": "markdown",
   "id": "9670c8f9",
   "metadata": {},
   "source": [
    "### Several paths\n",
    "\n",
    "THINK:\n",
    "- One options is to call the .py file containing this code with a file containing all the new paths. \n",
    "- Make the file with all the paths in the IntermediateFiles directory\n",
    "\n",
    "Or\n",
    "\n",
    "- The user will use a first (and hopw, unique) python script in which all the experiment information will be provided. Then it should give the directory with all the files. These files need to be parsed and is needed, for this python code, to get the headers inside all of the files and the paths for saving the separate files for the abundances, metabolites and ph."
   ]
  },
  {
   "cell_type": "raw",
   "id": "cee03e7e",
   "metadata": {},
   "source": [
    "files = ['/Users/julia/bacterialGrowth_thesis/Data/BT_batch_WC1/1/BT_batch_WC1_1.txt',\n",
    "         '/Users/julia/bacterialGrowth_thesis/Data/BTRI_WC_RNAseq/1/BTRI_WC_RNAseq_1.txt']"
   ]
  },
  {
   "cell_type": "code",
   "execution_count": 24,
   "id": "2e84f46f",
   "metadata": {},
   "outputs": [],
   "source": [
    "files = open(\"/Users/julia/bacterialGrowth_thesis/IntermediateFiles/listOfFiles.list\", \"r\").readlines()\n",
    "#print(f.read())\n",
    "#print(files)"
   ]
  },
  {
   "cell_type": "code",
   "execution_count": 25,
   "id": "73ff1220",
   "metadata": {},
   "outputs": [],
   "source": [
    "files2 = list(map(lambda s: s.strip(), files))"
   ]
  },
  {
   "cell_type": "code",
   "execution_count": 30,
   "id": "dd1b794a",
   "metadata": {},
   "outputs": [
    {
     "name": "stdout",
     "output_type": "stream",
     "text": [
      "['/Users/julia/bacterialGrowth_thesis/Data/BTRI_mucin_RNAseq/1/BTRI_mucin_RNAseq_1.txt', '/Users/julia/bacterialGrowth_thesis/Data/BTRI_mucin_RNAseq/3/BTRI_mucin_RNAseq_3.txt']\n"
     ]
    }
   ],
   "source": [
    "print(files2[0:2])"
   ]
  },
  {
   "cell_type": "code",
   "execution_count": 27,
   "id": "7df92fa2",
   "metadata": {},
   "outputs": [],
   "source": [
    "def findOccurrences(s, ch):\n",
    "    return [i for i, letter in enumerate(s) if letter == ch]"
   ]
  },
  {
   "cell_type": "code",
   "execution_count": 31,
   "id": "433a5ee9",
   "metadata": {},
   "outputs": [
    {
     "name": "stdout",
     "output_type": "stream",
     "text": [
      "DONE!\n"
     ]
    }
   ],
   "source": [
    "for f in files2:\n",
    "    #Get directory of the provided paths\n",
    "    path_end = max(findOccurrences(f, \"/\"))\n",
    "    path = f[:path_end+1]\n",
    "    \n",
    "    #Read file with all the data\n",
    "    df = pd.read_table(f, sep=\" \")\n",
    "\n",
    "    #Bacterial abundances\n",
    "    growth_data = df[df.columns.intersection(growth_fields)]\n",
    "    growth_data = growth_data.round({'OD': 3})\n",
    "    #pH over time\n",
    "    ph_data = df[df.columns.intersection(ph_fields)]\n",
    "    ph_data = ph_data.round({'pH': 3})\n",
    "    #Metabolites over time\n",
    "    metabolites_data = df[df.columns.intersection(metabolites_fields)]\n",
    "    \n",
    "    # If len(df.columns) <= 1 (only time column), we do not save it\n",
    "    if len(growth_data.columns) > 1:\n",
    "        growth_data.to_csv(path+'abundance_file.txt', sep=\" \", index=False)\n",
    "    \n",
    "    if len(ph_data.columns) > 1:        \n",
    "        ph_data.to_csv(path+'pH_file.txt', sep=\" \", index=False)\n",
    "    \n",
    "    if len(metabolites_data.columns) > 1:\n",
    "        metabolites_data.to_csv(path+'metabolites_file.txt', sep=\" \", index=False)\n",
    "\n",
    "    q = f\"\"\" INSERT IGNORE INTO FilePath (filePath)\n",
    "        VALUES ('{path+'abundance_file.txt'}')\n",
    "        \"\"\"\n",
    "\n",
    "    cursor.execute(q)\n",
    "    \n",
    "    q = f\"\"\" INSERT IGNORE INTO FilePath (filePath)\n",
    "        VALUES ('{path+'metabolites_file.txt'}')\n",
    "        \"\"\"\n",
    "\n",
    "    cursor.execute(q)\n",
    "    \n",
    "    q = f\"\"\" INSERT IGNORE INTO FilePath (filePath)\n",
    "        VALUES ('{path+'pH_file.txt'}')\n",
    "        \"\"\"\n",
    "\n",
    "    cursor.execute(q)\n",
    "\n",
    "cnx.commit()\n",
    "print('DONE!')"
   ]
  },
  {
   "cell_type": "code",
   "execution_count": 38,
   "id": "cd4bc736",
   "metadata": {},
   "outputs": [
    {
     "name": "stdout",
     "output_type": "stream",
     "text": [
      "mucin1/1/abundance_file.txt\n",
      "mucin1/1/growth_file.txt\n",
      "mucin1/1/metabolites_file.txt\n",
      "mucin1/1/pH_file.txt\n",
      "mucin1/2/abundance_file.txt\n",
      "mucin1/2/growth_file.txt\n",
      "mucin1/2/metabolites_file.txt\n",
      "mucin1/2/pH_file.txt\n",
      "mucin1/3/abundance_file.txt\n",
      "mucin1/3/growth_file.txt\n",
      "mucin1/3/metabolites_file.txt\n",
      "mucin1/3/pH_file.txt\n",
      "mucin1/4/abundance_file.txt\n",
      "mucin1/4/growth_file.txt\n",
      "mucin1/4/metabolites_file.txt\n",
      "mucin1/4/pH_file.txt\n",
      "mucin1/5/abundance_file.txt\n",
      "mucin1/5/growth_file.txt\n",
      "mucin1/5/metabolites_file.txt\n",
      "mucin1/5/pH_file.txt\n",
      "mucin1/6/abundance_file.txt\n",
      "mucin1/6/growth_file.txt\n",
      "mucin1/6/metabolites_file.txt\n",
      "mucin1/6/pH_file.txt\n",
      "mucin1/7/abundance_file.txt\n",
      "mucin1/7/growth_file.txt\n",
      "mucin1/7/metabolites_file.txt\n",
      "mucin1/7/pH_file.txt\n",
      "mucin1/8/abundance_file.txt\n",
      "mucin1/8/growth_file.txt\n",
      "mucin1/8/metabolites_file.txt\n",
      "mucin1/8/pH_file.txt\n",
      "mucin1/9/abundance_file.txt\n",
      "mucin1/9/growth_file.txt\n",
      "mucin1/9/metabolites_file.txt\n",
      "mucin1/9/pH_file.txt\n",
      "mucin2/1/abundance_file.txt\n",
      "mucin2/1/growth_file.txt\n",
      "mucin2/1/metabolites_file.txt\n",
      "mucin2/1/pH_file.txt\n",
      "mucin2/2/abundance_file.txt\n",
      "mucin2/2/growth_file.txt\n",
      "mucin2/2/metabolites_file.txt\n",
      "mucin2/2/pH_file.txt\n",
      "mucin2/3/abundance_file.txt\n",
      "mucin2/3/growth_file.txt\n",
      "mucin2/3/metabolites_file.txt\n",
      "mucin2/3/pH_file.txt\n",
      "WC1/1/abundance_file.txt\n",
      "WC1/1/growth_file.txt\n",
      "WC1/1/metabolites_file.txt\n",
      "WC1/1/pH_file.txt\n",
      "WC1/2/abundance_file.txt\n",
      "WC1/2/growth_file.txt\n",
      "WC1/2/metabolites_file.txt\n",
      "WC1/2/pH_file.txt\n",
      "WC1/3/abundance_file.txt\n",
      "WC1/3/growth_file.txt\n",
      "WC1/3/metabolites_file.txt\n",
      "WC1/3/pH_file.txt\n",
      "WC1/4/abundance_file.txt\n",
      "WC1/4/growth_file.txt\n",
      "WC1/4/metabolites_file.txt\n",
      "WC1/4/pH_file.txt\n",
      "WC1/5/abundance_file.txt\n",
      "WC1/5/growth_file.txt\n",
      "WC1/5/metabolites_file.txt\n",
      "WC1/5/pH_file.txt\n",
      "WC1/6/abundance_file.txt\n",
      "WC1/6/growth_file.txt\n",
      "WC1/6/metabolites_file.txt\n",
      "WC1/6/pH_file.txt\n",
      "WC2/1/abundance_file.txt\n",
      "WC2/1/growth_file.txt\n",
      "WC2/1/metabolites_file.txt\n",
      "WC2/1/pH_file.txt\n",
      "WC2/2/abundance_file.txt\n",
      "WC2/2/growth_file.txt\n",
      "WC2/2/metabolites_file.txt\n",
      "WC2/2/pH_file.txt\n",
      "WC2/3/abundance_file.txt\n",
      "WC2/3/growth_file.txt\n",
      "WC2/3/metabolites_file.txt\n",
      "WC2/3/pH_file.txt\n",
      "WC3/1/abundance_file.txt\n",
      "WC3/1/growth_file.txt\n",
      "WC3/1/metabolites_file.txt\n",
      "WC3/1/pH_file.txt\n",
      "WC3/2/abundance_file.txt\n",
      "WC3/2/growth_file.txt\n",
      "WC3/2/metabolites_file.txt\n",
      "WC3/2/pH_file.txt\n",
      "tWC5/1/abundance_file.txt\n",
      "tWC5/1/growth_file.txt\n",
      "tWC5/1/metabolites_file.txt\n",
      "tWC5/1/pH_file.txt\n",
      "tWC5/2/abundance_file.txt\n",
      "tWC5/2/growth_file.txt\n",
      "tWC5/2/metabolites_file.txt\n",
      "tWC5/2/pH_file.txt\n",
      "tWC5/3/abundance_file.txt\n",
      "tWC5/3/growth_file.txt\n",
      "tWC5/3/metabolites_file.txt\n",
      "tWC5/3/pH_file.txt\n",
      "tWC5C/1/abundance_file.txt\n",
      "tWC5C/1/growth_file.txt\n",
      "tWC5C/1/metabolites_file.txt\n",
      "tWC5C/1/pH_file.txt\n",
      "tWC5C/2/abundance_file.txt\n",
      "tWC5C/2/growth_file.txt\n",
      "tWC5C/2/metabolites_file.txt\n",
      "tWC5C/2/pH_file.txt\n",
      "tWC5C/3/abundance_file.txt\n",
      "tWC5C/3/growth_file.txt\n",
      "tWC5C/3/metabolites_file.txt\n",
      "tWC5C/3/pH_file.txt\n",
      "tWC65/1/abundance_file.txt\n",
      "tWC65/1/growth_file.txt\n",
      "tWC65/1/metabolites_file.txt\n",
      "tWC65/1/pH_file.txt\n",
      "tWC65/2/abundance_file.txt\n",
      "tWC65/2/growth_file.txt\n",
      "tWC65/2/metabolites_file.txt\n",
      "tWC65/2/pH_file.txt\n",
      "tWC65/3/abundance_file.txt\n",
      "tWC65/3/growth_file.txt\n",
      "tWC65/3/metabolites_file.txt\n",
      "tWC65/3/pH_file.txt\n",
      "tWC65C/1/abundance_file.txt\n",
      "tWC65C/1/growth_file.txt\n",
      "tWC65C/1/metabolites_file.txt\n",
      "tWC65C/1/pH_file.txt\n",
      "tWC65C/2/abundance_file.txt\n",
      "tWC65C/2/growth_file.txt\n",
      "tWC65C/2/metabolites_file.txt\n",
      "tWC65C/2/pH_file.txt\n",
      "tWC65C/3/abundance_file.txt\n",
      "tWC65C/3/growth_file.txt\n",
      "tWC65C/3/metabolites_file.txt\n",
      "tWC65C/3/pH_file.txt\n",
      "RNAseq/1/abundance_file.txt\n",
      "RNAseq/1/growth_file.txt\n",
      "RNAseq/1/metabolites_file.txt\n",
      "RNAseq/1/pH_file.txt\n",
      "RNAseq/2/abundance_file.txt\n",
      "RNAseq/2/growth_file.txt\n",
      "RNAseq/2/metabolites_file.txt\n",
      "RNAseq/2/pH_file.txt\n",
      "RNAseq/3/abundance_file.txt\n",
      "RNAseq/3/growth_file.txt\n",
      "RNAseq/3/metabolites_file.txt\n",
      "RNAseq/3/pH_file.txt\n",
      "ference_WC45/1/abundance_file.txt\n",
      "ference_WC45/1/growth_file.txt\n",
      "ference_WC45/1/metabolites_file.txt\n",
      "ference_WC45/1/pH_file.txt\n",
      "ference_WC5/1/abundance_file.txt\n",
      "ference_WC5/1/growth_file.txt\n",
      "ference_WC5/1/metabolites_file.txt\n",
      "ference_WC5/1/pH_file.txt\n",
      "ference_WC5/2/abundance_file.txt\n",
      "ference_WC5/2/growth_file.txt\n",
      "ference_WC5/2/metabolites_file.txt\n",
      "ference_WC5/2/pH_file.txt\n",
      "ference_WC5/3/abundance_file.txt\n",
      "ference_WC5/3/growth_file.txt\n",
      "ference_WC5/3/metabolites_file.txt\n",
      "ference_WC5/3/pH_file.txt\n",
      "ference_WC55/1/abundance_file.txt\n",
      "ference_WC55/1/growth_file.txt\n",
      "ference_WC55/1/metabolites_file.txt\n",
      "ference_WC55/1/pH_file.txt\n",
      "ference_WC55/2/abundance_file.txt\n",
      "ference_WC55/2/growth_file.txt\n",
      "ference_WC55/2/metabolites_file.txt\n",
      "ference_WC55/2/pH_file.txt\n",
      "ference_WC55/3/abundance_file.txt\n",
      "ference_WC55/3/growth_file.txt\n",
      "ference_WC55/3/metabolites_file.txt\n",
      "ference_WC55/3/pH_file.txt\n",
      "ference_WC6/1/abundance_file.txt\n",
      "ference_WC6/1/growth_file.txt\n",
      "ference_WC6/1/metabolites_file.txt\n",
      "ference_WC6/1/pH_file.txt\n",
      "ference_WC6/2/abundance_file.txt\n",
      "ference_WC6/2/growth_file.txt\n",
      "ference_WC6/2/metabolites_file.txt\n",
      "ference_WC6/2/pH_file.txt\n",
      "ference_WC6/3/abundance_file.txt\n",
      "ference_WC6/3/growth_file.txt\n",
      "ference_WC6/3/metabolites_file.txt\n",
      "ference_WC6/3/pH_file.txt\n",
      "ference_WC67/1/abundance_file.txt\n",
      "ference_WC67/1/growth_file.txt\n",
      "ference_WC67/1/metabolites_file.txt\n",
      "ference_WC67/1/pH_file.txt\n",
      "seq/1/abundance_file.txt\n",
      "seq/1/growth_file.txt\n",
      "seq/1/metabolites_file.txt\n",
      "seq/1/pH_file.txt\n",
      "seq/2/abundance_file.txt\n",
      "seq/2/growth_file.txt\n",
      "seq/2/metabolites_file.txt\n",
      "seq/2/pH_file.txt\n",
      "seq/3/abundance_file.txt\n",
      "seq/3/growth_file.txt\n",
      "seq/3/metabolites_file.txt\n",
      "seq/3/pH_file.txt\n",
      "h_mucin1/1/abundance_file.txt\n",
      "h_mucin1/1/growth_file.txt\n",
      "h_mucin1/1/metabolites_file.txt\n",
      "h_mucin1/1/pH_file.txt\n",
      "h_mucin1/2/abundance_file.txt\n",
      "h_mucin1/2/growth_file.txt\n",
      "h_mucin1/2/metabolites_file.txt\n",
      "h_mucin1/2/pH_file.txt\n",
      "h_mucin1/3/abundance_file.txt\n",
      "h_mucin1/3/growth_file.txt\n",
      "h_mucin1/3/metabolites_file.txt\n",
      "h_mucin1/3/pH_file.txt\n",
      "h_mucin1/4/abundance_file.txt\n",
      "h_mucin1/4/growth_file.txt\n",
      "h_mucin1/4/metabolites_file.txt\n",
      "h_mucin1/4/pH_file.txt\n",
      "h_mucin1/5/abundance_file.txt\n",
      "h_mucin1/5/growth_file.txt\n",
      "h_mucin1/5/metabolites_file.txt\n",
      "h_mucin1/5/pH_file.txt\n",
      "h_WC/1/abundance_file.txt\n",
      "h_WC/1/growth_file.txt\n",
      "h_WC/1/metabolites_file.txt\n",
      "h_WC/1/pH_file.txt\n",
      "h_WC/2/abundance_file.txt\n",
      "h_WC/2/growth_file.txt\n",
      "h_WC/2/metabolites_file.txt\n",
      "h_WC/2/pH_file.txt\n",
      "h_WC/3/abundance_file.txt\n",
      "h_WC/3/growth_file.txt\n",
      "h_WC/3/metabolites_file.txt\n",
      "h_WC/3/pH_file.txt\n",
      "h_WC/4/abundance_file.txt\n",
      "h_WC/4/growth_file.txt\n",
      "h_WC/4/metabolites_file.txt\n",
      "h_WC/4/pH_file.txt\n",
      "h_WC/5/abundance_file.txt\n",
      "h_WC/5/growth_file.txt\n",
      "h_WC/5/metabolites_file.txt\n",
      "h_WC/5/pH_file.txt\n",
      "h_WC/6/abundance_file.txt\n",
      "h_WC/6/growth_file.txt\n",
      "h_WC/6/metabolites_file.txt\n",
      "h_WC/6/pH_file.txt\n",
      "n_longterm/1/abundance_file.txt\n",
      "n_longterm/1/growth_file.txt\n",
      "n_longterm/1/metabolites_file.txt\n",
      "n_longterm/1/pH_file.txt\n",
      "n_longterm/2/abundance_file.txt\n",
      "n_longterm/2/growth_file.txt\n",
      "n_longterm/2/metabolites_file.txt\n",
      "n_longterm/2/pH_file.txt\n",
      "n_longterm/3/abundance_file.txt\n",
      "n_longterm/3/growth_file.txt\n",
      "n_longterm/3/metabolites_file.txt\n",
      "n_longterm/3/pH_file.txt\n",
      "n_RNAseq/1/abundance_file.txt\n",
      "n_RNAseq/1/growth_file.txt\n",
      "n_RNAseq/1/metabolites_file.txt\n",
      "n_RNAseq/1/pH_file.txt\n",
      "n_RNAseq/2/abundance_file.txt\n",
      "n_RNAseq/2/growth_file.txt\n",
      "n_RNAseq/2/metabolites_file.txt\n",
      "n_RNAseq/2/pH_file.txt\n",
      "n_RNAseq/3/abundance_file.txt\n",
      "n_RNAseq/3/growth_file.txt\n",
      "n_RNAseq/3/metabolites_file.txt\n",
      "n_RNAseq/3/pH_file.txt\n",
      "NAseq/1/abundance_file.txt\n",
      "NAseq/1/growth_file.txt\n",
      "NAseq/1/metabolites_file.txt\n",
      "NAseq/1/pH_file.txt\n",
      "NAseq/2/abundance_file.txt\n",
      "NAseq/2/growth_file.txt\n",
      "NAseq/2/metabolites_file.txt\n",
      "NAseq/2/pH_file.txt\n",
      "NAseq/3/abundance_file.txt\n",
      "NAseq/3/growth_file.txt\n",
      "NAseq/3/metabolites_file.txt\n",
      "NAseq/3/pH_file.txt\n",
      "mucin1/1/abundance_file.txt\n",
      "mucin1/1/growth_file.txt\n",
      "mucin1/1/metabolites_file.txt\n",
      "mucin1/1/pH_file.txt\n",
      "mucin1/2/abundance_file.txt\n",
      "mucin1/2/growth_file.txt\n",
      "mucin1/2/metabolites_file.txt\n",
      "mucin1/2/pH_file.txt\n",
      "mucin1/3/abundance_file.txt\n",
      "mucin1/3/growth_file.txt\n",
      "mucin1/3/metabolites_file.txt\n",
      "mucin1/3/pH_file.txt\n",
      "mucin1/4/abundance_file.txt\n",
      "mucin1/4/growth_file.txt\n",
      "mucin1/4/metabolites_file.txt\n",
      "mucin1/4/pH_file.txt\n",
      "mucin1/5/abundance_file.txt\n",
      "mucin1/5/growth_file.txt\n",
      "mucin1/5/metabolites_file.txt\n",
      "mucin1/5/pH_file.txt\n",
      "mucin2/1/abundance_file.txt\n",
      "mucin2/1/growth_file.txt\n",
      "mucin2/1/metabolites_file.txt\n",
      "mucin2/1/pH_file.txt\n",
      "mucin2/2/abundance_file.txt\n",
      "mucin2/2/growth_file.txt\n",
      "mucin2/2/metabolites_file.txt\n",
      "mucin2/2/pH_file.txt\n",
      "mucin2/3/abundance_file.txt\n",
      "mucin2/3/growth_file.txt\n",
      "mucin2/3/metabolites_file.txt\n",
      "mucin2/3/pH_file.txt\n",
      "mucin2/4/abundance_file.txt\n",
      "mucin2/4/growth_file.txt\n",
      "mucin2/4/metabolites_file.txt\n",
      "mucin2/4/pH_file.txt\n",
      "mucin2/5/abundance_file.txt\n",
      "mucin2/5/growth_file.txt\n",
      "mucin2/5/metabolites_file.txt\n",
      "mucin2/5/pH_file.txt\n",
      "WC1/1/abundance_file.txt\n",
      "WC1/1/growth_file.txt\n",
      "WC1/1/metabolites_file.txt\n",
      "WC1/1/pH_file.txt\n",
      "WC1/2/abundance_file.txt\n",
      "WC1/2/growth_file.txt\n",
      "WC1/2/metabolites_file.txt\n",
      "WC1/2/pH_file.txt\n",
      "WC1/3/abundance_file.txt\n",
      "WC1/3/growth_file.txt\n",
      "WC1/3/metabolites_file.txt\n",
      "WC1/3/pH_file.txt\n",
      "WC1/4/abundance_file.txt\n",
      "WC1/4/growth_file.txt\n",
      "WC1/4/metabolites_file.txt\n",
      "WC1/4/pH_file.txt\n",
      "WC1/5/abundance_file.txt\n",
      "WC1/5/growth_file.txt\n",
      "WC1/5/metabolites_file.txt\n",
      "WC1/5/pH_file.txt\n",
      "WC1/6/abundance_file.txt\n",
      "WC1/6/growth_file.txt\n",
      "WC1/6/metabolites_file.txt\n",
      "WC1/6/pH_file.txt\n",
      "WC2/1/abundance_file.txt\n",
      "WC2/1/growth_file.txt\n",
      "WC2/1/metabolites_file.txt\n",
      "WC2/1/pH_file.txt\n",
      "WC2/2/abundance_file.txt\n",
      "WC2/2/growth_file.txt\n",
      "WC2/2/metabolites_file.txt\n",
      "WC2/2/pH_file.txt\n",
      "WC2/3/abundance_file.txt\n",
      "WC2/3/growth_file.txt\n",
      "WC2/3/metabolites_file.txt\n",
      "WC2/3/pH_file.txt\n",
      "WC3/1/abundance_file.txt\n",
      "WC3/1/growth_file.txt\n",
      "WC3/1/metabolites_file.txt\n",
      "WC3/1/pH_file.txt\n",
      "WC3/2/abundance_file.txt\n",
      "WC3/2/growth_file.txt\n",
      "WC3/2/metabolites_file.txt\n",
      "WC3/2/pH_file.txt\n",
      "tmucin24/1/abundance_file.txt\n",
      "tmucin24/1/growth_file.txt\n",
      "tmucin24/1/metabolites_file.txt\n",
      "tmucin24/1/pH_file.txt\n",
      "tmucin24/2/abundance_file.txt\n",
      "tmucin24/2/growth_file.txt\n",
      "tmucin24/2/metabolites_file.txt\n",
      "tmucin24/2/pH_file.txt\n",
      "tmucin48/1/abundance_file.txt\n",
      "tmucin48/1/growth_file.txt\n",
      "tmucin48/1/metabolites_file.txt\n",
      "tmucin48/1/pH_file.txt\n",
      "tmucin48/2/abundance_file.txt\n",
      "tmucin48/2/growth_file.txt\n",
      "tmucin48/2/metabolites_file.txt\n",
      "tmucin48/2/pH_file.txt\n",
      "tmucin72/1/abundance_file.txt\n",
      "tmucin72/1/growth_file.txt\n",
      "tmucin72/1/metabolites_file.txt\n",
      "tmucin72/1/pH_file.txt\n",
      "tmucin72/2/abundance_file.txt\n",
      "tmucin72/2/growth_file.txt\n",
      "tmucin72/2/metabolites_file.txt\n",
      "tmucin72/2/pH_file.txt\n",
      "tWC48/1/abundance_file.txt\n",
      "tWC48/1/growth_file.txt\n",
      "tWC48/1/metabolites_file.txt\n",
      "tWC48/1/pH_file.txt\n",
      "tWC48/2/abundance_file.txt\n",
      "tWC48/2/growth_file.txt\n",
      "tWC48/2/metabolites_file.txt\n",
      "tWC48/2/pH_file.txt\n",
      "RNAseq/1/abundance_file.txt\n",
      "RNAseq/1/growth_file.txt\n",
      "RNAseq/1/metabolites_file.txt\n",
      "RNAseq/1/pH_file.txt\n",
      "RNAseq/2/abundance_file.txt\n",
      "RNAseq/2/growth_file.txt\n",
      "RNAseq/2/metabolites_file.txt\n",
      "RNAseq/2/pH_file.txt\n",
      "RNAseq/3/abundance_file.txt\n",
      "RNAseq/3/growth_file.txt\n",
      "RNAseq/3/metabolites_file.txt\n",
      "RNAseq/3/pH_file.txt\n",
      "seq/1/abundance_file.txt\n",
      "seq/1/growth_file.txt\n",
      "seq/1/metabolites_file.txt\n",
      "seq/1/pH_file.txt\n",
      "seq/2/abundance_file.txt\n",
      "seq/2/growth_file.txt\n",
      "seq/2/metabolites_file.txt\n",
      "seq/2/pH_file.txt\n",
      "seq/3/abundance_file.txt\n",
      "seq/3/growth_file.txt\n",
      "seq/3/metabolites_file.txt\n",
      "seq/3/pH_file.txt\n"
     ]
    }
   ],
   "source": [
    "for i in pd.read_sql('SELECT filePath FROM FilePath', cnx)['filePath']:\n",
    "    print(i[50:])"
   ]
  },
  {
   "cell_type": "code",
   "execution_count": 37,
   "id": "230f2ad0",
   "metadata": {},
   "outputs": [
    {
     "data": {
      "text/html": [
       "<div>\n",
       "<style scoped>\n",
       "    .dataframe tbody tr th:only-of-type {\n",
       "        vertical-align: middle;\n",
       "    }\n",
       "\n",
       "    .dataframe tbody tr th {\n",
       "        vertical-align: top;\n",
       "    }\n",
       "\n",
       "    .dataframe thead th {\n",
       "        text-align: right;\n",
       "    }\n",
       "</style>\n",
       "<table border=\"1\" class=\"dataframe\">\n",
       "  <thead>\n",
       "    <tr style=\"text-align: right;\">\n",
       "      <th></th>\n",
       "      <th>filePath</th>\n",
       "    </tr>\n",
       "  </thead>\n",
       "  <tbody>\n",
       "    <tr>\n",
       "      <th>0</th>\n",
       "      <td>/Users/julia/bacterialGrowth_thesis/Data/BT_ba...</td>\n",
       "    </tr>\n",
       "    <tr>\n",
       "      <th>1</th>\n",
       "      <td>/Users/julia/bacterialGrowth_thesis/Data/BT_ba...</td>\n",
       "    </tr>\n",
       "    <tr>\n",
       "      <th>2</th>\n",
       "      <td>/Users/julia/bacterialGrowth_thesis/Data/BT_ba...</td>\n",
       "    </tr>\n",
       "    <tr>\n",
       "      <th>3</th>\n",
       "      <td>/Users/julia/bacterialGrowth_thesis/Data/BT_ba...</td>\n",
       "    </tr>\n",
       "    <tr>\n",
       "      <th>4</th>\n",
       "      <td>/Users/julia/bacterialGrowth_thesis/Data/BT_ba...</td>\n",
       "    </tr>\n",
       "    <tr>\n",
       "      <th>...</th>\n",
       "      <td>...</td>\n",
       "    </tr>\n",
       "    <tr>\n",
       "      <th>423</th>\n",
       "      <td>/Users/julia/bacterialGrowth_thesis/Data/RI_WC...</td>\n",
       "    </tr>\n",
       "    <tr>\n",
       "      <th>424</th>\n",
       "      <td>/Users/julia/bacterialGrowth_thesis/Data/RI_WC...</td>\n",
       "    </tr>\n",
       "    <tr>\n",
       "      <th>425</th>\n",
       "      <td>/Users/julia/bacterialGrowth_thesis/Data/RI_WC...</td>\n",
       "    </tr>\n",
       "    <tr>\n",
       "      <th>426</th>\n",
       "      <td>/Users/julia/bacterialGrowth_thesis/Data/RI_WC...</td>\n",
       "    </tr>\n",
       "    <tr>\n",
       "      <th>427</th>\n",
       "      <td>/Users/julia/bacterialGrowth_thesis/Data/RI_WC...</td>\n",
       "    </tr>\n",
       "  </tbody>\n",
       "</table>\n",
       "<p>428 rows × 1 columns</p>\n",
       "</div>"
      ],
      "text/plain": [
       "                                              filePath\n",
       "0    /Users/julia/bacterialGrowth_thesis/Data/BT_ba...\n",
       "1    /Users/julia/bacterialGrowth_thesis/Data/BT_ba...\n",
       "2    /Users/julia/bacterialGrowth_thesis/Data/BT_ba...\n",
       "3    /Users/julia/bacterialGrowth_thesis/Data/BT_ba...\n",
       "4    /Users/julia/bacterialGrowth_thesis/Data/BT_ba...\n",
       "..                                                 ...\n",
       "423  /Users/julia/bacterialGrowth_thesis/Data/RI_WC...\n",
       "424  /Users/julia/bacterialGrowth_thesis/Data/RI_WC...\n",
       "425  /Users/julia/bacterialGrowth_thesis/Data/RI_WC...\n",
       "426  /Users/julia/bacterialGrowth_thesis/Data/RI_WC...\n",
       "427  /Users/julia/bacterialGrowth_thesis/Data/RI_WC...\n",
       "\n",
       "[428 rows x 1 columns]"
      ]
     },
     "execution_count": 37,
     "metadata": {},
     "output_type": "execute_result"
    }
   ],
   "source": [
    "pd.read_sql('SELECT filePath FROM FilePath', cnx)"
   ]
  },
  {
   "cell_type": "code",
   "execution_count": null,
   "id": "e1afdce6",
   "metadata": {},
   "outputs": [],
   "source": []
  },
  {
   "cell_type": "code",
   "execution_count": null,
   "id": "9c43a2d9",
   "metadata": {},
   "outputs": [],
   "source": []
  },
  {
   "cell_type": "code",
   "execution_count": null,
   "id": "524f013b",
   "metadata": {},
   "outputs": [],
   "source": []
  },
  {
   "cell_type": "code",
   "execution_count": null,
   "id": "fd3e27c8",
   "metadata": {},
   "outputs": [],
   "source": []
  },
  {
   "cell_type": "code",
   "execution_count": null,
   "id": "ccc04e1c",
   "metadata": {},
   "outputs": [],
   "source": []
  },
  {
   "cell_type": "code",
   "execution_count": null,
   "id": "2d15a0cd",
   "metadata": {},
   "outputs": [],
   "source": []
  },
  {
   "cell_type": "code",
   "execution_count": null,
   "id": "6d5c56db",
   "metadata": {},
   "outputs": [],
   "source": []
  },
  {
   "cell_type": "code",
   "execution_count": 33,
   "id": "b5bc7ef5",
   "metadata": {},
   "outputs": [],
   "source": [
    "cursor.close()\n",
    "\n",
    "cnx.commit()\n",
    "cnx.close()"
   ]
  },
  {
   "cell_type": "code",
   "execution_count": null,
   "id": "4ef5e574",
   "metadata": {},
   "outputs": [],
   "source": []
  }
 ],
 "metadata": {
  "kernelspec": {
   "display_name": "Python 3",
   "language": "python",
   "name": "python3"
  },
  "language_info": {
   "codemirror_mode": {
    "name": "ipython",
    "version": 3
   },
   "file_extension": ".py",
   "mimetype": "text/x-python",
   "name": "python",
   "nbconvert_exporter": "python",
   "pygments_lexer": "ipython3",
   "version": "3.6.10"
  }
 },
 "nbformat": 4,
 "nbformat_minor": 5
}
