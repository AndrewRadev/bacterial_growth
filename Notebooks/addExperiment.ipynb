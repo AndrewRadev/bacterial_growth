{
 "cells": [
  {
   "cell_type": "code",
   "execution_count": 2,
   "id": "25448739",
   "metadata": {},
   "outputs": [],
   "source": [
    "import os\n",
    "import mysql.connector\n",
    "import pandas as pd\n",
    "import numpy as np\n",
    "import matplotlib.pyplot as plt\n",
    "import seaborn as sns\n",
    "import re\n",
    "%matplotlib inline"
   ]
  },
  {
   "cell_type": "code",
   "execution_count": 16,
   "id": "000fed2f",
   "metadata": {},
   "outputs": [],
   "source": [
    "user_name = os.environ.get('DB_USER')\n",
    "password = os.environ.get('DB_PASSWORD')"
   ]
  },
  {
   "cell_type": "code",
   "execution_count": 17,
   "id": "353b1539",
   "metadata": {},
   "outputs": [],
   "source": [
    "DB_NAME = 'BacterialGrowth'"
   ]
  },
  {
   "cell_type": "markdown",
   "id": "49aeb035",
   "metadata": {},
   "source": [
    "## Database functions"
   ]
  },
  {
   "cell_type": "code",
   "execution_count": 103,
   "id": "523d943e",
   "metadata": {},
   "outputs": [],
   "source": [
    "def execute(phrase):\n",
    "    \"\"\"This function create a connection to the database and execute a command.\n",
    "    :param phrase: str SQL sentence to execute\n",
    "    :return: list of str received from the database after command execution.\n",
    "    \"\"\"\n",
    "    cnx = mysql.connector.connect(user=user_name, password=password,host='localhost',database=DB_NAME)\n",
    "    cursor = cnx.cursor()\n",
    "    \n",
    "    cursor.execute(phrase)\n",
    "    \n",
    "    res = []\n",
    "    for row in cursor:\n",
    "        res.append(row)\n",
    "        \n",
    "    #last_id = cursor.lastrowid\n",
    "    \n",
    "    last_id = 0\n",
    "    if \"INSERT\" in phrase:\n",
    "        cursor.execute(\"SELECT LAST_INSERT_ID()\")\n",
    "        last_id = cursor.fetchall()[0][0]\n",
    "\n",
    "    cursor.close()\n",
    "\n",
    "    cnx.commit()\n",
    "    cnx.close()\n",
    "    return [last_id, res]\n",
    "    #return res"
   ]
  },
  {
   "cell_type": "code",
   "execution_count": 97,
   "id": "5b2e6393",
   "metadata": {},
   "outputs": [],
   "source": [
    "def addExperiment(expDescription):\n",
    "    phrase = \"INSERT INTO Experiment (experimentDescription) VALUES ('\" +expDescription+ \"')\"\n",
    "    last_id = execute(phrase)[0]\n",
    "    return last_id"
   ]
  },
  {
   "cell_type": "code",
   "execution_count": 120,
   "id": "72b0128e",
   "metadata": {},
   "outputs": [],
   "source": [
    "def addCultivation(cultId, cultDescription, expId):\n",
    "    phrase = \"INSERT IGNORE INTO CultivationConditions (cultivationId, cultivationDescription, experimentId) VALUES ('\"+cultId+\"','\"+cultDescription+\"','\"+expId+\"')\"\n",
    "    execute(phrase)\n",
    "    return False"
   ]
  },
  {
   "cell_type": "code",
   "execution_count": 121,
   "id": "66652069",
   "metadata": {},
   "outputs": [],
   "source": [
    "def addReplicate(repId, repDescription, cultId, file):\n",
    "    phrase = \"INSERT IGNORE INTO TechnicalReplicates (replicateId, replicateDescription, cultivationId, bacterialAbundanceFile) \"\\\n",
    "                \"VALUES ('\"+repId+\"','\"+repDescription+\"','\"+cultId+\"','\"+file+\"')\"\n",
    "    last_id = execute(phrase)[0]\n",
    "    return last_id\n",
    "    "
   ]
  },
  {
   "cell_type": "raw",
   "id": "4dec22f0",
   "metadata": {},
   "source": [
    "def getLastId():\n",
    "    phrase = \"SELECT LAST_INSERT_ID();\"\n",
    "    res = execute(phrase)\n",
    "    last_id = res\n",
    "    return last_id"
   ]
  },
  {
   "cell_type": "code",
   "execution_count": 110,
   "id": "20701709",
   "metadata": {},
   "outputs": [],
   "source": [
    "def countRecords(table, field, value):\n",
    "    phrase = \"SELECT COUNT(*) FROM \"+table+\" WHERE \"+field+\" = \" + value\n",
    "    res = execute(phrase)\n",
    "    count = res[1][0][0]\n",
    "    return count"
   ]
  },
  {
   "cell_type": "code",
   "execution_count": null,
   "id": "58957ef4",
   "metadata": {},
   "outputs": [],
   "source": []
  },
  {
   "cell_type": "code",
   "execution_count": null,
   "id": "163189d3",
   "metadata": {},
   "outputs": [],
   "source": []
  },
  {
   "cell_type": "markdown",
   "id": "3dafc3a3",
   "metadata": {},
   "source": [
    "## Code"
   ]
  },
  {
   "cell_type": "code",
   "execution_count": 11,
   "id": "4309249d",
   "metadata": {},
   "outputs": [],
   "source": [
    "EXP_DESCRIPTION = 'This experiment was done in Brussels.'\n",
    "CULT_DESCRIPTION = 'In this perturbation, we kept pH at 5'\n",
    "REP_DESCRIPTION = 'Replicate number #'"
   ]
  },
  {
   "cell_type": "code",
   "execution_count": 135,
   "id": "f1bb8781",
   "metadata": {},
   "outputs": [],
   "source": [
    "# These paths will come from the user!!\n",
    "\n",
    "files = open(\"/Users/julia/bacterialGrowth_thesis/IntermediateFiles/listOfFiles.list\", \"r\").readlines()\n",
    "files = list(map(lambda s: s.strip(), files))"
   ]
  },
  {
   "cell_type": "code",
   "execution_count": 136,
   "id": "5bb049d2",
   "metadata": {},
   "outputs": [
    {
     "data": {
      "text/plain": [
       "['/Users/julia/bacterialGrowth_thesis/Data/BT_batch_mucin1/1/BT_batch_mucin1_1.txt',\n",
       " '/Users/julia/bacterialGrowth_thesis/Data/BT_batch_mucin1/2/BT_batch_mucin1_2.txt',\n",
       " '/Users/julia/bacterialGrowth_thesis/Data/BT_batch_mucin1/3/BT_batch_mucin1_3.txt',\n",
       " '/Users/julia/bacterialGrowth_thesis/Data/BT_batch_mucin1/4/BT_batch_mucin1_4.txt',\n",
       " '/Users/julia/bacterialGrowth_thesis/Data/BT_batch_mucin1/5/BT_batch_mucin1_5.txt',\n",
       " '/Users/julia/bacterialGrowth_thesis/Data/BT_batch_mucin1/6/BT_batch_mucin1_6.txt',\n",
       " '/Users/julia/bacterialGrowth_thesis/Data/BT_batch_mucin1/7/BT_batch_mucin1_7.txt',\n",
       " '/Users/julia/bacterialGrowth_thesis/Data/BT_batch_mucin1/8/BT_batch_mucin1_8.txt',\n",
       " '/Users/julia/bacterialGrowth_thesis/Data/BT_batch_mucin1/9/BT_batch_mucin1_9.txt']"
      ]
     },
     "execution_count": 136,
     "metadata": {},
     "output_type": "execute_result"
    }
   ],
   "source": [
    "files"
   ]
  },
  {
   "cell_type": "code",
   "execution_count": 140,
   "id": "50423051",
   "metadata": {},
   "outputs": [],
   "source": [
    "def addNewExperiment(files):\n",
    "    expId = addExperiment(EXP_DESCRIPTION)\n",
    "\n",
    "    number_cult = countRecords('CultivationConditions', 'experimentId', str(expId))\n",
    "    \n",
    "    cultId = expId*100 + number_cult + 1\n",
    "    \n",
    "    addCultivation(str(cultId), CULT_DESCRIPTION, str(expId))\n",
    "    \n",
    "    number_rep = countRecords('TechnicalReplicates', 'cultivationId', str(cultId))\n",
    "    \n",
    "    for i, file in enumerate(files):\n",
    "        print(i, file)\n",
    "        repId = str(cultId) + '_' + str(number_rep + i + 1)\n",
    "        addReplicate(repId, REP_DESCRIPTION, str(cultId), file)"
   ]
  },
  {
   "cell_type": "code",
   "execution_count": 141,
   "id": "298d297b",
   "metadata": {},
   "outputs": [
    {
     "name": "stdout",
     "output_type": "stream",
     "text": [
      "0 /Users/julia/bacterialGrowth_thesis/Data/BT_batch_mucin1/1/BT_batch_mucin1_1.txt\n",
      "1 /Users/julia/bacterialGrowth_thesis/Data/BT_batch_mucin1/2/BT_batch_mucin1_2.txt\n",
      "2 /Users/julia/bacterialGrowth_thesis/Data/BT_batch_mucin1/3/BT_batch_mucin1_3.txt\n",
      "3 /Users/julia/bacterialGrowth_thesis/Data/BT_batch_mucin1/4/BT_batch_mucin1_4.txt\n",
      "4 /Users/julia/bacterialGrowth_thesis/Data/BT_batch_mucin1/5/BT_batch_mucin1_5.txt\n",
      "5 /Users/julia/bacterialGrowth_thesis/Data/BT_batch_mucin1/6/BT_batch_mucin1_6.txt\n",
      "6 /Users/julia/bacterialGrowth_thesis/Data/BT_batch_mucin1/7/BT_batch_mucin1_7.txt\n",
      "7 /Users/julia/bacterialGrowth_thesis/Data/BT_batch_mucin1/8/BT_batch_mucin1_8.txt\n",
      "8 /Users/julia/bacterialGrowth_thesis/Data/BT_batch_mucin1/9/BT_batch_mucin1_9.txt\n"
     ]
    }
   ],
   "source": [
    "addNewExperiment(files)"
   ]
  },
  {
   "cell_type": "code",
   "execution_count": 150,
   "id": "bcee4249",
   "metadata": {},
   "outputs": [
    {
     "data": {
      "text/plain": [
       "'BT_batch_mucin1_1.txt BT_batch_mucin1 1\\n'"
      ]
     },
     "execution_count": 150,
     "metadata": {},
     "output_type": "execute_result"
    }
   ],
   "source": [
    "PROJECT_DIRECTORY = '/Users/julia/bacterialGrowth_thesis/'\n",
    "experimentName = open(PROJECT_DIRECTORY + 'IntermediateFiles/experiments_info.txt', \"r\").readlines()[1]\n",
    "experimentName"
   ]
  },
  {
   "cell_type": "code",
   "execution_count": 151,
   "id": "596906d0",
   "metadata": {},
   "outputs": [
    {
     "data": {
      "text/plain": [
       "'BT_batch_mucin1'"
      ]
     },
     "execution_count": 151,
     "metadata": {},
     "output_type": "execute_result"
    }
   ],
   "source": [
    "[x.split(' ')[1] for x in open(PROJECT_DIRECTORY + 'IntermediateFiles/experiments_info.txt').readlines()][1]"
   ]
  },
  {
   "cell_type": "markdown",
   "id": "42cb299b",
   "metadata": {},
   "source": [
    "## Variable number of arguments"
   ]
  },
  {
   "cell_type": "code",
   "execution_count": 177,
   "id": "aa8a24d8",
   "metadata": {},
   "outputs": [],
   "source": [
    "def addExperiment(**args):\n",
    "    fields = \"(\"\n",
    "    values = \"(\"\n",
    "    for key, val in args.items():\n",
    "        fields = fields + key + ','\n",
    "        values = values + \"'\" +val + \"',\"\n",
    "    fields = fields[:-1] + ')'\n",
    "    values = values[:-1] + ')'\n",
    "    phrase = \"INSERT INTO Experiment \" + fields + \" VALUES \" + values\n",
    "        \n",
    "    last_id = execute(phrase)[0]\n",
    "    return last_id"
   ]
  },
  {
   "cell_type": "code",
   "execution_count": 178,
   "id": "b06f61aa",
   "metadata": {},
   "outputs": [
    {
     "data": {
      "text/plain": [
       "4"
      ]
     },
     "execution_count": 178,
     "metadata": {},
     "output_type": "execute_result"
    }
   ],
   "source": [
    "ph = addExperiment(experimentName='Hola', experimentDescription='Esto es una prueba')\n",
    "ph"
   ]
  },
  {
   "cell_type": "code",
   "execution_count": null,
   "id": "f64c9629",
   "metadata": {},
   "outputs": [],
   "source": []
  }
 ],
 "metadata": {
  "kernelspec": {
   "display_name": "Python 3",
   "language": "python",
   "name": "python3"
  },
  "language_info": {
   "codemirror_mode": {
    "name": "ipython",
    "version": 3
   },
   "file_extension": ".py",
   "mimetype": "text/x-python",
   "name": "python",
   "nbconvert_exporter": "python",
   "pygments_lexer": "ipython3",
   "version": "3.6.10"
  }
 },
 "nbformat": 4,
 "nbformat_minor": 5
}
