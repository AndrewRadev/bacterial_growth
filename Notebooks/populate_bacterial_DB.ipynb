{
 "cells": [
  {
   "cell_type": "code",
   "execution_count": 10,
   "id": "3819cb6f",
   "metadata": {},
   "outputs": [],
   "source": [
    "import os\n",
    "import mysql.connector\n",
    "import pandas as pd\n",
    "import numpy as np\n",
    "import matplotlib.pyplot as plt\n",
    "import seaborn as sns\n",
    "import re\n",
    "from datetime import date\n",
    "%matplotlib inline"
   ]
  },
  {
   "cell_type": "markdown",
   "id": "fb20b0ac",
   "metadata": {},
   "source": [
    "## Variables"
   ]
  },
  {
   "cell_type": "code",
   "execution_count": 4,
   "id": "1948e39c",
   "metadata": {},
   "outputs": [],
   "source": [
    "user_name = os.environ.get('DB_USER')\n",
    "password = os.environ.get('DB_PASSWORD')"
   ]
  },
  {
   "cell_type": "code",
   "execution_count": 5,
   "id": "45937e18",
   "metadata": {},
   "outputs": [],
   "source": [
    "DB_NAME = 'BacterialGrowth'"
   ]
  },
  {
   "cell_type": "code",
   "execution_count": 6,
   "id": "e07f0438",
   "metadata": {},
   "outputs": [],
   "source": [
    "BACTERIA_SPECIES = 'Baceria'\n",
    "BACTERIA_STRAIN = 'de prueba'"
   ]
  },
  {
   "cell_type": "code",
   "execution_count": 7,
   "id": "dc0b8f7c",
   "metadata": {},
   "outputs": [],
   "source": [
    "# First introduce and experiment and then get that EXP_ID and modify it to generate these two\n",
    "CULT_ID = ''\n",
    "REP_ID = ''"
   ]
  },
  {
   "cell_type": "markdown",
   "id": "a3064568",
   "metadata": {},
   "source": [
    "## Connexion to the database"
   ]
  },
  {
   "cell_type": "code",
   "execution_count": 8,
   "id": "0739abb8",
   "metadata": {},
   "outputs": [],
   "source": [
    "cnx = mysql.connector.connect(user=user_name, password=password,host='localhost',database=DB_NAME)"
   ]
  },
  {
   "cell_type": "code",
   "execution_count": 9,
   "id": "a2b2d2ae",
   "metadata": {},
   "outputs": [],
   "source": [
    "# create cursor to read or write\n",
    "cursor = cnx.cursor()"
   ]
  },
  {
   "cell_type": "markdown",
   "id": "bc4f56f2",
   "metadata": {},
   "source": [
    "## Populate database"
   ]
  },
  {
   "cell_type": "code",
   "execution_count": 11,
   "id": "284c396c",
   "metadata": {},
   "outputs": [
    {
     "data": {
      "text/plain": [
       "datetime.date(2023, 3, 14)"
      ]
     },
     "execution_count": 11,
     "metadata": {},
     "output_type": "execute_result"
    }
   ],
   "source": [
    "today = date.today()\n",
    "today"
   ]
  },
  {
   "cell_type": "code",
   "execution_count": 17,
   "id": "a8553f3d",
   "metadata": {},
   "outputs": [],
   "source": [
    "q = f\"\"\" INSERT INTO Experiment (experimentDate) \n",
    "    VALUES ('{today}')\n",
    "    \"\"\"\n",
    "\n",
    "cursor.execute(q)\n",
    "cnx.commit()\n",
    "\n",
    "\n",
    "q = \"SELECT LAST_INSERT_ID();\"\n",
    "cursor.execute(q)\n",
    "records = cursor.fetchall()"
   ]
  },
  {
   "cell_type": "code",
   "execution_count": 25,
   "id": "f7d4052b",
   "metadata": {},
   "outputs": [
    {
     "data": {
      "text/plain": [
       "3"
      ]
     },
     "execution_count": 25,
     "metadata": {},
     "output_type": "execute_result"
    }
   ],
   "source": [
    "last_exp_id = records[0][0]\n",
    "last_exp_id"
   ]
  },
  {
   "cell_type": "code",
   "execution_count": 29,
   "id": "fe80b359",
   "metadata": {},
   "outputs": [],
   "source": [
    "q = f\"\"\" SELECT COUNT(*)\n",
    "    FROM CultivationConditions\n",
    "    WHERE experimentId = '{last_exp_id}'\n",
    "    \"\"\"\n",
    "\n",
    "cursor.execute(q)\n",
    "result=cursor.fetchone()\n",
    "number_of_rows=result[0]"
   ]
  },
  {
   "cell_type": "code",
   "execution_count": 30,
   "id": "b12fe584",
   "metadata": {},
   "outputs": [
    {
     "data": {
      "text/plain": [
       "0"
      ]
     },
     "execution_count": 30,
     "metadata": {},
     "output_type": "execute_result"
    }
   ],
   "source": [
    "number_of_rows"
   ]
  },
  {
   "cell_type": "code",
   "execution_count": 31,
   "id": "79039f41",
   "metadata": {},
   "outputs": [
    {
     "data": {
      "text/plain": [
       "3001"
      ]
     },
     "execution_count": 31,
     "metadata": {},
     "output_type": "execute_result"
    }
   ],
   "source": [
    "CULT_ID = last_id*1000 + number_of_rows + 1\n",
    "CULT_ID"
   ]
  },
  {
   "cell_type": "code",
   "execution_count": 32,
   "id": "c62f069e",
   "metadata": {},
   "outputs": [],
   "source": [
    "q = f\"\"\" INSERT INTO CultivationConditions (cultivationId) \n",
    "    VALUES ('{CULT_ID}')\n",
    "    \"\"\"\n",
    "\n",
    "cursor.execute(q)\n",
    "cnx.commit()"
   ]
  },
  {
   "cell_type": "code",
   "execution_count": 34,
   "id": "07811c6a",
   "metadata": {},
   "outputs": [],
   "source": [
    "q = f\"\"\" SELECT COUNT(*)\n",
    "    FROM TechnicalReplicates\n",
    "    WHERE cultivationId = '{CULT_ID}'\n",
    "    \"\"\"\n",
    "\n",
    "cursor.execute(q)\n",
    "result=cursor.fetchone()\n",
    "number_of_rows=result[0]"
   ]
  },
  {
   "cell_type": "code",
   "execution_count": 35,
   "id": "6927312f",
   "metadata": {},
   "outputs": [
    {
     "data": {
      "text/plain": [
       "0"
      ]
     },
     "execution_count": 35,
     "metadata": {},
     "output_type": "execute_result"
    }
   ],
   "source": [
    "number_of_rows"
   ]
  },
  {
   "cell_type": "code",
   "execution_count": 37,
   "id": "3af93e90",
   "metadata": {},
   "outputs": [
    {
     "data": {
      "text/plain": [
       "'3001_1'"
      ]
     },
     "execution_count": 37,
     "metadata": {},
     "output_type": "execute_result"
    }
   ],
   "source": [
    "REP_ID = str(CULT_ID) + '_' + str(number_of_rows + 1)\n",
    "REP_ID"
   ]
  },
  {
   "cell_type": "code",
   "execution_count": 38,
   "id": "d7d327ca",
   "metadata": {},
   "outputs": [],
   "source": [
    "q = f\"\"\" INSERT INTO TechnicalReplicates (replicateId) \n",
    "    VALUES ('{REP_ID}')\n",
    "    \"\"\"\n",
    "\n",
    "cursor.execute(q)\n",
    "cnx.commit()"
   ]
  },
  {
   "cell_type": "code",
   "execution_count": null,
   "id": "221a6f6e",
   "metadata": {},
   "outputs": [],
   "source": []
  }
 ],
 "metadata": {
  "kernelspec": {
   "display_name": "Python 3",
   "language": "python",
   "name": "python3"
  },
  "language_info": {
   "codemirror_mode": {
    "name": "ipython",
    "version": 3
   },
   "file_extension": ".py",
   "mimetype": "text/x-python",
   "name": "python",
   "nbconvert_exporter": "python",
   "pygments_lexer": "ipython3",
   "version": "3.6.10"
  }
 },
 "nbformat": 4,
 "nbformat_minor": 5
}
