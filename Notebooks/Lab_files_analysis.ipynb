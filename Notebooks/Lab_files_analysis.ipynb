{
 "cells": [
  {
   "cell_type": "markdown",
   "id": "4312efea",
   "metadata": {},
   "source": [
    "# 1) Get files names\n",
    "\n",
    "* This BASH script parses the DataParsed directory and saves the names of the .txt files into `lab_files_names.txt`."
   ]
  },
  {
   "cell_type": "code",
   "execution_count": 26,
   "id": "13da57c0",
   "metadata": {},
   "outputs": [],
   "source": [
    "cd /Users/julia/bacterialGrowth_thesis/\n",
    "\n",
    "ls -lt  DataParsed/ | grep -i .txt | awk '{print $9}' > IntermediateFiles/lab_files_names.txt"
   ]
  },
  {
   "cell_type": "code",
   "execution_count": 27,
   "id": "4bc66ba2",
   "metadata": {},
   "outputs": [
    {
     "name": "stdout",
     "output_type": "stream",
     "text": [
      "     107\n",
      "     107\n"
     ]
    }
   ],
   "source": [
    "cd /Users/julia/bacterialGrowth_thesis/\n",
    "\n",
    "more IntermediateFiles/lab_files_names.txt | wc -l\n",
    "ls -lt DataParsed/ | grep .txt | wc -l"
   ]
  },
  {
   "cell_type": "markdown",
   "id": "c0aae161",
   "metadata": {},
   "source": [
    "## 1.a) Modifications in files names\n",
    "\n",
    "For the moment I will just leave the lab_files_names_modified.txt as I used it in the following scripts. But I will not modify anything, as I had incorrectly assumptions when I modified them."
   ]
  },
  {
   "cell_type": "code",
   "execution_count": 12,
   "id": "1443a653",
   "metadata": {},
   "outputs": [],
   "source": [
    "cd /Users/julia/bacterialGrowth_thesis/IntermediateFiles\n",
    "cp lab_files_names.txt lab_files_names_modified.txt"
   ]
  },
  {
   "cell_type": "code",
   "execution_count": 13,
   "id": "21b5a6b5",
   "metadata": {},
   "outputs": [
    {
     "name": "stdout",
     "output_type": "stream",
     "text": [
      "     107 lab_files_names.txt\n",
      "     107 lab_files_names_modified.txt\n"
     ]
    }
   ],
   "source": [
    "wc -l lab_files_names.txt\n",
    "wc -l lab_files_names_modified.txt"
   ]
  },
  {
   "cell_type": "markdown",
   "id": "eb886e84",
   "metadata": {},
   "source": [
    "# 2) Get experiment names\n",
    "\n",
    "* Extract the different experiment names fro the given directory. Several files belong to the same experiment, but we have one file per replicate.\n",
    "\n",
    "This BASH script gets the modified names and then, by removing the last 6 characters, which are 4 for the extension and 2 for the number of replicates of one experiment, creates a file with the unique names of the experiments. These will be saved in `lab_experiment_names.txt`.\n",
    "This will be useful when we try to classify the experiments depending on the metadata contained in the names the lab gave to each file. \n",
    "Also, in this classification, we will make directories with the names of the experiments that will be gotten from here.\n"
   ]
  },
  {
   "cell_type": "code",
   "execution_count": 14,
   "id": "8bcf0d7f",
   "metadata": {},
   "outputs": [
    {
     "name": "stdout",
     "output_type": "stream",
     "text": [
      "BTRI_WC_RNAseq\n",
      "BTRI_batch_WC\n",
      "BTRI_batch_mucin1\n",
      "BTRI_mucin_RNAseq\n",
      "BTRI_mucin_longterm\n",
      "BT_BTspentWC5\n",
      "BT_BTspentWC5C\n",
      "BT_BTspentWC65\n",
      "BT_BTspentWC65C\n",
      "BT_WC_RNAseq\n"
     ]
    }
   ],
   "source": [
    "awk '{print substr($1,1,length($1)-6)}' lab_files_names_modified.txt | sort | uniq | head"
   ]
  },
  {
   "cell_type": "code",
   "execution_count": 36,
   "id": "2dad52fb",
   "metadata": {},
   "outputs": [],
   "source": [
    "awk '{print substr($1,1,length($1)-6)}' lab_files_names_modified.txt | sort | uniq > lab_experiment_names.txt"
   ]
  },
  {
   "cell_type": "code",
   "execution_count": 37,
   "id": "c974a633",
   "metadata": {},
   "outputs": [
    {
     "name": "stdout",
     "output_type": "stream",
     "text": [
      "      32 lab_experiment_names.txt\n"
     ]
    }
   ],
   "source": [
    "wc -l lab_experiment_names.txt"
   ]
  },
  {
   "cell_type": "markdown",
   "id": "427e24e3",
   "metadata": {},
   "source": [
    "# 3) Get files headers\n",
    "\n",
    "* Get the headers of the files. These fields correspond to the time, the pH measurement, bacterial abundances and metabolites\n",
    "\n",
    "This BASH script goes through the `lab_files_names.txt` to get the true files names and look inside each of them. Each replicate has different (more or less) headers, so this script gets all of them (`lab_files_headers.txt`) and keeps the unique ones. The unique ones are contained in `lab_headers.txt`.\n"
   ]
  },
  {
   "cell_type": "code",
   "execution_count": 15,
   "id": "0fd49d2a",
   "metadata": {},
   "outputs": [],
   "source": [
    "cd /Users/julia/bacterialGrowth_thesis/\n",
    "\n",
    "rm IntermediateFiles/lab_files_headers.txt\n",
    "\n",
    "while read -r file;\n",
    "    do\n",
    "        head -n 1 DataParsed/$file >> IntermediateFiles/lab_files_headers.txt\n",
    "done < IntermediateFiles/lab_files_names.txt"
   ]
  },
  {
   "cell_type": "code",
   "execution_count": 16,
   "id": "e61137c1",
   "metadata": {},
   "outputs": [
    {
     "name": "stdout",
     "output_type": "stream",
     "text": [
      "time OD pH Glucose Pyruvate Succinate Lactate Formate Acetate liquidtotalcount liquidactivecount Neu5Ac\n",
      "time OD pH Glucose Pyruvate Succinate Lactate Formate Acetate liquidtotalcount liquidactivecount Neu5Ac\n",
      "time OD pH liquidactivecount liquidBTactivecount liquidRIactivecount\n",
      "time OD pH liquidactivecount liquidBTactivecount liquidRIactivecount\n",
      "time OD pH liquidactivecount liquidBTactivecount liquidRIactivecount\n",
      "time OD pH Glucose Pyruvate Succinate Lactate Formate Acetate Trehalose Butyrate liquidtotalcount liquidactivecount liquidBTactivecount liquidRIactivecount\n",
      "time OD pH Glucose Pyruvate Succinate Lactate Formate Acetate Trehalose Butyrate liquidtotalcount liquidactivecount liquidBTactivecount liquidRIactivecount\n",
      "time OD pH Glucose Pyruvate Succinate Lactate Formate Acetate Trehalose Butyrate liquidtotalcount liquidactivecount liquidBTactivecount liquidRIactivecount\n",
      "time OD pH Glucose Pyruvate Succinate Lactate Formate Acetate Trehalose Butyrate liquidtotalcount liquidactivecount liquidBTactivecount liquidRIactivecount\n",
      "time OD pH Glucose Pyruvate Succinate Lactate Formate Acetate Trehalose Butyrate liquidtotalcount liquidactivecount liquidBTactivecount liquidRIactivecount\n",
      "     107\n"
     ]
    }
   ],
   "source": [
    "cd /Users/julia/bacterialGrowth_thesis/IntermediateFiles/\n",
    "\n",
    "head lab_files_headers.txt\n",
    "\n",
    "more lab_files_headers.txt | wc -l"
   ]
  },
  {
   "cell_type": "code",
   "execution_count": 19,
   "id": "eafa6b60",
   "metadata": {},
   "outputs": [],
   "source": [
    "cat lab_files_headers.txt | tr \" \" \"\\n\" | sort | uniq > lab_headers.txt"
   ]
  },
  {
   "cell_type": "code",
   "execution_count": 20,
   "id": "359badcd",
   "metadata": {},
   "outputs": [
    {
     "name": "stdout",
     "output_type": "stream",
     "text": [
      "Acetate\n",
      "Butyrate\n",
      "Formate\n",
      "Fucose\n",
      "Galactose\n",
      "Glucose\n",
      "Lactate\n",
      "Mannose\n",
      "Neu5Ac\n",
      "OD\n"
     ]
    }
   ],
   "source": [
    "head lab_headers.txt"
   ]
  },
  {
   "cell_type": "markdown",
   "id": "b69e5c46",
   "metadata": {},
   "source": [
    "# 4) Obtain experiment information\n",
    "\n",
    "* Create an information file containing the name of each file, the experiment it belongs to and the number of replicate.\n",
    "* Include more fields later!!!\n",
    "\n",
    "Files must be name in the following way: `[experimentName]_[numberReplicate].txt` where `[experimentName]` is the name that will be placed in the database and `[numberReplicate]` the number of technical replicate for one concrete experiment.\n",
    "\n",
    "For the moment, no information will be taken from the experiment name given in the lab in order to populate the DB."
   ]
  },
  {
   "cell_type": "code",
   "execution_count": 34,
   "id": "db508e95",
   "metadata": {},
   "outputs": [
    {
     "name": "stdout",
     "output_type": "stream",
     "text": [
      "     108\n"
     ]
    }
   ],
   "source": [
    "rm experiments_info.txt\n",
    "\n",
    "echo 'file_name,experiment_name,replicate_number' | column -t -s \",\" > experiments_info.txt\n",
    "\n",
    "while read -r file; do\n",
    "\n",
    "    file_name=$file\n",
    "    \n",
    "    experiment_name=${file_name:0:${#file_name}-6}\n",
    "    \n",
    "    replicate_number=${file_name:${#file_name}-5:1}\n",
    "    \n",
    "    echo $file_name $experiment_name $replicate_number >> experiments_info.txt\n",
    "    \n",
    "done < lab_files_names.txt\n",
    "\n",
    "more experiments_info.txt | wc -l"
   ]
  },
  {
   "cell_type": "code",
   "execution_count": 35,
   "id": "9915bcc3",
   "metadata": {},
   "outputs": [
    {
     "name": "stdout",
     "output_type": "stream",
     "text": [
      "file_name  experiment_name  replicate_number\n",
      "BT_batch_mucin1_1.txt BT_batch_mucin1 1\n",
      "BT_batch_mucin1_4.txt BT_batch_mucin1 4\n",
      "BTRI_WC_RNAseq_1.txt BTRI_WC_RNAseq 1\n",
      "BTRI_WC_RNAseq_2.txt BTRI_WC_RNAseq 2\n",
      "BTRI_WC_RNAseq_3.txt BTRI_WC_RNAseq 3\n",
      "BTRI_batch_WC_1.txt BTRI_batch_WC 1\n",
      "BTRI_batch_WC_2.txt BTRI_batch_WC 2\n",
      "BTRI_batch_WC_3.txt BTRI_batch_WC 3\n",
      "BTRI_batch_WC_4.txt BTRI_batch_WC 4\n"
     ]
    }
   ],
   "source": [
    "head experiments_info.txt"
   ]
  },
  {
   "cell_type": "code",
   "execution_count": 38,
   "id": "335da6b2",
   "metadata": {},
   "outputs": [],
   "source": [
    "tail -n +2 experiments_info.txt > experiments_info_mod.txt"
   ]
  },
  {
   "cell_type": "code",
   "execution_count": 4,
   "id": "07a949f5",
   "metadata": {},
   "outputs": [
    {
     "name": "stdout",
     "output_type": "stream",
     "text": [
      "BT_batch_mucin1_1.txt BT_batch_mucin1 1\n",
      "BT_batch_mucin1_4.txt BT_batch_mucin1 4\n",
      "BTRI_WC_RNAseq_1.txt BTRI_WC_RNAseq 1\n",
      "BTRI_WC_RNAseq_2.txt BTRI_WC_RNAseq 2\n",
      "BTRI_WC_RNAseq_3.txt BTRI_WC_RNAseq 3\n",
      "BTRI_batch_WC_1.txt BTRI_batch_WC 1\n",
      "BTRI_batch_WC_2.txt BTRI_batch_WC 2\n",
      "BTRI_batch_WC_3.txt BTRI_batch_WC 3\n",
      "BTRI_batch_WC_4.txt BTRI_batch_WC 4\n",
      "BTRI_batch_WC_5.txt BTRI_batch_WC 5\n"
     ]
    }
   ],
   "source": [
    "head experiments_info_mod.txt"
   ]
  },
  {
   "cell_type": "markdown",
   "id": "513328da",
   "metadata": {},
   "source": [
    "# 5) Create directories\n",
    "\n",
    "This BASH script creates all the directories in which the replicates’ files are going to be placed. It takes the `experiments_info_mod.txt` file and gets the columns with the experiment name and the replicate number. It first creates a directory in the following way:\n",
    "\n",
    "`/Users/julia/bacterialGrowth_thesis/Data/$experiment/$replicate`\n"
   ]
  },
  {
   "cell_type": "code",
   "execution_count": 90,
   "id": "0724012c",
   "metadata": {},
   "outputs": [],
   "source": [
    "cd /Users/julia/bacterialGrowth_thesis/IntermediateFiles\n",
    "while read -r line; do\n",
    "    \n",
    "    echo $line > line.txt\n",
    "\n",
    "    experiment=$(awk '{print $2}' line.txt)\n",
    "    replicate=$(awk '{print $3}' line.txt)\n",
    "\n",
    "    file=$(awk '{print $1}' line.txt)\n",
    "\n",
    "    cd /Users/julia/bacterialGrowth_thesis/Data\n",
    "    mkdir -p $experiment\n",
    "    mkdir -p $experiment/$replicate\n",
    "\n",
    "    path_origin=/Users/julia/bacterialGrowth_thesis/DataParsed/\"$file\"\n",
    "    path_destination=/Users/julia/bacterialGrowth_thesis/Data/$experiment/$replicate/\n",
    "    \n",
    "    cp $path_origin $path_destination\n",
    "    \n",
    "done < experiments_info_mod.txt\n",
    "\n",
    "rm line.txt"
   ]
  },
  {
   "cell_type": "markdown",
   "id": "22d76f24",
   "metadata": {},
   "source": [
    "# 6) Separate files into Abundances, Metabolites, pH\n",
    "\n",
    "*Maybe it is better to pass the whole file to the Python script and in there separate it using pandas*"
   ]
  },
  {
   "cell_type": "code",
   "execution_count": 102,
   "id": "1751a496",
   "metadata": {},
   "outputs": [
    {
     "name": "stdout",
     "output_type": "stream",
     "text": [
      "time OD pH Glucose Pyruvate Succinate Lactate Formate Acetate liquidtotalcount liquidactivecount Neu5Ac\n",
      "0 0.014 6.74 7.6 7.94 0.61 0.58 1.57 2.17 4753 4109 1.29\n",
      "4 0.024 6.56 7.53 7.96 0.66 0.58 1.78 2.23 17257 16616 1.27\n",
      "8 0.211 6.31 6.89 8.21 1.22 0.62 2.32 3.12 228160 227030 1.26\n",
      "12 0.657 5.59 4.42 7.14 3.78 1.32 3.8 6.07 763902 762292 1.28\n",
      "16 0.868 5.14 1.44 3.55 6.17 2.98 2.92 9.52 1728989 1726829 1.27\n",
      "20 0.828 5.04 0.23 1.3 7.8 3.85 2.89 11.45 1168993 1167433 1.26\n",
      "24 0.7 5.01 0.15 0.85 8.6 3.71 2.91 12.03 592834 574334 1.26\n",
      "28 0.633 4.97 0.13 0.8 9.12 3.75 2.88 12.18 930189 928199 1.27\n",
      "32 0.615 5 0.15 0.79 9.12 3.71 2.86 12.22 866243 863953 1.28\n"
     ]
    }
   ],
   "source": [
    "cd ../DataParsed\n",
    "\n",
    "head BT_batch_mucin1_1.txt"
   ]
  },
  {
   "cell_type": "code",
   "execution_count": 107,
   "id": "56e55672",
   "metadata": {},
   "outputs": [
    {
     "name": "stdout",
     "output_type": "stream",
     "text": [
      "time\n",
      "0\n",
      "4\n",
      "8\n",
      "12\n",
      "16\n",
      "20\n",
      "24\n",
      "28\n",
      "32\n",
      "38\n",
      "42\n",
      "48\n",
      "72\n"
     ]
    }
   ],
   "source": [
    "awk -v col='time' 'NR==1{for(i=1;i<=NF;i++){if($i==col){c=i;break}} print $c} NR>1{print $c}' BT_batch_mucin1_1.txt"
   ]
  },
  {
   "cell_type": "code",
   "execution_count": 108,
   "id": "f11bd6f0",
   "metadata": {},
   "outputs": [
    {
     "name": "stdout",
     "output_type": "stream",
     "text": [
      "time \n",
      "0 \n",
      "4 \n",
      "8 \n",
      "12 \n",
      "16 \n",
      "20 \n",
      "24 \n",
      "28 \n",
      "32 \n",
      "38 \n",
      "42 \n",
      "48 \n",
      "72 \n"
     ]
    }
   ],
   "source": [
    "awk 'FNR==1{f++}{a[f,FNR]=$1}END{for(x=1;x<=FNR;x++){for(y=1;y<ARGC;y++)printf(\"%s \",a[y,x]);print \"\"}}' BT_batch_mucin1_1.txt\n"
   ]
  },
  {
   "cell_type": "code",
   "execution_count": null,
   "id": "c60d2a24",
   "metadata": {},
   "outputs": [],
   "source": []
  }
 ],
 "metadata": {
  "kernelspec": {
   "display_name": "Bash",
   "language": "bash",
   "name": "bash"
  },
  "language_info": {
   "codemirror_mode": "shell",
   "file_extension": ".sh",
   "mimetype": "text/x-sh",
   "name": "bash"
  }
 },
 "nbformat": 4,
 "nbformat_minor": 5
}
